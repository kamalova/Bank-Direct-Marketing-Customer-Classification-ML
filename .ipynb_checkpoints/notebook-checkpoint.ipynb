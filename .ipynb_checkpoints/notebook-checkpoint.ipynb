{
 "cells": [
  {
   "cell_type": "markdown",
   "metadata": {},
   "source": [
    "## Customer Classification for Bank Direct Marketing"
   ]
  },
  {
   "cell_type": "markdown",
   "metadata": {},
   "source": [
    "#### Author : Nurgul Kurbanali kyzy"
   ]
  },
  {
   "cell_type": "markdown",
   "metadata": {},
   "source": [
    "### 1. Overview"
   ]
  },
  {
   "cell_type": "markdown",
   "metadata": {},
   "source": [
    "As It is a marketing problem a lot of resources are included and it is very important to optimise results to save resources. The target variable is ‘deposit’ which reads yes or no based on success or failure of phone calls. Finding out only those clients which have higher chances of saying yes to subscription of term deposit , will save a lot of manhours and efforts. Predicting as many positives as possible out of actual positives from dataset is the goal here, thus recall has been chosen as one of the performance matrices along with an accuracy score.\n",
    "As our data are imbalanced, we used oversampling method during the model building process. After preprocessing the data, we build nine model including baseline model. The optimal model we get is Random Forest Classifier."
   ]
  },
  {
   "cell_type": "markdown",
   "metadata": {},
   "source": [
    "### 2. Business Understanding"
   ]
  },
  {
   "cell_type": "markdown",
   "metadata": {},
   "source": [
    "A term deposit is a cash investment held at a financial institution. Your money is invested for an agreed rate of interest over a fixed amount of time, or term. The bank has various outreach plans to sell term deposits to their customers such as email marketing, advertisements, telephonic marketing, and digital marketing.\n",
    "\n",
    "The older marketing options have contributed minimal in increasing the business of banks. Due to internal competition and financial crisis European Banks were under pressure to increase their financial assets. They offered long term deposits with good interest rates to the people using direct marketing strategy but contacting many people takes lot of time and success rate is also less. So they want to take help of the technology to come up with a solution that increases the efficiency by making fewer calls but improves the success rate.Portuguese Banking Institution has provided the data related to marketing campaigns that took over phone calls. Finding out the characteristics that are helping Bank to make customers successfully subscribe for deposits, which helps in increasing campaign efficiently and selecting high value customers.\n",
    "\n",
    "The goal of this project is to building Machine Learning model that learns the unknown patterns and classifying whether client will subscribe(yes/no) a term deposit (variable y)."
   ]
  },
  {
   "cell_type": "markdown",
   "metadata": {},
   "source": [
    "### 3. Data Understanding"
   ]
  },
  {
   "cell_type": "markdown",
   "metadata": {},
   "source": [
    "Data set is taken from [UCI Machine Learning repository](https://archive.ics.uci.edu/ml/datasets/Bank+Marketing). This data based on direct marketing campaigns of a Portuguese banking\n",
    "institution. The marketing campaigns are based on phone calls and related to 17 campaigns, which occurred from May 2008 to November 2010. Often, more than one contact to the same client was required, in order to access if the product (bank term\n",
    "deposit) would be (or not) subscribed."
   ]
  },
  {
   "cell_type": "markdown",
   "metadata": {},
   "source": [
    "#### 3.1 Loading Data Modelling Libraries"
   ]
  },
  {
   "cell_type": "code",
   "execution_count": 114,
   "metadata": {},
   "outputs": [],
   "source": [
    "# Importing necessary libraries\n",
    "import pandas as pd\n",
    "import numpy as np\n",
    "import csv\n",
    "# setting pandas display to avoid scientific notation in my dataframes\n",
    "pd.options.display.float_format = '{:.3f}'.format\n",
    "# Data visualization\n",
    "import seaborn as sns\n",
    "sns.set_style('whitegrid')\n",
    "import matplotlib.pyplot as plt\n",
    "%matplotlib inline\n",
    "# Seaborn's beautiful styling\n",
    "import seaborn as sns\n",
    "sns.set_style('darkgrid', {'axes.facecolor': '0.9'})\n",
    "\n",
    "# Model building sklearn\n",
    "from sklearn.preprocessing import StandardScaler\n",
    "from sklearn.neighbors import KNeighborsClassifier\n",
    "from sklearn.model_selection import train_test_split\n",
    "from sklearn.ensemble import GradientBoostingClassifier\n",
    "from sklearn.linear_model import LogisticRegression\n",
    "from sklearn.metrics import (accuracy_score, recall_score,f1_score, auc,\n",
    "confusion_matrix, classification_report, precision_recall_curve)\n",
    "from sklearn.metrics import plot_confusion_matrix\n",
    "from sklearn.metrics import average_precision_score\n",
    "from sklearn.tree import DecisionTreeClassifier\n",
    "from sklearn.ensemble import AdaBoostClassifier\n",
    "from sklearn.ensemble import RandomForestClassifier\n",
    "from imblearn.ensemble import RUSBoostClassifier\n",
    "from sklearn.preprocessing import LabelEncoder\n",
    "from scipy import stats\n",
    "from sklearn.dummy import DummyClassifier\n",
    "from sklearn.pipeline import Pipeline\n",
    "from sklearn.model_selection import GridSearchCV\n",
    "from xgboost import XGBClassifier\n",
    "from lightgbm import LGBMClassifier\n",
    "from sklearn.preprocessing import OneHotEncoder\n",
    "from collections import Counter \n",
    "from imblearn.over_sampling import SMOTENC\n",
    "# to get rid of the warnings\n",
    "import warnings\n",
    "warnings.filterwarnings(\"ignore\")"
   ]
  },
  {
   "cell_type": "code",
   "execution_count": 115,
   "metadata": {},
   "outputs": [],
   "source": [
    "# Downloading dataset\n",
    "df = pd.read_csv('dataset/bank-full.csv', delimiter=';', quotechar='\"',\n",
    "                 encoding='utf8', quoting=csv.QUOTE_ALL, skipinitialspace=True)"
   ]
  },
  {
   "cell_type": "code",
   "execution_count": 116,
   "metadata": {},
   "outputs": [
    {
     "data": {
      "text/html": [
       "<div>\n",
       "<style scoped>\n",
       "    .dataframe tbody tr th:only-of-type {\n",
       "        vertical-align: middle;\n",
       "    }\n",
       "\n",
       "    .dataframe tbody tr th {\n",
       "        vertical-align: top;\n",
       "    }\n",
       "\n",
       "    .dataframe thead th {\n",
       "        text-align: right;\n",
       "    }\n",
       "</style>\n",
       "<table border=\"1\" class=\"dataframe\">\n",
       "  <thead>\n",
       "    <tr style=\"text-align: right;\">\n",
       "      <th></th>\n",
       "      <th>age</th>\n",
       "      <th>job</th>\n",
       "      <th>marital</th>\n",
       "      <th>education</th>\n",
       "      <th>default</th>\n",
       "      <th>balance</th>\n",
       "      <th>housing</th>\n",
       "      <th>loan</th>\n",
       "      <th>contact</th>\n",
       "      <th>day</th>\n",
       "      <th>month</th>\n",
       "      <th>duration</th>\n",
       "      <th>campaign</th>\n",
       "      <th>pdays</th>\n",
       "      <th>previous</th>\n",
       "      <th>poutcome</th>\n",
       "      <th>y</th>\n",
       "    </tr>\n",
       "  </thead>\n",
       "  <tbody>\n",
       "    <tr>\n",
       "      <th>0</th>\n",
       "      <td>58</td>\n",
       "      <td>management</td>\n",
       "      <td>married</td>\n",
       "      <td>tertiary</td>\n",
       "      <td>no</td>\n",
       "      <td>2143</td>\n",
       "      <td>yes</td>\n",
       "      <td>no</td>\n",
       "      <td>unknown</td>\n",
       "      <td>5</td>\n",
       "      <td>may</td>\n",
       "      <td>261</td>\n",
       "      <td>1</td>\n",
       "      <td>-1</td>\n",
       "      <td>0</td>\n",
       "      <td>unknown</td>\n",
       "      <td>no</td>\n",
       "    </tr>\n",
       "    <tr>\n",
       "      <th>1</th>\n",
       "      <td>44</td>\n",
       "      <td>technician</td>\n",
       "      <td>single</td>\n",
       "      <td>secondary</td>\n",
       "      <td>no</td>\n",
       "      <td>29</td>\n",
       "      <td>yes</td>\n",
       "      <td>no</td>\n",
       "      <td>unknown</td>\n",
       "      <td>5</td>\n",
       "      <td>may</td>\n",
       "      <td>151</td>\n",
       "      <td>1</td>\n",
       "      <td>-1</td>\n",
       "      <td>0</td>\n",
       "      <td>unknown</td>\n",
       "      <td>no</td>\n",
       "    </tr>\n",
       "    <tr>\n",
       "      <th>2</th>\n",
       "      <td>33</td>\n",
       "      <td>entrepreneur</td>\n",
       "      <td>married</td>\n",
       "      <td>secondary</td>\n",
       "      <td>no</td>\n",
       "      <td>2</td>\n",
       "      <td>yes</td>\n",
       "      <td>yes</td>\n",
       "      <td>unknown</td>\n",
       "      <td>5</td>\n",
       "      <td>may</td>\n",
       "      <td>76</td>\n",
       "      <td>1</td>\n",
       "      <td>-1</td>\n",
       "      <td>0</td>\n",
       "      <td>unknown</td>\n",
       "      <td>no</td>\n",
       "    </tr>\n",
       "    <tr>\n",
       "      <th>3</th>\n",
       "      <td>47</td>\n",
       "      <td>blue-collar</td>\n",
       "      <td>married</td>\n",
       "      <td>unknown</td>\n",
       "      <td>no</td>\n",
       "      <td>1506</td>\n",
       "      <td>yes</td>\n",
       "      <td>no</td>\n",
       "      <td>unknown</td>\n",
       "      <td>5</td>\n",
       "      <td>may</td>\n",
       "      <td>92</td>\n",
       "      <td>1</td>\n",
       "      <td>-1</td>\n",
       "      <td>0</td>\n",
       "      <td>unknown</td>\n",
       "      <td>no</td>\n",
       "    </tr>\n",
       "    <tr>\n",
       "      <th>4</th>\n",
       "      <td>33</td>\n",
       "      <td>unknown</td>\n",
       "      <td>single</td>\n",
       "      <td>unknown</td>\n",
       "      <td>no</td>\n",
       "      <td>1</td>\n",
       "      <td>no</td>\n",
       "      <td>no</td>\n",
       "      <td>unknown</td>\n",
       "      <td>5</td>\n",
       "      <td>may</td>\n",
       "      <td>198</td>\n",
       "      <td>1</td>\n",
       "      <td>-1</td>\n",
       "      <td>0</td>\n",
       "      <td>unknown</td>\n",
       "      <td>no</td>\n",
       "    </tr>\n",
       "  </tbody>\n",
       "</table>\n",
       "</div>"
      ],
      "text/plain": [
       "   age           job  marital  education default  balance housing loan  \\\n",
       "0   58    management  married   tertiary      no     2143     yes   no   \n",
       "1   44    technician   single  secondary      no       29     yes   no   \n",
       "2   33  entrepreneur  married  secondary      no        2     yes  yes   \n",
       "3   47   blue-collar  married    unknown      no     1506     yes   no   \n",
       "4   33       unknown   single    unknown      no        1      no   no   \n",
       "\n",
       "   contact  day month  duration  campaign  pdays  previous poutcome   y  \n",
       "0  unknown    5   may       261         1     -1         0  unknown  no  \n",
       "1  unknown    5   may       151         1     -1         0  unknown  no  \n",
       "2  unknown    5   may        76         1     -1         0  unknown  no  \n",
       "3  unknown    5   may        92         1     -1         0  unknown  no  \n",
       "4  unknown    5   may       198         1     -1         0  unknown  no  "
      ]
     },
     "execution_count": 116,
     "metadata": {},
     "output_type": "execute_result"
    }
   ],
   "source": [
    "# Displaying first 5 rows \n",
    "df.head()"
   ]
  },
  {
   "cell_type": "code",
   "execution_count": 117,
   "metadata": {},
   "outputs": [
    {
     "name": "stdout",
     "output_type": "stream",
     "text": [
      "<class 'pandas.core.frame.DataFrame'>\n",
      "RangeIndex: 45211 entries, 0 to 45210\n",
      "Data columns (total 17 columns):\n",
      " #   Column     Non-Null Count  Dtype \n",
      "---  ------     --------------  ----- \n",
      " 0   age        45211 non-null  int64 \n",
      " 1   job        45211 non-null  object\n",
      " 2   marital    45211 non-null  object\n",
      " 3   education  45211 non-null  object\n",
      " 4   default    45211 non-null  object\n",
      " 5   balance    45211 non-null  int64 \n",
      " 6   housing    45211 non-null  object\n",
      " 7   loan       45211 non-null  object\n",
      " 8   contact    45211 non-null  object\n",
      " 9   day        45211 non-null  int64 \n",
      " 10  month      45211 non-null  object\n",
      " 11  duration   45211 non-null  int64 \n",
      " 12  campaign   45211 non-null  int64 \n",
      " 13  pdays      45211 non-null  int64 \n",
      " 14  previous   45211 non-null  int64 \n",
      " 15  poutcome   45211 non-null  object\n",
      " 16  y          45211 non-null  object\n",
      "dtypes: int64(7), object(10)\n",
      "memory usage: 5.9+ MB\n"
     ]
    }
   ],
   "source": [
    "#  Information about the DataFrame\n",
    "df.info()"
   ]
  },
  {
   "cell_type": "code",
   "execution_count": 118,
   "metadata": {},
   "outputs": [
    {
     "data": {
      "text/html": [
       "<div>\n",
       "<style scoped>\n",
       "    .dataframe tbody tr th:only-of-type {\n",
       "        vertical-align: middle;\n",
       "    }\n",
       "\n",
       "    .dataframe tbody tr th {\n",
       "        vertical-align: top;\n",
       "    }\n",
       "\n",
       "    .dataframe thead th {\n",
       "        text-align: right;\n",
       "    }\n",
       "</style>\n",
       "<table border=\"1\" class=\"dataframe\">\n",
       "  <thead>\n",
       "    <tr style=\"text-align: right;\">\n",
       "      <th></th>\n",
       "      <th>age</th>\n",
       "      <th>balance</th>\n",
       "      <th>day</th>\n",
       "      <th>duration</th>\n",
       "      <th>campaign</th>\n",
       "      <th>pdays</th>\n",
       "      <th>previous</th>\n",
       "    </tr>\n",
       "  </thead>\n",
       "  <tbody>\n",
       "    <tr>\n",
       "      <th>count</th>\n",
       "      <td>45211.000</td>\n",
       "      <td>45211.000</td>\n",
       "      <td>45211.000</td>\n",
       "      <td>45211.000</td>\n",
       "      <td>45211.000</td>\n",
       "      <td>45211.000</td>\n",
       "      <td>45211.000</td>\n",
       "    </tr>\n",
       "    <tr>\n",
       "      <th>mean</th>\n",
       "      <td>40.936</td>\n",
       "      <td>1362.272</td>\n",
       "      <td>15.806</td>\n",
       "      <td>258.163</td>\n",
       "      <td>2.764</td>\n",
       "      <td>40.198</td>\n",
       "      <td>0.580</td>\n",
       "    </tr>\n",
       "    <tr>\n",
       "      <th>std</th>\n",
       "      <td>10.619</td>\n",
       "      <td>3044.766</td>\n",
       "      <td>8.322</td>\n",
       "      <td>257.528</td>\n",
       "      <td>3.098</td>\n",
       "      <td>100.129</td>\n",
       "      <td>2.303</td>\n",
       "    </tr>\n",
       "    <tr>\n",
       "      <th>min</th>\n",
       "      <td>18.000</td>\n",
       "      <td>-8019.000</td>\n",
       "      <td>1.000</td>\n",
       "      <td>0.000</td>\n",
       "      <td>1.000</td>\n",
       "      <td>-1.000</td>\n",
       "      <td>0.000</td>\n",
       "    </tr>\n",
       "    <tr>\n",
       "      <th>25%</th>\n",
       "      <td>33.000</td>\n",
       "      <td>72.000</td>\n",
       "      <td>8.000</td>\n",
       "      <td>103.000</td>\n",
       "      <td>1.000</td>\n",
       "      <td>-1.000</td>\n",
       "      <td>0.000</td>\n",
       "    </tr>\n",
       "    <tr>\n",
       "      <th>50%</th>\n",
       "      <td>39.000</td>\n",
       "      <td>448.000</td>\n",
       "      <td>16.000</td>\n",
       "      <td>180.000</td>\n",
       "      <td>2.000</td>\n",
       "      <td>-1.000</td>\n",
       "      <td>0.000</td>\n",
       "    </tr>\n",
       "    <tr>\n",
       "      <th>75%</th>\n",
       "      <td>48.000</td>\n",
       "      <td>1428.000</td>\n",
       "      <td>21.000</td>\n",
       "      <td>319.000</td>\n",
       "      <td>3.000</td>\n",
       "      <td>-1.000</td>\n",
       "      <td>0.000</td>\n",
       "    </tr>\n",
       "    <tr>\n",
       "      <th>max</th>\n",
       "      <td>95.000</td>\n",
       "      <td>102127.000</td>\n",
       "      <td>31.000</td>\n",
       "      <td>4918.000</td>\n",
       "      <td>63.000</td>\n",
       "      <td>871.000</td>\n",
       "      <td>275.000</td>\n",
       "    </tr>\n",
       "  </tbody>\n",
       "</table>\n",
       "</div>"
      ],
      "text/plain": [
       "            age    balance       day  duration  campaign     pdays  previous\n",
       "count 45211.000  45211.000 45211.000 45211.000 45211.000 45211.000 45211.000\n",
       "mean     40.936   1362.272    15.806   258.163     2.764    40.198     0.580\n",
       "std      10.619   3044.766     8.322   257.528     3.098   100.129     2.303\n",
       "min      18.000  -8019.000     1.000     0.000     1.000    -1.000     0.000\n",
       "25%      33.000     72.000     8.000   103.000     1.000    -1.000     0.000\n",
       "50%      39.000    448.000    16.000   180.000     2.000    -1.000     0.000\n",
       "75%      48.000   1428.000    21.000   319.000     3.000    -1.000     0.000\n",
       "max      95.000 102127.000    31.000  4918.000    63.000   871.000   275.000"
      ]
     },
     "execution_count": 118,
     "metadata": {},
     "output_type": "execute_result"
    }
   ],
   "source": [
    "# 5 summary statistics\n",
    "df.describe()"
   ]
  },
  {
   "cell_type": "markdown",
   "metadata": {},
   "source": [
    "#### 3.2.   Data Preprocessing"
   ]
  },
  {
   "cell_type": "markdown",
   "metadata": {},
   "source": [
    "##### Handling Missing Values "
   ]
  },
  {
   "cell_type": "code",
   "execution_count": 119,
   "metadata": {},
   "outputs": [
    {
     "data": {
      "text/plain": [
       "age          0\n",
       "job          0\n",
       "marital      0\n",
       "education    0\n",
       "default      0\n",
       "balance      0\n",
       "housing      0\n",
       "loan         0\n",
       "contact      0\n",
       "day          0\n",
       "month        0\n",
       "duration     0\n",
       "campaign     0\n",
       "pdays        0\n",
       "previous     0\n",
       "poutcome     0\n",
       "y            0\n",
       "dtype: int64"
      ]
     },
     "execution_count": 119,
     "metadata": {},
     "output_type": "execute_result"
    }
   ],
   "source": [
    "# Checking for Null values\n",
    "df.isna().sum()"
   ]
  },
  {
   "cell_type": "markdown",
   "metadata": {},
   "source": [
    "##### Checking for Outliers"
   ]
  },
  {
   "cell_type": "code",
   "execution_count": 120,
   "metadata": {},
   "outputs": [
    {
     "data": {
      "image/png": "[encoded data removed]",
      "text/plain": [
       "<Figure size 1440x864 with 8 Axes>"
      ]
     },
     "metadata": {},
     "output_type": "display_data"
    }
   ],
   "source": [
    "# Plotting outliers\n",
    "fig, axes = plt.subplots(nrows = 2, ncols = 4)    # axes is 2d array (2x4)\n",
    "axes = axes.flatten()        \n",
    "fig.set_size_inches(20, 12)\n",
    "colors =['#003049','#D62828']\n",
    "num_col = df.select_dtypes('int64')\n",
    "for ax, col in zip(axes, num_col.columns):\n",
    "    sns.boxplot(x='y', y=df[col],ax = ax,  notch= True, data=df, palette=colors)\n",
    "    axes.flat[-1].set_visible(False) # to remove last plot\n"
   ]
  },
  {
   "cell_type": "markdown",
   "metadata": {},
   "source": [
    "From the above boxplot we can say  that for both the customers that subscibed or didn’t subscribe a term deposit, has a median age of around 36/40. "
   ]
  },
  {
   "cell_type": "markdown",
   "metadata": {},
   "source": [
    "Outlier removal means deleting extreme values from  dataset before  perform analyses. We aim to delete any dirty data while retaining true extreme values.<p>\n",
    "It’s a tricky procedure because it’s often impossible to tell the two types apart for sure. Deleting true outliers may lead to a biased dataset and an inaccurate conclusion.<p>\n",
    "    We will just drop some outliers exceeding the upper fence in <mark>duration</mark>  <mark>previous</mark> columns"
   ]
  },
  {
   "cell_type": "code",
   "execution_count": 121,
   "metadata": {},
   "outputs": [],
   "source": [
    "# Dropping extreme values\n",
    "df.drop(df[df['duration'] > 4500].index, inplace = True)\n",
    "df.drop(df[df['previous'] > 250].index, inplace = True)"
   ]
  },
  {
   "cell_type": "code",
   "execution_count": 122,
   "metadata": {},
   "outputs": [
    {
     "data": {
      "text/plain": [
       "(45209, 17)"
      ]
     },
     "execution_count": 122,
     "metadata": {},
     "output_type": "execute_result"
    }
   ],
   "source": [
    "# Checking lenth of DataFrame\n",
    "df.shape"
   ]
  },
  {
   "cell_type": "markdown",
   "metadata": {},
   "source": [
    "#####  Data Distribution"
   ]
  },
  {
   "cell_type": "code",
   "execution_count": 123,
   "metadata": {},
   "outputs": [
    {
     "data": {
      "text/plain": [
       "<AxesSubplot:title={'center':'Frequency distribution of the target variables'}>"
      ]
     },
     "execution_count": 123,
     "metadata": {},
     "output_type": "execute_result"
    },
    {
     "data": {
      "image/png": "[encoded data removed]",
      "text/plain": [
       "<Figure size 432x288 with 1 Axes>"
      ]
     },
     "metadata": {},
     "output_type": "display_data"
    }
   ],
   "source": [
    "# Checking for class balance\n",
    "df['y'].value_counts().plot(kind='barh', title=\"Frequency distribution of the target variables\", color='#F77F00')"
   ]
  },
  {
   "cell_type": "markdown",
   "metadata": {},
   "source": [
    "This is an imbalanced classification means that there are too few examples of the minority class for a model to effectively learn the decision boundary. "
   ]
  },
  {
   "cell_type": "code",
   "execution_count": 124,
   "metadata": {},
   "outputs": [],
   "source": [
    "# Renaming target column\n",
    "df.rename(columns={\"y\": \"target\"}, inplace=True)"
   ]
  },
  {
   "cell_type": "code",
   "execution_count": 125,
   "metadata": {},
   "outputs": [
    {
     "data": {
      "text/plain": [
       "array(['no', 'yes'], dtype=object)"
      ]
     },
     "execution_count": 125,
     "metadata": {},
     "output_type": "execute_result"
    }
   ],
   "source": [
    "# Checking for unique values\n",
    "df.target.unique()"
   ]
  },
  {
   "cell_type": "code",
   "execution_count": 126,
   "metadata": {},
   "outputs": [],
   "source": [
    "# Changing values from str to numeric val\n",
    "df['target'] = df['target'].map({'yes': 1, 'no': 0})"
   ]
  },
  {
   "cell_type": "code",
   "execution_count": 127,
   "metadata": {
    "scrolled": true
   },
   "outputs": [
    {
     "data": {
      "text/plain": [
       "job          object\n",
       "marital      object\n",
       "education    object\n",
       "default      object\n",
       "housing      object\n",
       "loan         object\n",
       "contact      object\n",
       "month        object\n",
       "poutcome     object\n",
       "dtype: object"
      ]
     },
     "execution_count": 127,
     "metadata": {},
     "output_type": "execute_result"
    }
   ],
   "source": [
    "# Displaying non-object data type columns\n",
    "df.dtypes[df.dtypes == 'object']"
   ]
  },
  {
   "cell_type": "code",
   "execution_count": 128,
   "metadata": {},
   "outputs": [],
   "source": [
    "# Renaming some columns\n",
    "df.rename(columns = {'default':'has_credit', 'housing':'has_housing_loan',\n",
    "                     'loan':'has_personal_loan', 'poutcome':'prev_camp_outc'}, inplace = True)"
   ]
  },
  {
   "cell_type": "code",
   "execution_count": 129,
   "metadata": {},
   "outputs": [
    {
     "data": {
      "image/png": "[encoded data removed]",
      "text/plain": [
       "<Figure size 1080x360 with 1 Axes>"
      ]
     },
     "metadata": {},
     "output_type": "display_data"
    },
    {
     "data": {
      "image/png": "[encoded data removed]",
      "text/plain": [
       "<Figure size 1800x1080 with 8 Axes>"
      ]
     },
     "metadata": {},
     "output_type": "display_data"
    }
   ],
   "source": [
    "# Plotting distribution of categorical values\n",
    "'''\n",
    "Since 'job' column contains more value types  I will plot it seperately\n",
    "'''\n",
    "plt.figure(figsize=[15,5])\n",
    "sns.countplot( x='job', data=df, hue='target', palette=colors)\n",
    "sns.despine()\n",
    "\n",
    "fig, axes = plt.subplots(nrows = 2, ncols = 4)   \n",
    "axes = axes.flatten()        \n",
    "fig.set_size_inches(25, 15)\n",
    "colors =['#003049','#F77F00']\n",
    "# Selecting categorical values\n",
    "cat_col = df[['marital','education','has_credit',\n",
    "              'has_housing_loan','has_personal_loan',\n",
    "              'contact','month','prev_camp_outc',]]\n",
    "for ax, col in zip(axes, cat_col.columns):\n",
    "    sns.countplot( x=df[col],ax = ax,  data=df, hue='target', palette=colors)\n",
    "    sns.despine()\n"
   ]
  },
  {
   "cell_type": "markdown",
   "metadata": {},
   "source": [
    "- According to the above plot, we can see that the customers who work in management positions have the highest rate of subscribing to a term deposit, but they are also the higher after the blue-collar professions when it comes to not subscribing\n",
    "- Customers who have a personal loans are more inclined to subscribe to a term deposit.\n",
    "- Mostly married  and single marital people made subscriptions compare to the people who are divorced.\n",
    "- Most people after receiving their secondary or tertiary  educations can afford term deposits.\n",
    "- Majority subscribed customers were contacted via cellular phones."
   ]
  },
  {
   "cell_type": "markdown",
   "metadata": {},
   "source": [
    "The *unknown* variables will be removed due to do not represent an impact over the dataset "
   ]
  },
  {
   "cell_type": "code",
   "execution_count": 130,
   "metadata": {},
   "outputs": [],
   "source": [
    "# Dropping 'unknown' row values \n",
    "df = df[df.job != 'unknown']\n",
    "df = df[df.education != 'unknown']\n",
    "df=  df[df.contact !='unknown']"
   ]
  },
  {
   "cell_type": "code",
   "execution_count": 131,
   "metadata": {},
   "outputs": [
    {
     "data": {
      "text/plain": [
       "-1      23059\n",
       " 182      151\n",
       " 92       138\n",
       " 183      120\n",
       " 91       115\n",
       "        ...  \n",
       " 774        1\n",
       " 550        1\n",
       " 486        1\n",
       " 470        1\n",
       " 32         1\n",
       "Name: pdays, Length: 530, dtype: int64"
      ]
     },
     "execution_count": 131,
     "metadata": {},
     "output_type": "execute_result"
    }
   ],
   "source": [
    "# Counting unique values within the 'pdays' clumn\n",
    "'''\n",
    "number of days that passed by after the client was last contacted from \n",
    "a previous campaign (numeric, -1 means client was not previously contacted)\n",
    "'''\n",
    "df.pdays.value_counts()"
   ]
  },
  {
   "cell_type": "code",
   "execution_count": 132,
   "metadata": {},
   "outputs": [],
   "source": [
    "# Replacing negative value to 0\n",
    "df['pdays'] = df['pdays'].replace({-1: 0})"
   ]
  },
  {
   "cell_type": "code",
   "execution_count": 133,
   "metadata": {},
   "outputs": [],
   "source": [
    "# Getting copy of the original DataFrame fo future Synthetic Resampling\n",
    "df_copy = df.copy()"
   ]
  },
  {
   "cell_type": "code",
   "execution_count": 134,
   "metadata": {},
   "outputs": [
    {
     "data": {
      "text/html": [
       "<div>\n",
       "<style scoped>\n",
       "    .dataframe tbody tr th:only-of-type {\n",
       "        vertical-align: middle;\n",
       "    }\n",
       "\n",
       "    .dataframe tbody tr th {\n",
       "        vertical-align: top;\n",
       "    }\n",
       "\n",
       "    .dataframe thead th {\n",
       "        text-align: right;\n",
       "    }\n",
       "</style>\n",
       "<table border=\"1\" class=\"dataframe\">\n",
       "  <thead>\n",
       "    <tr style=\"text-align: right;\">\n",
       "      <th></th>\n",
       "      <th>age</th>\n",
       "      <th>job</th>\n",
       "      <th>marital</th>\n",
       "      <th>education</th>\n",
       "      <th>has_credit</th>\n",
       "      <th>balance</th>\n",
       "      <th>has_housing_loan</th>\n",
       "      <th>has_personal_loan</th>\n",
       "      <th>contact</th>\n",
       "      <th>day</th>\n",
       "      <th>month</th>\n",
       "      <th>duration</th>\n",
       "      <th>campaign</th>\n",
       "      <th>pdays</th>\n",
       "      <th>previous</th>\n",
       "      <th>prev_camp_outc</th>\n",
       "      <th>target</th>\n",
       "    </tr>\n",
       "  </thead>\n",
       "  <tbody>\n",
       "    <tr>\n",
       "      <th>12657</th>\n",
       "      <td>27</td>\n",
       "      <td>management</td>\n",
       "      <td>single</td>\n",
       "      <td>secondary</td>\n",
       "      <td>no</td>\n",
       "      <td>35</td>\n",
       "      <td>no</td>\n",
       "      <td>no</td>\n",
       "      <td>cellular</td>\n",
       "      <td>4</td>\n",
       "      <td>jul</td>\n",
       "      <td>255</td>\n",
       "      <td>1</td>\n",
       "      <td>0</td>\n",
       "      <td>0</td>\n",
       "      <td>unknown</td>\n",
       "      <td>0</td>\n",
       "    </tr>\n",
       "    <tr>\n",
       "      <th>12658</th>\n",
       "      <td>54</td>\n",
       "      <td>blue-collar</td>\n",
       "      <td>married</td>\n",
       "      <td>primary</td>\n",
       "      <td>no</td>\n",
       "      <td>466</td>\n",
       "      <td>no</td>\n",
       "      <td>no</td>\n",
       "      <td>cellular</td>\n",
       "      <td>4</td>\n",
       "      <td>jul</td>\n",
       "      <td>297</td>\n",
       "      <td>1</td>\n",
       "      <td>0</td>\n",
       "      <td>0</td>\n",
       "      <td>unknown</td>\n",
       "      <td>0</td>\n",
       "    </tr>\n",
       "    <tr>\n",
       "      <th>12659</th>\n",
       "      <td>43</td>\n",
       "      <td>blue-collar</td>\n",
       "      <td>married</td>\n",
       "      <td>secondary</td>\n",
       "      <td>no</td>\n",
       "      <td>105</td>\n",
       "      <td>no</td>\n",
       "      <td>yes</td>\n",
       "      <td>cellular</td>\n",
       "      <td>4</td>\n",
       "      <td>jul</td>\n",
       "      <td>668</td>\n",
       "      <td>2</td>\n",
       "      <td>0</td>\n",
       "      <td>0</td>\n",
       "      <td>unknown</td>\n",
       "      <td>0</td>\n",
       "    </tr>\n",
       "    <tr>\n",
       "      <th>12660</th>\n",
       "      <td>31</td>\n",
       "      <td>technician</td>\n",
       "      <td>single</td>\n",
       "      <td>secondary</td>\n",
       "      <td>no</td>\n",
       "      <td>19</td>\n",
       "      <td>no</td>\n",
       "      <td>no</td>\n",
       "      <td>telephone</td>\n",
       "      <td>4</td>\n",
       "      <td>jul</td>\n",
       "      <td>65</td>\n",
       "      <td>2</td>\n",
       "      <td>0</td>\n",
       "      <td>0</td>\n",
       "      <td>unknown</td>\n",
       "      <td>0</td>\n",
       "    </tr>\n",
       "    <tr>\n",
       "      <th>12661</th>\n",
       "      <td>27</td>\n",
       "      <td>technician</td>\n",
       "      <td>single</td>\n",
       "      <td>secondary</td>\n",
       "      <td>no</td>\n",
       "      <td>126</td>\n",
       "      <td>yes</td>\n",
       "      <td>yes</td>\n",
       "      <td>cellular</td>\n",
       "      <td>4</td>\n",
       "      <td>jul</td>\n",
       "      <td>436</td>\n",
       "      <td>4</td>\n",
       "      <td>0</td>\n",
       "      <td>0</td>\n",
       "      <td>unknown</td>\n",
       "      <td>0</td>\n",
       "    </tr>\n",
       "  </tbody>\n",
       "</table>\n",
       "</div>"
      ],
      "text/plain": [
       "       age          job  marital  education has_credit  balance  \\\n",
       "12657   27   management   single  secondary         no       35   \n",
       "12658   54  blue-collar  married    primary         no      466   \n",
       "12659   43  blue-collar  married  secondary         no      105   \n",
       "12660   31   technician   single  secondary         no       19   \n",
       "12661   27   technician   single  secondary         no      126   \n",
       "\n",
       "      has_housing_loan has_personal_loan    contact  day month  duration  \\\n",
       "12657               no                no   cellular    4   jul       255   \n",
       "12658               no                no   cellular    4   jul       297   \n",
       "12659               no               yes   cellular    4   jul       668   \n",
       "12660               no                no  telephone    4   jul        65   \n",
       "12661              yes               yes   cellular    4   jul       436   \n",
       "\n",
       "       campaign  pdays  previous prev_camp_outc  target  \n",
       "12657         1      0         0        unknown       0  \n",
       "12658         1      0         0        unknown       0  \n",
       "12659         2      0         0        unknown       0  \n",
       "12660         2      0         0        unknown       0  \n",
       "12661         4      0         0        unknown       0  "
      ]
     },
     "execution_count": 134,
     "metadata": {},
     "output_type": "execute_result"
    }
   ],
   "source": [
    "df_copy.head()"
   ]
  },
  {
   "cell_type": "code",
   "execution_count": 135,
   "metadata": {},
   "outputs": [],
   "source": [
    "# Changing categorical values from str into int \n",
    "df['has_credit']= df['has_credit'].map({'yes': 1, 'no' : 0})\n",
    "df['has_housing_loan']= df['has_housing_loan'].map({'yes': 1, 'no' : 0})\n",
    "df['has_personal_loan']= df['has_personal_loan'].map({'yes': 1, 'no' : 0})\n"
   ]
  },
  {
   "cell_type": "code",
   "execution_count": 136,
   "metadata": {
    "scrolled": true
   },
   "outputs": [
    {
     "data": {
      "text/html": [
       "<style  type=\"text/css\" >\n",
       "#T_16a7a2d3_0318_11ed_95d4_d2c5d33f3c6brow0_col0,#T_16a7a2d3_0318_11ed_95d4_d2c5d33f3c6brow1_col1,#T_16a7a2d3_0318_11ed_95d4_d2c5d33f3c6brow2_col2,#T_16a7a2d3_0318_11ed_95d4_d2c5d33f3c6brow3_col3,#T_16a7a2d3_0318_11ed_95d4_d2c5d33f3c6brow4_col4,#T_16a7a2d3_0318_11ed_95d4_d2c5d33f3c6brow5_col5,#T_16a7a2d3_0318_11ed_95d4_d2c5d33f3c6brow6_col6,#T_16a7a2d3_0318_11ed_95d4_d2c5d33f3c6brow7_col7,#T_16a7a2d3_0318_11ed_95d4_d2c5d33f3c6brow8_col8,#T_16a7a2d3_0318_11ed_95d4_d2c5d33f3c6brow9_col9,#T_16a7a2d3_0318_11ed_95d4_d2c5d33f3c6brow10_col10{\n",
       "            background-color:  #023858;\n",
       "            color:  #f1f1f1;\n",
       "        }#T_16a7a2d3_0318_11ed_95d4_d2c5d33f3c6brow0_col1,#T_16a7a2d3_0318_11ed_95d4_d2c5d33f3c6brow3_col1,#T_16a7a2d3_0318_11ed_95d4_d2c5d33f3c6brow3_col7,#T_16a7a2d3_0318_11ed_95d4_d2c5d33f3c6brow4_col10,#T_16a7a2d3_0318_11ed_95d4_d2c5d33f3c6brow5_col6,#T_16a7a2d3_0318_11ed_95d4_d2c5d33f3c6brow6_col1,#T_16a7a2d3_0318_11ed_95d4_d2c5d33f3c6brow9_col5{\n",
       "            background-color:  #f8f1f8;\n",
       "            color:  #000000;\n",
       "        }#T_16a7a2d3_0318_11ed_95d4_d2c5d33f3c6brow0_col2,#T_16a7a2d3_0318_11ed_95d4_d2c5d33f3c6brow10_col0,#T_16a7a2d3_0318_11ed_95d4_d2c5d33f3c6brow10_col8{\n",
       "            background-color:  #e1dfed;\n",
       "            color:  #000000;\n",
       "        }#T_16a7a2d3_0318_11ed_95d4_d2c5d33f3c6brow0_col3,#T_16a7a2d3_0318_11ed_95d4_d2c5d33f3c6brow2_col1,#T_16a7a2d3_0318_11ed_95d4_d2c5d33f3c6brow2_col4,#T_16a7a2d3_0318_11ed_95d4_d2c5d33f3c6brow3_col0,#T_16a7a2d3_0318_11ed_95d4_d2c5d33f3c6brow3_col10,#T_16a7a2d3_0318_11ed_95d4_d2c5d33f3c6brow4_col2,#T_16a7a2d3_0318_11ed_95d4_d2c5d33f3c6brow5_col8,#T_16a7a2d3_0318_11ed_95d4_d2c5d33f3c6brow5_col9,#T_16a7a2d3_0318_11ed_95d4_d2c5d33f3c6brow7_col6,#T_16a7a2d3_0318_11ed_95d4_d2c5d33f3c6brow8_col5,#T_16a7a2d3_0318_11ed_95d4_d2c5d33f3c6brow8_col7{\n",
       "            background-color:  #fff7fb;\n",
       "            color:  #000000;\n",
       "        }#T_16a7a2d3_0318_11ed_95d4_d2c5d33f3c6brow0_col4,#T_16a7a2d3_0318_11ed_95d4_d2c5d33f3c6brow6_col9,#T_16a7a2d3_0318_11ed_95d4_d2c5d33f3c6brow10_col5{\n",
       "            background-color:  #f4eef6;\n",
       "            color:  #000000;\n",
       "        }#T_16a7a2d3_0318_11ed_95d4_d2c5d33f3c6brow0_col5,#T_16a7a2d3_0318_11ed_95d4_d2c5d33f3c6brow1_col7,#T_16a7a2d3_0318_11ed_95d4_d2c5d33f3c6brow3_col4{\n",
       "            background-color:  #ede7f2;\n",
       "            color:  #000000;\n",
       "        }#T_16a7a2d3_0318_11ed_95d4_d2c5d33f3c6brow0_col6,#T_16a7a2d3_0318_11ed_95d4_d2c5d33f3c6brow1_col10,#T_16a7a2d3_0318_11ed_95d4_d2c5d33f3c6brow5_col3,#T_16a7a2d3_0318_11ed_95d4_d2c5d33f3c6brow5_col4{\n",
       "            background-color:  #f1ebf5;\n",
       "            color:  #000000;\n",
       "        }#T_16a7a2d3_0318_11ed_95d4_d2c5d33f3c6brow0_col7,#T_16a7a2d3_0318_11ed_95d4_d2c5d33f3c6brow2_col3,#T_16a7a2d3_0318_11ed_95d4_d2c5d33f3c6brow2_col6,#T_16a7a2d3_0318_11ed_95d4_d2c5d33f3c6brow6_col2,#T_16a7a2d3_0318_11ed_95d4_d2c5d33f3c6brow7_col4{\n",
       "            background-color:  #f0eaf4;\n",
       "            color:  #000000;\n",
       "        }#T_16a7a2d3_0318_11ed_95d4_d2c5d33f3c6brow0_col8,#T_16a7a2d3_0318_11ed_95d4_d2c5d33f3c6brow2_col7,#T_16a7a2d3_0318_11ed_95d4_d2c5d33f3c6brow3_col6,#T_16a7a2d3_0318_11ed_95d4_d2c5d33f3c6brow5_col2{\n",
       "            background-color:  #f3edf5;\n",
       "            color:  #000000;\n",
       "        }#T_16a7a2d3_0318_11ed_95d4_d2c5d33f3c6brow0_col9,#T_16a7a2d3_0318_11ed_95d4_d2c5d33f3c6brow4_col6,#T_16a7a2d3_0318_11ed_95d4_d2c5d33f3c6brow6_col4{\n",
       "            background-color:  #f5eef6;\n",
       "            color:  #000000;\n",
       "        }#T_16a7a2d3_0318_11ed_95d4_d2c5d33f3c6brow0_col10,#T_16a7a2d3_0318_11ed_95d4_d2c5d33f3c6brow6_col0{\n",
       "            background-color:  #e7e3f0;\n",
       "            color:  #000000;\n",
       "        }#T_16a7a2d3_0318_11ed_95d4_d2c5d33f3c6brow1_col0,#T_16a7a2d3_0318_11ed_95d4_d2c5d33f3c6brow1_col3,#T_16a7a2d3_0318_11ed_95d4_d2c5d33f3c6brow4_col0{\n",
       "            background-color:  #e9e5f1;\n",
       "            color:  #000000;\n",
       "        }#T_16a7a2d3_0318_11ed_95d4_d2c5d33f3c6brow1_col2{\n",
       "            background-color:  #fbf4f9;\n",
       "            color:  #000000;\n",
       "        }#T_16a7a2d3_0318_11ed_95d4_d2c5d33f3c6brow1_col4,#T_16a7a2d3_0318_11ed_95d4_d2c5d33f3c6brow5_col0,#T_16a7a2d3_0318_11ed_95d4_d2c5d33f3c6brow10_col9{\n",
       "            background-color:  #e5e1ef;\n",
       "            color:  #000000;\n",
       "        }#T_16a7a2d3_0318_11ed_95d4_d2c5d33f3c6brow1_col5,#T_16a7a2d3_0318_11ed_95d4_d2c5d33f3c6brow10_col2{\n",
       "            background-color:  #ebe6f2;\n",
       "            color:  #000000;\n",
       "        }#T_16a7a2d3_0318_11ed_95d4_d2c5d33f3c6brow1_col6,#T_16a7a2d3_0318_11ed_95d4_d2c5d33f3c6brow5_col1,#T_16a7a2d3_0318_11ed_95d4_d2c5d33f3c6brow5_col10,#T_16a7a2d3_0318_11ed_95d4_d2c5d33f3c6brow6_col5,#T_16a7a2d3_0318_11ed_95d4_d2c5d33f3c6brow8_col2{\n",
       "            background-color:  #f4edf6;\n",
       "            color:  #000000;\n",
       "        }#T_16a7a2d3_0318_11ed_95d4_d2c5d33f3c6brow1_col8,#T_16a7a2d3_0318_11ed_95d4_d2c5d33f3c6brow2_col9,#T_16a7a2d3_0318_11ed_95d4_d2c5d33f3c6brow4_col8,#T_16a7a2d3_0318_11ed_95d4_d2c5d33f3c6brow7_col1,#T_16a7a2d3_0318_11ed_95d4_d2c5d33f3c6brow8_col6,#T_16a7a2d3_0318_11ed_95d4_d2c5d33f3c6brow9_col6{\n",
       "            background-color:  #f2ecf5;\n",
       "            color:  #000000;\n",
       "        }#T_16a7a2d3_0318_11ed_95d4_d2c5d33f3c6brow1_col9,#T_16a7a2d3_0318_11ed_95d4_d2c5d33f3c6brow3_col5,#T_16a7a2d3_0318_11ed_95d4_d2c5d33f3c6brow4_col9,#T_16a7a2d3_0318_11ed_95d4_d2c5d33f3c6brow8_col4,#T_16a7a2d3_0318_11ed_95d4_d2c5d33f3c6brow9_col7{\n",
       "            background-color:  #f7f0f7;\n",
       "            color:  #000000;\n",
       "        }#T_16a7a2d3_0318_11ed_95d4_d2c5d33f3c6brow2_col0{\n",
       "            background-color:  #d4d4e8;\n",
       "            color:  #000000;\n",
       "        }#T_16a7a2d3_0318_11ed_95d4_d2c5d33f3c6brow2_col5,#T_16a7a2d3_0318_11ed_95d4_d2c5d33f3c6brow6_col8{\n",
       "            background-color:  #eee9f3;\n",
       "            color:  #000000;\n",
       "        }#T_16a7a2d3_0318_11ed_95d4_d2c5d33f3c6brow2_col8{\n",
       "            background-color:  #efe9f3;\n",
       "            color:  #000000;\n",
       "        }#T_16a7a2d3_0318_11ed_95d4_d2c5d33f3c6brow2_col10{\n",
       "            background-color:  #e3e0ee;\n",
       "            color:  #000000;\n",
       "        }#T_16a7a2d3_0318_11ed_95d4_d2c5d33f3c6brow3_col2,#T_16a7a2d3_0318_11ed_95d4_d2c5d33f3c6brow7_col9,#T_16a7a2d3_0318_11ed_95d4_d2c5d33f3c6brow8_col1,#T_16a7a2d3_0318_11ed_95d4_d2c5d33f3c6brow10_col1{\n",
       "            background-color:  #fbf3f9;\n",
       "            color:  #000000;\n",
       "        }#T_16a7a2d3_0318_11ed_95d4_d2c5d33f3c6brow3_col8{\n",
       "            background-color:  #bdc8e1;\n",
       "            color:  #000000;\n",
       "        }#T_16a7a2d3_0318_11ed_95d4_d2c5d33f3c6brow3_col9{\n",
       "            background-color:  #e4e1ef;\n",
       "            color:  #000000;\n",
       "        }#T_16a7a2d3_0318_11ed_95d4_d2c5d33f3c6brow4_col1{\n",
       "            background-color:  #eae6f1;\n",
       "            color:  #000000;\n",
       "        }#T_16a7a2d3_0318_11ed_95d4_d2c5d33f3c6brow4_col3{\n",
       "            background-color:  #dfddec;\n",
       "            color:  #000000;\n",
       "        }#T_16a7a2d3_0318_11ed_95d4_d2c5d33f3c6brow4_col5,#T_16a7a2d3_0318_11ed_95d4_d2c5d33f3c6brow4_col7{\n",
       "            background-color:  #ede8f3;\n",
       "            color:  #000000;\n",
       "        }#T_16a7a2d3_0318_11ed_95d4_d2c5d33f3c6brow5_col7{\n",
       "            background-color:  #c2cbe2;\n",
       "            color:  #000000;\n",
       "        }#T_16a7a2d3_0318_11ed_95d4_d2c5d33f3c6brow6_col3,#T_16a7a2d3_0318_11ed_95d4_d2c5d33f3c6brow9_col0{\n",
       "            background-color:  #e8e4f0;\n",
       "            color:  #000000;\n",
       "        }#T_16a7a2d3_0318_11ed_95d4_d2c5d33f3c6brow6_col7,#T_16a7a2d3_0318_11ed_95d4_d2c5d33f3c6brow7_col8,#T_16a7a2d3_0318_11ed_95d4_d2c5d33f3c6brow10_col7{\n",
       "            background-color:  #fdf5fa;\n",
       "            color:  #000000;\n",
       "        }#T_16a7a2d3_0318_11ed_95d4_d2c5d33f3c6brow6_col10{\n",
       "            background-color:  #81aed2;\n",
       "            color:  #000000;\n",
       "        }#T_16a7a2d3_0318_11ed_95d4_d2c5d33f3c6brow7_col0{\n",
       "            background-color:  #e6e2ef;\n",
       "            color:  #000000;\n",
       "        }#T_16a7a2d3_0318_11ed_95d4_d2c5d33f3c6brow7_col2{\n",
       "            background-color:  #f6eff7;\n",
       "            color:  #000000;\n",
       "        }#T_16a7a2d3_0318_11ed_95d4_d2c5d33f3c6brow7_col3,#T_16a7a2d3_0318_11ed_95d4_d2c5d33f3c6brow9_col2{\n",
       "            background-color:  #f1ebf4;\n",
       "            color:  #000000;\n",
       "        }#T_16a7a2d3_0318_11ed_95d4_d2c5d33f3c6brow7_col5{\n",
       "            background-color:  #bfc9e1;\n",
       "            color:  #000000;\n",
       "        }#T_16a7a2d3_0318_11ed_95d4_d2c5d33f3c6brow7_col10,#T_16a7a2d3_0318_11ed_95d4_d2c5d33f3c6brow9_col1{\n",
       "            background-color:  #faf2f8;\n",
       "            color:  #000000;\n",
       "        }#T_16a7a2d3_0318_11ed_95d4_d2c5d33f3c6brow8_col0{\n",
       "            background-color:  #eee8f3;\n",
       "            color:  #000000;\n",
       "        }#T_16a7a2d3_0318_11ed_95d4_d2c5d33f3c6brow8_col3{\n",
       "            background-color:  #b4c4df;\n",
       "            color:  #000000;\n",
       "        }#T_16a7a2d3_0318_11ed_95d4_d2c5d33f3c6brow8_col9{\n",
       "            background-color:  #589ec8;\n",
       "            color:  #000000;\n",
       "        }#T_16a7a2d3_0318_11ed_95d4_d2c5d33f3c6brow8_col10{\n",
       "            background-color:  #e0dded;\n",
       "            color:  #000000;\n",
       "        }#T_16a7a2d3_0318_11ed_95d4_d2c5d33f3c6brow9_col3{\n",
       "            background-color:  #d5d5e8;\n",
       "            color:  #000000;\n",
       "        }#T_16a7a2d3_0318_11ed_95d4_d2c5d33f3c6brow9_col4{\n",
       "            background-color:  #f5eff6;\n",
       "            color:  #000000;\n",
       "        }#T_16a7a2d3_0318_11ed_95d4_d2c5d33f3c6brow9_col8{\n",
       "            background-color:  #4e9ac6;\n",
       "            color:  #000000;\n",
       "        }#T_16a7a2d3_0318_11ed_95d4_d2c5d33f3c6brow9_col10{\n",
       "            background-color:  #dbdaeb;\n",
       "            color:  #000000;\n",
       "        }#T_16a7a2d3_0318_11ed_95d4_d2c5d33f3c6brow10_col3{\n",
       "            background-color:  #faf3f9;\n",
       "            color:  #000000;\n",
       "        }#T_16a7a2d3_0318_11ed_95d4_d2c5d33f3c6brow10_col4{\n",
       "            background-color:  #fef6fb;\n",
       "            color:  #000000;\n",
       "        }#T_16a7a2d3_0318_11ed_95d4_d2c5d33f3c6brow10_col6{\n",
       "            background-color:  #89b1d4;\n",
       "            color:  #000000;\n",
       "        }</style><table id=\"T_16a7a2d3_0318_11ed_95d4_d2c5d33f3c6b\" ><thead>    <tr>        <th class=\"blank level0\" ></th>        <th class=\"col_heading level0 col0\" >age</th>        <th class=\"col_heading level0 col1\" >has_credit</th>        <th class=\"col_heading level0 col2\" >balance</th>        <th class=\"col_heading level0 col3\" >has_housing_loan</th>        <th class=\"col_heading level0 col4\" >has_personal_loan</th>        <th class=\"col_heading level0 col5\" >day</th>        <th class=\"col_heading level0 col6\" >duration</th>        <th class=\"col_heading level0 col7\" >campaign</th>        <th class=\"col_heading level0 col8\" >pdays</th>        <th class=\"col_heading level0 col9\" >previous</th>        <th class=\"col_heading level0 col10\" >target</th>    </tr></thead><tbody>\n",
       "                <tr>\n",
       "                        <th id=\"T_16a7a2d3_0318_11ed_95d4_d2c5d33f3c6blevel0_row0\" class=\"row_heading level0 row0\" >age</th>\n",
       "                        <td id=\"T_16a7a2d3_0318_11ed_95d4_d2c5d33f3c6brow0_col0\" class=\"data row0 col0\" >1.000000</td>\n",
       "                        <td id=\"T_16a7a2d3_0318_11ed_95d4_d2c5d33f3c6brow0_col1\" class=\"data row0 col1\" >-0.009217</td>\n",
       "                        <td id=\"T_16a7a2d3_0318_11ed_95d4_d2c5d33f3c6brow0_col2\" class=\"data row0 col2\" >0.099586</td>\n",
       "                        <td id=\"T_16a7a2d3_0318_11ed_95d4_d2c5d33f3c6brow0_col3\" class=\"data row0 col3\" >-0.170506</td>\n",
       "                        <td id=\"T_16a7a2d3_0318_11ed_95d4_d2c5d33f3c6brow0_col4\" class=\"data row0 col4\" >-0.010080</td>\n",
       "                        <td id=\"T_16a7a2d3_0318_11ed_95d4_d2c5d33f3c6brow0_col5\" class=\"data row0 col5\" >0.013408</td>\n",
       "                        <td id=\"T_16a7a2d3_0318_11ed_95d4_d2c5d33f3c6brow0_col6\" class=\"data row0 col6\" >0.007284</td>\n",
       "                        <td id=\"T_16a7a2d3_0318_11ed_95d4_d2c5d33f3c6brow0_col7\" class=\"data row0 col7\" >0.007998</td>\n",
       "                        <td id=\"T_16a7a2d3_0318_11ed_95d4_d2c5d33f3c6brow0_col8\" class=\"data row0 col8\" >-0.034087</td>\n",
       "                        <td id=\"T_16a7a2d3_0318_11ed_95d4_d2c5d33f3c6brow0_col9\" class=\"data row0 col9\" >-0.002396</td>\n",
       "                        <td id=\"T_16a7a2d3_0318_11ed_95d4_d2c5d33f3c6brow0_col10\" class=\"data row0 col10\" >0.031161</td>\n",
       "            </tr>\n",
       "            <tr>\n",
       "                        <th id=\"T_16a7a2d3_0318_11ed_95d4_d2c5d33f3c6blevel0_row1\" class=\"row_heading level0 row1\" >has_credit</th>\n",
       "                        <td id=\"T_16a7a2d3_0318_11ed_95d4_d2c5d33f3c6brow1_col0\" class=\"data row1 col0\" >-0.009217</td>\n",
       "                        <td id=\"T_16a7a2d3_0318_11ed_95d4_d2c5d33f3c6brow1_col1\" class=\"data row1 col1\" >1.000000</td>\n",
       "                        <td id=\"T_16a7a2d3_0318_11ed_95d4_d2c5d33f3c6brow1_col2\" class=\"data row1 col2\" >-0.060991</td>\n",
       "                        <td id=\"T_16a7a2d3_0318_11ed_95d4_d2c5d33f3c6brow1_col3\" class=\"data row1 col3\" >-0.010241</td>\n",
       "                        <td id=\"T_16a7a2d3_0318_11ed_95d4_d2c5d33f3c6brow1_col4\" class=\"data row1 col4\" >0.083693</td>\n",
       "                        <td id=\"T_16a7a2d3_0318_11ed_95d4_d2c5d33f3c6brow1_col5\" class=\"data row1 col5\" >0.021191</td>\n",
       "                        <td id=\"T_16a7a2d3_0318_11ed_95d4_d2c5d33f3c6brow1_col6\" class=\"data row1 col6\" >-0.010487</td>\n",
       "                        <td id=\"T_16a7a2d3_0318_11ed_95d4_d2c5d33f3c6brow1_col7\" class=\"data row1 col7\" >0.026288</td>\n",
       "                        <td id=\"T_16a7a2d3_0318_11ed_95d4_d2c5d33f3c6brow1_col8\" class=\"data row1 col8\" >-0.031144</td>\n",
       "                        <td id=\"T_16a7a2d3_0318_11ed_95d4_d2c5d33f3c6brow1_col9\" class=\"data row1 col9\" >-0.021915</td>\n",
       "                        <td id=\"T_16a7a2d3_0318_11ed_95d4_d2c5d33f3c6brow1_col10\" class=\"data row1 col10\" >-0.029111</td>\n",
       "            </tr>\n",
       "            <tr>\n",
       "                        <th id=\"T_16a7a2d3_0318_11ed_95d4_d2c5d33f3c6blevel0_row2\" class=\"row_heading level0 row2\" >balance</th>\n",
       "                        <td id=\"T_16a7a2d3_0318_11ed_95d4_d2c5d33f3c6brow2_col0\" class=\"data row2 col0\" >0.099586</td>\n",
       "                        <td id=\"T_16a7a2d3_0318_11ed_95d4_d2c5d33f3c6brow2_col1\" class=\"data row2 col1\" >-0.060991</td>\n",
       "                        <td id=\"T_16a7a2d3_0318_11ed_95d4_d2c5d33f3c6brow2_col2\" class=\"data row2 col2\" >1.000000</td>\n",
       "                        <td id=\"T_16a7a2d3_0318_11ed_95d4_d2c5d33f3c6brow2_col3\" class=\"data row2 col3\" >-0.055906</td>\n",
       "                        <td id=\"T_16a7a2d3_0318_11ed_95d4_d2c5d33f3c6brow2_col4\" class=\"data row2 col4\" >-0.089250</td>\n",
       "                        <td id=\"T_16a7a2d3_0318_11ed_95d4_d2c5d33f3c6brow2_col5\" class=\"data row2 col5\" >-0.002580</td>\n",
       "                        <td id=\"T_16a7a2d3_0318_11ed_95d4_d2c5d33f3c6brow2_col6\" class=\"data row2 col6\" >0.020112</td>\n",
       "                        <td id=\"T_16a7a2d3_0318_11ed_95d4_d2c5d33f3c6brow2_col7\" class=\"data row2 col7\" >-0.021608</td>\n",
       "                        <td id=\"T_16a7a2d3_0318_11ed_95d4_d2c5d33f3c6brow2_col8\" class=\"data row2 col8\" >-0.004943</td>\n",
       "                        <td id=\"T_16a7a2d3_0318_11ed_95d4_d2c5d33f3c6brow2_col9\" class=\"data row2 col9\" >0.016416</td>\n",
       "                        <td id=\"T_16a7a2d3_0318_11ed_95d4_d2c5d33f3c6brow2_col10\" class=\"data row2 col10\" >0.054905</td>\n",
       "            </tr>\n",
       "            <tr>\n",
       "                        <th id=\"T_16a7a2d3_0318_11ed_95d4_d2c5d33f3c6blevel0_row3\" class=\"row_heading level0 row3\" >has_housing_loan</th>\n",
       "                        <td id=\"T_16a7a2d3_0318_11ed_95d4_d2c5d33f3c6brow3_col0\" class=\"data row3 col0\" >-0.170506</td>\n",
       "                        <td id=\"T_16a7a2d3_0318_11ed_95d4_d2c5d33f3c6brow3_col1\" class=\"data row3 col1\" >-0.010241</td>\n",
       "                        <td id=\"T_16a7a2d3_0318_11ed_95d4_d2c5d33f3c6brow3_col2\" class=\"data row3 col2\" >-0.055906</td>\n",
       "                        <td id=\"T_16a7a2d3_0318_11ed_95d4_d2c5d33f3c6brow3_col3\" class=\"data row3 col3\" >1.000000</td>\n",
       "                        <td id=\"T_16a7a2d3_0318_11ed_95d4_d2c5d33f3c6brow3_col4\" class=\"data row3 col4\" >0.044992</td>\n",
       "                        <td id=\"T_16a7a2d3_0318_11ed_95d4_d2c5d33f3c6brow3_col5\" class=\"data row3 col5\" >-0.065008</td>\n",
       "                        <td id=\"T_16a7a2d3_0318_11ed_95d4_d2c5d33f3c6brow3_col6\" class=\"data row3 col6\" >-0.005408</td>\n",
       "                        <td id=\"T_16a7a2d3_0318_11ed_95d4_d2c5d33f3c6brow3_col7\" class=\"data row3 col7\" >-0.056585</td>\n",
       "                        <td id=\"T_16a7a2d3_0318_11ed_95d4_d2c5d33f3c6brow3_col8\" class=\"data row3 col8\" >0.220058</td>\n",
       "                        <td id=\"T_16a7a2d3_0318_11ed_95d4_d2c5d33f3c6brow3_col9\" class=\"data row3 col9\" >0.097612</td>\n",
       "                        <td id=\"T_16a7a2d3_0318_11ed_95d4_d2c5d33f3c6brow3_col10\" class=\"data row3 col10\" >-0.133455</td>\n",
       "            </tr>\n",
       "            <tr>\n",
       "                        <th id=\"T_16a7a2d3_0318_11ed_95d4_d2c5d33f3c6blevel0_row4\" class=\"row_heading level0 row4\" >has_personal_loan</th>\n",
       "                        <td id=\"T_16a7a2d3_0318_11ed_95d4_d2c5d33f3c6brow4_col0\" class=\"data row4 col0\" >-0.010080</td>\n",
       "                        <td id=\"T_16a7a2d3_0318_11ed_95d4_d2c5d33f3c6brow4_col1\" class=\"data row4 col1\" >0.083693</td>\n",
       "                        <td id=\"T_16a7a2d3_0318_11ed_95d4_d2c5d33f3c6brow4_col2\" class=\"data row4 col2\" >-0.089250</td>\n",
       "                        <td id=\"T_16a7a2d3_0318_11ed_95d4_d2c5d33f3c6brow4_col3\" class=\"data row4 col3\" >0.044992</td>\n",
       "                        <td id=\"T_16a7a2d3_0318_11ed_95d4_d2c5d33f3c6brow4_col4\" class=\"data row4 col4\" >1.000000</td>\n",
       "                        <td id=\"T_16a7a2d3_0318_11ed_95d4_d2c5d33f3c6brow4_col5\" class=\"data row4 col5\" >0.008700</td>\n",
       "                        <td id=\"T_16a7a2d3_0318_11ed_95d4_d2c5d33f3c6brow4_col6\" class=\"data row4 col6\" >-0.016453</td>\n",
       "                        <td id=\"T_16a7a2d3_0318_11ed_95d4_d2c5d33f3c6brow4_col7\" class=\"data row4 col7\" >0.021411</td>\n",
       "                        <td id=\"T_16a7a2d3_0318_11ed_95d4_d2c5d33f3c6brow4_col8\" class=\"data row4 col8\" >-0.032607</td>\n",
       "                        <td id=\"T_16a7a2d3_0318_11ed_95d4_d2c5d33f3c6brow4_col9\" class=\"data row4 col9\" >-0.017559</td>\n",
       "                        <td id=\"T_16a7a2d3_0318_11ed_95d4_d2c5d33f3c6brow4_col10\" class=\"data row4 col10\" >-0.084206</td>\n",
       "            </tr>\n",
       "            <tr>\n",
       "                        <th id=\"T_16a7a2d3_0318_11ed_95d4_d2c5d33f3c6blevel0_row5\" class=\"row_heading level0 row5\" >day</th>\n",
       "                        <td id=\"T_16a7a2d3_0318_11ed_95d4_d2c5d33f3c6brow5_col0\" class=\"data row5 col0\" >0.013408</td>\n",
       "                        <td id=\"T_16a7a2d3_0318_11ed_95d4_d2c5d33f3c6brow5_col1\" class=\"data row5 col1\" >0.021191</td>\n",
       "                        <td id=\"T_16a7a2d3_0318_11ed_95d4_d2c5d33f3c6brow5_col2\" class=\"data row5 col2\" >-0.002580</td>\n",
       "                        <td id=\"T_16a7a2d3_0318_11ed_95d4_d2c5d33f3c6brow5_col3\" class=\"data row5 col3\" >-0.065008</td>\n",
       "                        <td id=\"T_16a7a2d3_0318_11ed_95d4_d2c5d33f3c6brow5_col4\" class=\"data row5 col4\" >0.008700</td>\n",
       "                        <td id=\"T_16a7a2d3_0318_11ed_95d4_d2c5d33f3c6brow5_col5\" class=\"data row5 col5\" >1.000000</td>\n",
       "                        <td id=\"T_16a7a2d3_0318_11ed_95d4_d2c5d33f3c6brow5_col6\" class=\"data row5 col6\" >-0.038947</td>\n",
       "                        <td id=\"T_16a7a2d3_0318_11ed_95d4_d2c5d33f3c6brow5_col7\" class=\"data row5 col7\" >0.215524</td>\n",
       "                        <td id=\"T_16a7a2d3_0318_11ed_95d4_d2c5d33f3c6brow5_col8\" class=\"data row5 col8\" >-0.126226</td>\n",
       "                        <td id=\"T_16a7a2d3_0318_11ed_95d4_d2c5d33f3c6brow5_col9\" class=\"data row5 col9\" >-0.077114</td>\n",
       "                        <td id=\"T_16a7a2d3_0318_11ed_95d4_d2c5d33f3c6brow5_col10\" class=\"data row5 col10\" >-0.046304</td>\n",
       "            </tr>\n",
       "            <tr>\n",
       "                        <th id=\"T_16a7a2d3_0318_11ed_95d4_d2c5d33f3c6blevel0_row6\" class=\"row_heading level0 row6\" >duration</th>\n",
       "                        <td id=\"T_16a7a2d3_0318_11ed_95d4_d2c5d33f3c6brow6_col0\" class=\"data row6 col0\" >0.007284</td>\n",
       "                        <td id=\"T_16a7a2d3_0318_11ed_95d4_d2c5d33f3c6brow6_col1\" class=\"data row6 col1\" >-0.010487</td>\n",
       "                        <td id=\"T_16a7a2d3_0318_11ed_95d4_d2c5d33f3c6brow6_col2\" class=\"data row6 col2\" >0.020112</td>\n",
       "                        <td id=\"T_16a7a2d3_0318_11ed_95d4_d2c5d33f3c6brow6_col3\" class=\"data row6 col3\" >-0.005408</td>\n",
       "                        <td id=\"T_16a7a2d3_0318_11ed_95d4_d2c5d33f3c6brow6_col4\" class=\"data row6 col4\" >-0.016453</td>\n",
       "                        <td id=\"T_16a7a2d3_0318_11ed_95d4_d2c5d33f3c6brow6_col5\" class=\"data row6 col5\" >-0.038947</td>\n",
       "                        <td id=\"T_16a7a2d3_0318_11ed_95d4_d2c5d33f3c6brow6_col6\" class=\"data row6 col6\" >1.000000</td>\n",
       "                        <td id=\"T_16a7a2d3_0318_11ed_95d4_d2c5d33f3c6brow6_col7\" class=\"data row6 col7\" >-0.092979</td>\n",
       "                        <td id=\"T_16a7a2d3_0318_11ed_95d4_d2c5d33f3c6brow6_col8\" class=\"data row6 col8\" >-0.000398</td>\n",
       "                        <td id=\"T_16a7a2d3_0318_11ed_95d4_d2c5d33f3c6brow6_col9\" class=\"data row6 col9\" >-0.000913</td>\n",
       "                        <td id=\"T_16a7a2d3_0318_11ed_95d4_d2c5d33f3c6brow6_col10\" class=\"data row6 col10\" >0.397735</td>\n",
       "            </tr>\n",
       "            <tr>\n",
       "                        <th id=\"T_16a7a2d3_0318_11ed_95d4_d2c5d33f3c6blevel0_row7\" class=\"row_heading level0 row7\" >campaign</th>\n",
       "                        <td id=\"T_16a7a2d3_0318_11ed_95d4_d2c5d33f3c6brow7_col0\" class=\"data row7 col0\" >0.007998</td>\n",
       "                        <td id=\"T_16a7a2d3_0318_11ed_95d4_d2c5d33f3c6brow7_col1\" class=\"data row7 col1\" >0.026288</td>\n",
       "                        <td id=\"T_16a7a2d3_0318_11ed_95d4_d2c5d33f3c6brow7_col2\" class=\"data row7 col2\" >-0.021608</td>\n",
       "                        <td id=\"T_16a7a2d3_0318_11ed_95d4_d2c5d33f3c6brow7_col3\" class=\"data row7 col3\" >-0.056585</td>\n",
       "                        <td id=\"T_16a7a2d3_0318_11ed_95d4_d2c5d33f3c6brow7_col4\" class=\"data row7 col4\" >0.021411</td>\n",
       "                        <td id=\"T_16a7a2d3_0318_11ed_95d4_d2c5d33f3c6brow7_col5\" class=\"data row7 col5\" >0.215524</td>\n",
       "                        <td id=\"T_16a7a2d3_0318_11ed_95d4_d2c5d33f3c6brow7_col6\" class=\"data row7 col6\" >-0.092979</td>\n",
       "                        <td id=\"T_16a7a2d3_0318_11ed_95d4_d2c5d33f3c6brow7_col7\" class=\"data row7 col7\" >1.000000</td>\n",
       "                        <td id=\"T_16a7a2d3_0318_11ed_95d4_d2c5d33f3c6brow7_col8\" class=\"data row7 col8\" >-0.108776</td>\n",
       "                        <td id=\"T_16a7a2d3_0318_11ed_95d4_d2c5d33f3c6brow7_col9\" class=\"data row7 col9\" >-0.045538</td>\n",
       "                        <td id=\"T_16a7a2d3_0318_11ed_95d4_d2c5d33f3c6brow7_col10\" class=\"data row7 col10\" >-0.090407</td>\n",
       "            </tr>\n",
       "            <tr>\n",
       "                        <th id=\"T_16a7a2d3_0318_11ed_95d4_d2c5d33f3c6blevel0_row8\" class=\"row_heading level0 row8\" >pdays</th>\n",
       "                        <td id=\"T_16a7a2d3_0318_11ed_95d4_d2c5d33f3c6brow8_col0\" class=\"data row8 col0\" >-0.034087</td>\n",
       "                        <td id=\"T_16a7a2d3_0318_11ed_95d4_d2c5d33f3c6brow8_col1\" class=\"data row8 col1\" >-0.031144</td>\n",
       "                        <td id=\"T_16a7a2d3_0318_11ed_95d4_d2c5d33f3c6brow8_col2\" class=\"data row8 col2\" >-0.004943</td>\n",
       "                        <td id=\"T_16a7a2d3_0318_11ed_95d4_d2c5d33f3c6brow8_col3\" class=\"data row8 col3\" >0.220058</td>\n",
       "                        <td id=\"T_16a7a2d3_0318_11ed_95d4_d2c5d33f3c6brow8_col4\" class=\"data row8 col4\" >-0.032607</td>\n",
       "                        <td id=\"T_16a7a2d3_0318_11ed_95d4_d2c5d33f3c6brow8_col5\" class=\"data row8 col5\" >-0.126226</td>\n",
       "                        <td id=\"T_16a7a2d3_0318_11ed_95d4_d2c5d33f3c6brow8_col6\" class=\"data row8 col6\" >-0.000398</td>\n",
       "                        <td id=\"T_16a7a2d3_0318_11ed_95d4_d2c5d33f3c6brow8_col7\" class=\"data row8 col7\" >-0.108776</td>\n",
       "                        <td id=\"T_16a7a2d3_0318_11ed_95d4_d2c5d33f3c6brow8_col8\" class=\"data row8 col8\" >1.000000</td>\n",
       "                        <td id=\"T_16a7a2d3_0318_11ed_95d4_d2c5d33f3c6brow8_col9\" class=\"data row8 col9\" >0.520895</td>\n",
       "                        <td id=\"T_16a7a2d3_0318_11ed_95d4_d2c5d33f3c6brow8_col10\" class=\"data row8 col10\" >0.071381</td>\n",
       "            </tr>\n",
       "            <tr>\n",
       "                        <th id=\"T_16a7a2d3_0318_11ed_95d4_d2c5d33f3c6blevel0_row9\" class=\"row_heading level0 row9\" >previous</th>\n",
       "                        <td id=\"T_16a7a2d3_0318_11ed_95d4_d2c5d33f3c6brow9_col0\" class=\"data row9 col0\" >-0.002396</td>\n",
       "                        <td id=\"T_16a7a2d3_0318_11ed_95d4_d2c5d33f3c6brow9_col1\" class=\"data row9 col1\" >-0.021915</td>\n",
       "                        <td id=\"T_16a7a2d3_0318_11ed_95d4_d2c5d33f3c6brow9_col2\" class=\"data row9 col2\" >0.016416</td>\n",
       "                        <td id=\"T_16a7a2d3_0318_11ed_95d4_d2c5d33f3c6brow9_col3\" class=\"data row9 col3\" >0.097612</td>\n",
       "                        <td id=\"T_16a7a2d3_0318_11ed_95d4_d2c5d33f3c6brow9_col4\" class=\"data row9 col4\" >-0.017559</td>\n",
       "                        <td id=\"T_16a7a2d3_0318_11ed_95d4_d2c5d33f3c6brow9_col5\" class=\"data row9 col5\" >-0.077114</td>\n",
       "                        <td id=\"T_16a7a2d3_0318_11ed_95d4_d2c5d33f3c6brow9_col6\" class=\"data row9 col6\" >-0.000913</td>\n",
       "                        <td id=\"T_16a7a2d3_0318_11ed_95d4_d2c5d33f3c6brow9_col7\" class=\"data row9 col7\" >-0.045538</td>\n",
       "                        <td id=\"T_16a7a2d3_0318_11ed_95d4_d2c5d33f3c6brow9_col8\" class=\"data row9 col8\" >0.520895</td>\n",
       "                        <td id=\"T_16a7a2d3_0318_11ed_95d4_d2c5d33f3c6brow9_col9\" class=\"data row9 col9\" >1.000000</td>\n",
       "                        <td id=\"T_16a7a2d3_0318_11ed_95d4_d2c5d33f3c6brow9_col10\" class=\"data row9 col10\" >0.094019</td>\n",
       "            </tr>\n",
       "            <tr>\n",
       "                        <th id=\"T_16a7a2d3_0318_11ed_95d4_d2c5d33f3c6blevel0_row10\" class=\"row_heading level0 row10\" >target</th>\n",
       "                        <td id=\"T_16a7a2d3_0318_11ed_95d4_d2c5d33f3c6brow10_col0\" class=\"data row10 col0\" >0.031161</td>\n",
       "                        <td id=\"T_16a7a2d3_0318_11ed_95d4_d2c5d33f3c6brow10_col1\" class=\"data row10 col1\" >-0.029111</td>\n",
       "                        <td id=\"T_16a7a2d3_0318_11ed_95d4_d2c5d33f3c6brow10_col2\" class=\"data row10 col2\" >0.054905</td>\n",
       "                        <td id=\"T_16a7a2d3_0318_11ed_95d4_d2c5d33f3c6brow10_col3\" class=\"data row10 col3\" >-0.133455</td>\n",
       "                        <td id=\"T_16a7a2d3_0318_11ed_95d4_d2c5d33f3c6brow10_col4\" class=\"data row10 col4\" >-0.084206</td>\n",
       "                        <td id=\"T_16a7a2d3_0318_11ed_95d4_d2c5d33f3c6brow10_col5\" class=\"data row10 col5\" >-0.046304</td>\n",
       "                        <td id=\"T_16a7a2d3_0318_11ed_95d4_d2c5d33f3c6brow10_col6\" class=\"data row10 col6\" >0.397735</td>\n",
       "                        <td id=\"T_16a7a2d3_0318_11ed_95d4_d2c5d33f3c6brow10_col7\" class=\"data row10 col7\" >-0.090407</td>\n",
       "                        <td id=\"T_16a7a2d3_0318_11ed_95d4_d2c5d33f3c6brow10_col8\" class=\"data row10 col8\" >0.071381</td>\n",
       "                        <td id=\"T_16a7a2d3_0318_11ed_95d4_d2c5d33f3c6brow10_col9\" class=\"data row10 col9\" >0.094019</td>\n",
       "                        <td id=\"T_16a7a2d3_0318_11ed_95d4_d2c5d33f3c6brow10_col10\" class=\"data row10 col10\" >1.000000</td>\n",
       "            </tr>\n",
       "    </tbody></table>"
      ],
      "text/plain": [
       "<pandas.io.formats.style.Styler at 0x1c40c05cbe0>"
      ]
     },
     "execution_count": 136,
     "metadata": {},
     "output_type": "execute_result"
    }
   ],
   "source": [
    "# Building correlation matrix\n",
    "corr = df.corr()\n",
    "corr.style.background_gradient(cmap='PuBu')"
   ]
  },
  {
   "cell_type": "markdown",
   "metadata": {},
   "source": [
    "The most correlated feature to the target is last contact <mark>duration</mark> of the customers. Next comes the number of days that passed by after the client was last contacted from a previous campaign  and  number of contacts performed before this campaign  showing a correlatio to the target value. Thus this two are  highly multicollinear among each other. Having a housing loan also correlated to the number of days that passed by after the client was last contacted from a previous campaign."
   ]
  },
  {
   "cell_type": "code",
   "execution_count": 137,
   "metadata": {},
   "outputs": [],
   "source": [
    "# Changing values\n",
    "df = df.replace({'prev_camp_outc': {'other':'unknown'}})"
   ]
  },
  {
   "cell_type": "markdown",
   "metadata": {},
   "source": [
    "### 4.  Model Building"
   ]
  },
  {
   "cell_type": "markdown",
   "metadata": {},
   "source": [
    "##### Performing Train-Test Split"
   ]
  },
  {
   "cell_type": "markdown",
   "metadata": {},
   "source": [
    "We will further split the data into train test sets whcih  allows us to simulate how a model would perform on new/unseen data. The training and validation data set is split into an *80:20* ratio. "
   ]
  },
  {
   "cell_type": "code",
   "execution_count": 138,
   "metadata": {},
   "outputs": [
    {
     "name": "stdout",
     "output_type": "stream",
     "text": [
      "(24724, 16) (24724,)\n",
      "(6181, 16) (6181,)\n"
     ]
    }
   ],
   "source": [
    "# Target&Feature setting\n",
    "y = df['target']\n",
    "X = df.drop(columns='target')\n",
    "X_train, X_test, y_train, y_test = train_test_split(X, y, test_size=0.2, random_state=27)\n",
    "print (X_train.shape,y_train.shape)\n",
    "print (X_test.shape,y_test.shape)\n"
   ]
  },
  {
   "cell_type": "code",
   "execution_count": 26,
   "metadata": {},
   "outputs": [
    {
     "data": {
      "text/html": [
       "<div>\n",
       "<style scoped>\n",
       "    .dataframe tbody tr th:only-of-type {\n",
       "        vertical-align: middle;\n",
       "    }\n",
       "\n",
       "    .dataframe tbody tr th {\n",
       "        vertical-align: top;\n",
       "    }\n",
       "\n",
       "    .dataframe thead th {\n",
       "        text-align: right;\n",
       "    }\n",
       "</style>\n",
       "<table border=\"1\" class=\"dataframe\">\n",
       "  <thead>\n",
       "    <tr style=\"text-align: right;\">\n",
       "      <th></th>\n",
       "      <th>age</th>\n",
       "      <th>job</th>\n",
       "      <th>marital</th>\n",
       "      <th>education</th>\n",
       "      <th>has_credit</th>\n",
       "      <th>balance</th>\n",
       "      <th>has_housing_loan</th>\n",
       "      <th>has_personal_loan</th>\n",
       "      <th>contact</th>\n",
       "      <th>day</th>\n",
       "      <th>month</th>\n",
       "      <th>duration</th>\n",
       "      <th>campaign</th>\n",
       "      <th>pdays</th>\n",
       "      <th>previous</th>\n",
       "      <th>prev_camp_outc</th>\n",
       "    </tr>\n",
       "  </thead>\n",
       "  <tbody>\n",
       "    <tr>\n",
       "      <th>22770</th>\n",
       "      <td>41</td>\n",
       "      <td>management</td>\n",
       "      <td>married</td>\n",
       "      <td>tertiary</td>\n",
       "      <td>0</td>\n",
       "      <td>51</td>\n",
       "      <td>0</td>\n",
       "      <td>0</td>\n",
       "      <td>cellular</td>\n",
       "      <td>25</td>\n",
       "      <td>aug</td>\n",
       "      <td>140</td>\n",
       "      <td>8</td>\n",
       "      <td>0</td>\n",
       "      <td>0</td>\n",
       "      <td>unknown</td>\n",
       "    </tr>\n",
       "    <tr>\n",
       "      <th>17905</th>\n",
       "      <td>42</td>\n",
       "      <td>technician</td>\n",
       "      <td>single</td>\n",
       "      <td>secondary</td>\n",
       "      <td>0</td>\n",
       "      <td>746</td>\n",
       "      <td>0</td>\n",
       "      <td>0</td>\n",
       "      <td>cellular</td>\n",
       "      <td>30</td>\n",
       "      <td>jul</td>\n",
       "      <td>86</td>\n",
       "      <td>2</td>\n",
       "      <td>0</td>\n",
       "      <td>0</td>\n",
       "      <td>unknown</td>\n",
       "    </tr>\n",
       "    <tr>\n",
       "      <th>35609</th>\n",
       "      <td>45</td>\n",
       "      <td>technician</td>\n",
       "      <td>divorced</td>\n",
       "      <td>secondary</td>\n",
       "      <td>0</td>\n",
       "      <td>3271</td>\n",
       "      <td>0</td>\n",
       "      <td>0</td>\n",
       "      <td>cellular</td>\n",
       "      <td>7</td>\n",
       "      <td>may</td>\n",
       "      <td>388</td>\n",
       "      <td>2</td>\n",
       "      <td>0</td>\n",
       "      <td>0</td>\n",
       "      <td>unknown</td>\n",
       "    </tr>\n",
       "    <tr>\n",
       "      <th>40783</th>\n",
       "      <td>45</td>\n",
       "      <td>management</td>\n",
       "      <td>married</td>\n",
       "      <td>tertiary</td>\n",
       "      <td>0</td>\n",
       "      <td>3857</td>\n",
       "      <td>1</td>\n",
       "      <td>0</td>\n",
       "      <td>cellular</td>\n",
       "      <td>11</td>\n",
       "      <td>aug</td>\n",
       "      <td>425</td>\n",
       "      <td>2</td>\n",
       "      <td>190</td>\n",
       "      <td>1</td>\n",
       "      <td>failure</td>\n",
       "    </tr>\n",
       "    <tr>\n",
       "      <th>13944</th>\n",
       "      <td>25</td>\n",
       "      <td>blue-collar</td>\n",
       "      <td>single</td>\n",
       "      <td>primary</td>\n",
       "      <td>0</td>\n",
       "      <td>2483</td>\n",
       "      <td>0</td>\n",
       "      <td>0</td>\n",
       "      <td>cellular</td>\n",
       "      <td>10</td>\n",
       "      <td>jul</td>\n",
       "      <td>1499</td>\n",
       "      <td>3</td>\n",
       "      <td>0</td>\n",
       "      <td>0</td>\n",
       "      <td>unknown</td>\n",
       "    </tr>\n",
       "    <tr>\n",
       "      <th>...</th>\n",
       "      <td>...</td>\n",
       "      <td>...</td>\n",
       "      <td>...</td>\n",
       "      <td>...</td>\n",
       "      <td>...</td>\n",
       "      <td>...</td>\n",
       "      <td>...</td>\n",
       "      <td>...</td>\n",
       "      <td>...</td>\n",
       "      <td>...</td>\n",
       "      <td>...</td>\n",
       "      <td>...</td>\n",
       "      <td>...</td>\n",
       "      <td>...</td>\n",
       "      <td>...</td>\n",
       "      <td>...</td>\n",
       "    </tr>\n",
       "    <tr>\n",
       "      <th>33515</th>\n",
       "      <td>38</td>\n",
       "      <td>management</td>\n",
       "      <td>married</td>\n",
       "      <td>tertiary</td>\n",
       "      <td>0</td>\n",
       "      <td>7255</td>\n",
       "      <td>1</td>\n",
       "      <td>0</td>\n",
       "      <td>cellular</td>\n",
       "      <td>20</td>\n",
       "      <td>apr</td>\n",
       "      <td>410</td>\n",
       "      <td>2</td>\n",
       "      <td>0</td>\n",
       "      <td>0</td>\n",
       "      <td>unknown</td>\n",
       "    </tr>\n",
       "    <tr>\n",
       "      <th>23319</th>\n",
       "      <td>36</td>\n",
       "      <td>management</td>\n",
       "      <td>married</td>\n",
       "      <td>tertiary</td>\n",
       "      <td>0</td>\n",
       "      <td>0</td>\n",
       "      <td>0</td>\n",
       "      <td>0</td>\n",
       "      <td>cellular</td>\n",
       "      <td>27</td>\n",
       "      <td>aug</td>\n",
       "      <td>558</td>\n",
       "      <td>11</td>\n",
       "      <td>0</td>\n",
       "      <td>0</td>\n",
       "      <td>unknown</td>\n",
       "    </tr>\n",
       "    <tr>\n",
       "      <th>41020</th>\n",
       "      <td>45</td>\n",
       "      <td>management</td>\n",
       "      <td>single</td>\n",
       "      <td>tertiary</td>\n",
       "      <td>0</td>\n",
       "      <td>2067</td>\n",
       "      <td>1</td>\n",
       "      <td>0</td>\n",
       "      <td>cellular</td>\n",
       "      <td>13</td>\n",
       "      <td>aug</td>\n",
       "      <td>393</td>\n",
       "      <td>2</td>\n",
       "      <td>462</td>\n",
       "      <td>1</td>\n",
       "      <td>success</td>\n",
       "    </tr>\n",
       "    <tr>\n",
       "      <th>43476</th>\n",
       "      <td>35</td>\n",
       "      <td>self-employed</td>\n",
       "      <td>married</td>\n",
       "      <td>tertiary</td>\n",
       "      <td>0</td>\n",
       "      <td>1178</td>\n",
       "      <td>1</td>\n",
       "      <td>1</td>\n",
       "      <td>cellular</td>\n",
       "      <td>15</td>\n",
       "      <td>apr</td>\n",
       "      <td>220</td>\n",
       "      <td>2</td>\n",
       "      <td>183</td>\n",
       "      <td>5</td>\n",
       "      <td>failure</td>\n",
       "    </tr>\n",
       "    <tr>\n",
       "      <th>26741</th>\n",
       "      <td>35</td>\n",
       "      <td>blue-collar</td>\n",
       "      <td>married</td>\n",
       "      <td>secondary</td>\n",
       "      <td>0</td>\n",
       "      <td>911</td>\n",
       "      <td>1</td>\n",
       "      <td>0</td>\n",
       "      <td>cellular</td>\n",
       "      <td>20</td>\n",
       "      <td>nov</td>\n",
       "      <td>434</td>\n",
       "      <td>2</td>\n",
       "      <td>181</td>\n",
       "      <td>5</td>\n",
       "      <td>unknown</td>\n",
       "    </tr>\n",
       "  </tbody>\n",
       "</table>\n",
       "<p>6181 rows × 16 columns</p>\n",
       "</div>"
      ],
      "text/plain": [
       "       age            job   marital  education  has_credit  balance  \\\n",
       "22770   41     management   married   tertiary           0       51   \n",
       "17905   42     technician    single  secondary           0      746   \n",
       "35609   45     technician  divorced  secondary           0     3271   \n",
       "40783   45     management   married   tertiary           0     3857   \n",
       "13944   25    blue-collar    single    primary           0     2483   \n",
       "...    ...            ...       ...        ...         ...      ...   \n",
       "33515   38     management   married   tertiary           0     7255   \n",
       "23319   36     management   married   tertiary           0        0   \n",
       "41020   45     management    single   tertiary           0     2067   \n",
       "43476   35  self-employed   married   tertiary           0     1178   \n",
       "26741   35    blue-collar   married  secondary           0      911   \n",
       "\n",
       "       has_housing_loan  has_personal_loan   contact  day month  duration  \\\n",
       "22770                 0                  0  cellular   25   aug       140   \n",
       "17905                 0                  0  cellular   30   jul        86   \n",
       "35609                 0                  0  cellular    7   may       388   \n",
       "40783                 1                  0  cellular   11   aug       425   \n",
       "13944                 0                  0  cellular   10   jul      1499   \n",
       "...                 ...                ...       ...  ...   ...       ...   \n",
       "33515                 1                  0  cellular   20   apr       410   \n",
       "23319                 0                  0  cellular   27   aug       558   \n",
       "41020                 1                  0  cellular   13   aug       393   \n",
       "43476                 1                  1  cellular   15   apr       220   \n",
       "26741                 1                  0  cellular   20   nov       434   \n",
       "\n",
       "       campaign  pdays  previous prev_camp_outc  \n",
       "22770         8      0         0        unknown  \n",
       "17905         2      0         0        unknown  \n",
       "35609         2      0         0        unknown  \n",
       "40783         2    190         1        failure  \n",
       "13944         3      0         0        unknown  \n",
       "...         ...    ...       ...            ...  \n",
       "33515         2      0         0        unknown  \n",
       "23319        11      0         0        unknown  \n",
       "41020         2    462         1        success  \n",
       "43476         2    183         5        failure  \n",
       "26741         2    181         5        unknown  \n",
       "\n",
       "[6181 rows x 16 columns]"
      ]
     },
     "execution_count": 26,
     "metadata": {},
     "output_type": "execute_result"
    }
   ],
   "source": [
    "X_test"
   ]
  },
  {
   "cell_type": "code",
   "execution_count": 73,
   "metadata": {},
   "outputs": [
    {
     "data": {
      "text/plain": [
       "job               object\n",
       "marital           object\n",
       "education         object\n",
       "contact           object\n",
       "month             object\n",
       "prev_camp_outc    object\n",
       "dtype: object"
      ]
     },
     "execution_count": 73,
     "metadata": {},
     "output_type": "execute_result"
    }
   ],
   "source": [
    "df.dtypes[df.dtypes == 'object']"
   ]
  },
  {
   "cell_type": "code",
   "execution_count": 112,
   "metadata": {},
   "outputs": [
    {
     "data": {
      "text/plain": [
       "age                  int64\n",
       "has_credit           int64\n",
       "balance              int64\n",
       "has_housing_loan     int64\n",
       "has_personal_loan    int64\n",
       "day                  int64\n",
       "duration             int64\n",
       "campaign             int64\n",
       "pdays                int64\n",
       "previous             int64\n",
       "target               int64\n",
       "dtype: object"
      ]
     },
     "execution_count": 112,
     "metadata": {},
     "output_type": "execute_result"
    }
   ],
   "source": [
    "df.dtypes[df.dtypes != 'object']"
   ]
  },
  {
   "cell_type": "code",
   "execution_count": 139,
   "metadata": {},
   "outputs": [],
   "source": [
    "from sklearn.compose import ColumnTransformer\n",
    "\n",
    "numeric_feat = ['age', 'has_credit','balance','has_housing_loan',\n",
    "                    'has_personal_loan','day','duration','campaign',\n",
    "                    'pdays','previous']\n",
    "categorical_feat = ['job','marital','education','contact','month','prev_camp_outc']\n",
    "\n",
    "numeric_transformer = StandardScaler()\n",
    "categorical_transformer = OneHotEncoder(sparse=False, handle_unknown='ignore')\n",
    "\n",
    "preprocessor = ColumnTransformer(\n",
    "    transformers=[\n",
    "        (\"num\", numeric_transformer, numeric_feat),\n",
    "        (\"cat\", categorical_transformer, categorical_feat),\n",
    "    ]\n",
    ")\n"
   ]
  },
  {
   "cell_type": "code",
   "execution_count": 109,
   "metadata": {},
   "outputs": [],
   "source": [
    "columns_to_encode = ['job','marital','education','contact','month','prev_camp_outc']"
   ]
  },
  {
   "cell_type": "code",
   "execution_count": 110,
   "metadata": {},
   "outputs": [],
   "source": [
    "ohe = OneHotEncoder(sparse=False, handle_unknown='ignore')\n",
    "X_train = ohe.fit_transform(X_train[columns_to_encode])\n",
    "X_test = ohe.transform(X_test[columns_to_encode])"
   ]
  },
  {
   "cell_type": "code",
   "execution_count": 111,
   "metadata": {},
   "outputs": [
    {
     "ename": "AttributeError",
     "evalue": "'numpy.ndarray' object has no attribute 'columns'",
     "output_type": "error",
     "traceback": [
      "\u001b[1;31m---------------------------------------------------------------------------\u001b[0m",
      "\u001b[1;31mAttributeError\u001b[0m                            Traceback (most recent call last)",
      "\u001b[1;32m<ipython-input-111-2625f76b8a6d>\u001b[0m in \u001b[0;36m<module>\u001b[1;34m\u001b[0m\n\u001b[1;32m----> 1\u001b[1;33m \u001b[0mX_train\u001b[0m\u001b[1;33m.\u001b[0m\u001b[0mcolumns\u001b[0m\u001b[1;33m\u001b[0m\u001b[1;33m\u001b[0m\u001b[0m\n\u001b[0m",
      "\u001b[1;31mAttributeError\u001b[0m: 'numpy.ndarray' object has no attribute 'columns'"
     ]
    }
   ],
   "source": [
    "X_train.columns"
   ]
  },
  {
   "cell_type": "markdown",
   "metadata": {},
   "source": [
    "##### Model-1. Baseline Model (Dummy Classifier ) / Pipeline"
   ]
  },
  {
   "cell_type": "markdown",
   "metadata": {},
   "source": [
    "We normalize after splitting our data into training and test sets. This is to avoid information \"leaking\" from our test set into our training set . Normalization (also sometimes called Standardization or Scaling) means making sure that all of the data are represented at the same scale. The most common way to do this is to convert all numerical values to z-scores."
   ]
  },
  {
   "cell_type": "markdown",
   "metadata": {},
   "source": [
    "To be able to truly understand and then improve our model’s performance,  first we need to establish a baseline  called a *Dummy Classifier* for the data that we have. A dummy classifier is exactly what it sounds like! It is a classifier model that makes predictions without trying to find patterns in the data. \n",
    "\n",
    "**Insights of a Confusion Matrix:**<p>\n",
    "The main purpose of a confusion matrix is to see how our model is performing when it comes to classifying potential clients that are likely to suscribe to a term deposit.\n",
    "- Positive/Negative: Type of Class (label) [\"No\", \"Yes\"] True/False: Correctly or Incorrectly classified by the model.\n",
    "\n",
    "True Positives (Bottom-Right Square): This is the percentage of **correctly** classifications of the \"Yes\" class or potenial clients that are willing to subscribe term deposit.\n",
    "    \n",
    "False Positive (Bottom-Left Square), means the client do NOT SUBSCRIBED to term deposit, but the model thinks he did. It is not good because we think that we already have that client but we dont and maybe we lost him in other future campaings.\n",
    "\n",
    "True Negatives (Top-Left Square): This is the percentage of **correctly** classifications of the \"No\" class or potenial clients that are not willing to suscribe a term deposit\n",
    "    \n",
    "False Negative (Top-Right Square), means the client SUBSCRIBED to term deposit, but the model said he dont. In this case its ok, we have that client and in the future we'll discovery that in truth he's already our client.\n",
    "\n",
    "So, our objective here, is to find the best model by confusion matrix with the lowest False Positive(FP)  and highest True Positive(TP) as possible. In addition we primarily care about correctly identifying subscribed  clients to a  term deposit, so the recall score becomes more important. "
   ]
  },
  {
   "cell_type": "code",
   "execution_count": 140,
   "metadata": {},
   "outputs": [
    {
     "name": "stdout",
     "output_type": "stream",
     "text": [
      "Training Score: 0.7533570619640835\n",
      "Testing Score 0.752790810548455\n"
     ]
    }
   ],
   "source": [
    "# Instantiating the Dummy Classifier and creating pipeline\n",
    "#scaler = StandardScaler()\n",
    "dummy_clf = DummyClassifier(random_state=2, strategy='stratified')\n",
    "\n",
    "dummy_pipe = Pipeline(steps=[('prep', preprocessor), \n",
    "                            ('model',dummy_clf)])\n",
    "# fitting the  Baseline model\n",
    "dummy_pipe.fit(X_train, y_train)\n",
    "                             \n",
    "print(f'Training Score:', dummy_pipe.score(X_train, y_train))\n",
    "print(f'Testing Score', dummy_pipe.score(X_test, y_test))"
   ]
  },
  {
   "cell_type": "code",
   "execution_count": 141,
   "metadata": {},
   "outputs": [],
   "source": [
    "# Defining function for Model Evaluation\n",
    "def model_evaluation(model_pipe, X_train, y_train, X_test, y_test, name):\n",
    "    \n",
    "    y_pred_train = model_pipe.predict(X_train)\n",
    "    y_pred_test = model_pipe.predict(X_test)\n",
    "# define evaluation procedure\n",
    "    rec_score = recall_score(y_test, y_pred_test)*100\n",
    "    \n",
    "# Classification report \n",
    "    print('------------------------------------')\n",
    "    print('Classification Report for Training:')\n",
    "    print(classification_report(y_train, y_pred_train))\n",
    "    print('------------------------------------')\n",
    "    print('Classification Report for Testing:')\n",
    "    print(classification_report(y_test, y_pred_test))\n",
    "    print(f'Testing Recall Score of {name} : {round(rec_score,2)}%')\n",
    "    \n",
    "# Confusion matrix\n",
    "    print('------------------------------------')\n",
    "    print (f'Confusion Matrix for {name}')\n",
    "    plot_confusion_matrix(model_pipe, \n",
    "    X_test, \n",
    "    y_test, \n",
    "    normalize='true',\n",
    "    cmap='Blues_r',\n",
    "    display_labels= ['Not Subscribed', 'Subscribed'],\n",
    "    values_format='.0%')\n",
    "    title= 'Confusion Matrix'\n",
    "    plt.grid(False) #removes grid lines from plot\n",
    "    \n",
    "    \n",
    "# Plotting precision and recall curve\n",
    "    y_score = model_pipe.predict_proba(X_test)[:, 1]\n",
    "    precision, recall, thresholds = precision_recall_curve(y_test, y_score)\n",
    "    fig, ax = plt.subplots()\n",
    "    no_skill = len(y_test[y_test==1]) / len(y_test)\n",
    "    ax.plot([0, 1], [no_skill, no_skill], linestyle='--', label='No Skill')\n",
    "    ax.plot(recall, precision, marker='.', label=name)\n",
    "    #add axis labels to plot\n",
    "    ax.set_title(f'{name} Precision-Recall Curve')\n",
    "    ax.set_ylabel('Precision')\n",
    "    ax.set_xlabel('Recall')\n",
    "    ax.legend()\n",
    "    #display plot\n",
    "    plt.show()\n",
    "    print (\"Area Under PR Curve(AP): %0.2f\" % average_precision_score(y_test, y_score))\n",
    "    print('------------------------------------')"
   ]
  },
  {
   "cell_type": "code",
   "execution_count": 30,
   "metadata": {},
   "outputs": [
    {
     "name": "stdout",
     "output_type": "stream",
     "text": [
      "------------------------------------\n",
      "Classification Report for Training:\n",
      "              precision    recall  f1-score   support\n",
      "\n",
      "           0       0.86      0.86      0.86     21124\n",
      "           1       0.15      0.15      0.15      3600\n",
      "\n",
      "    accuracy                           0.75     24724\n",
      "   macro avg       0.50      0.50      0.50     24724\n",
      "weighted avg       0.75      0.75      0.75     24724\n",
      "\n",
      "------------------------------------\n",
      "Classification Report for Testing:\n",
      "              precision    recall  f1-score   support\n",
      "\n",
      "           0       0.85      0.86      0.86      5268\n",
      "           1       0.15      0.15      0.15       913\n",
      "\n",
      "    accuracy                           0.75      6181\n",
      "   macro avg       0.50      0.50      0.50      6181\n",
      "weighted avg       0.75      0.75      0.75      6181\n",
      "\n",
      "Testing Recall Score of Dummy Classifier : 14.9%\n",
      "------------------------------------\n",
      "Confusion Matrix for Dummy Classifier\n"
     ]
    },
    {
     "data": {
      "image/png": "[encoded data removed]",
      "text/plain": [
       "<Figure size 432x288 with 2 Axes>"
      ]
     },
     "metadata": {},
     "output_type": "display_data"
    },
    {
     "data": {
      "image/png": "[encoded data removed]",
      "text/plain": [
       "<Figure size 432x288 with 1 Axes>"
      ]
     },
     "metadata": {},
     "output_type": "display_data"
    },
    {
     "name": "stdout",
     "output_type": "stream",
     "text": [
      "Area Under PR Curve(AP): 0.15\n",
      "------------------------------------\n"
     ]
    }
   ],
   "source": [
    "model_evaluation(dummy_pipe, X_train, y_train, X_test,y_test, 'Dummy Classifier')"
   ]
  },
  {
   "cell_type": "markdown",
   "metadata": {},
   "source": [
    " Lets display the proportion of our target classes"
   ]
  },
  {
   "cell_type": "markdown",
   "metadata": {},
   "source": [
    "The baseline model evaluated 86% of  False Negative (FN) values and 85% of  True Negative (TN). Model could be effected by class imbalance. With this in mind, we confirm  the imbalance problem related above. So, we will set class_weight parameter into *'balanced'* to solve this issue. This adjusts so total weights are equal accross classes; in other words, members of the majority (not-subscribed) class will be given less weight than members of the minority (subscribed) class. "
   ]
  },
  {
   "cell_type": "code",
   "execution_count": 142,
   "metadata": {},
   "outputs": [
    {
     "data": {
      "image/png": "[encoded data removed]",
      "text/plain": [
       "<Figure size 720x432 with 1 Axes>"
      ]
     },
     "metadata": {},
     "output_type": "display_data"
    }
   ],
   "source": [
    "# Plotting class distribution in terms of the %\n",
    "labels = [\"Not Subscribed\", \"Subscribed\"]\n",
    "plt.figure(figsize = (10,6))\n",
    "colors =['#003049','#FCBF49']\n",
    "y.value_counts().plot.pie(labels=labels,autopct='%1.2f%%', colors=colors , textprops={'fontsize': 20,'color':'white'});\n",
    "plt.legend()\n",
    "plt.show()"
   ]
  },
  {
   "cell_type": "markdown",
   "metadata": {},
   "source": [
    "#####  Model-2. Logistic Regression  /  balanced class_weight / Pipeline"
   ]
  },
  {
   "cell_type": "code",
   "execution_count": 145,
   "metadata": {},
   "outputs": [
    {
     "name": "stdout",
     "output_type": "stream",
     "text": [
      "Training Score: 0.8311357385536321\n",
      "Testing Score 0.8272124251739201\n"
     ]
    }
   ],
   "source": [
    "# Instantiating the Logistic Regression Model and creating pipeline\n",
    "logreg_clf= LogisticRegression(\n",
    "                           random_state=27,\n",
    "                           solver='liblinear',\n",
    "                           class_weight='balanced', \n",
    "                           max_iter=1e3)\n",
    "\n",
    "logreg_pipe = Pipeline(steps=[('prep', preprocessor), \n",
    "                            ('logreg',logreg_clf),\n",
    "                              ])\n",
    "# fitting the logistic regression model\n",
    "logreg_pipe.fit(X_train, y_train)\n",
    "print(f'Training Score:',logreg_pipe.score(X_train, y_train))\n",
    "print(f'Testing Score',logreg_pipe.score(X_test, y_test))\n"
   ]
  },
  {
   "cell_type": "code",
   "execution_count": 146,
   "metadata": {},
   "outputs": [
    {
     "name": "stdout",
     "output_type": "stream",
     "text": [
      "------------------------------------\n",
      "Classification Report for Training:\n",
      "              precision    recall  f1-score   support\n",
      "\n",
      "           0       0.96      0.84      0.89     21124\n",
      "           1       0.45      0.80      0.58      3600\n",
      "\n",
      "    accuracy                           0.83     24724\n",
      "   macro avg       0.71      0.82      0.74     24724\n",
      "weighted avg       0.89      0.83      0.85     24724\n",
      "\n",
      "------------------------------------\n",
      "Classification Report for Testing:\n",
      "              precision    recall  f1-score   support\n",
      "\n",
      "           0       0.96      0.83      0.89      5268\n",
      "           1       0.45      0.79      0.57       913\n",
      "\n",
      "    accuracy                           0.83      6181\n",
      "   macro avg       0.70      0.81      0.73      6181\n",
      "weighted avg       0.88      0.83      0.84      6181\n",
      "\n",
      "Testing Recall Score of Logistic Regression : 78.64%\n",
      "------------------------------------\n",
      "Confusion Matrix for Logistic Regression\n"
     ]
    },
    {
     "data": {
      "image/png": "[encoded data removed]",
      "text/plain": [
       "<Figure size 432x288 with 2 Axes>"
      ]
     },
     "metadata": {},
     "output_type": "display_data"
    },
    {
     "data": {
      "image/png": "[encoded data removed]",
      "text/plain": [
       "<Figure size 432x288 with 1 Axes>"
      ]
     },
     "metadata": {},
     "output_type": "display_data"
    },
    {
     "name": "stdout",
     "output_type": "stream",
     "text": [
      "Area Under PR Curve(AP): 0.57\n",
      "------------------------------------\n"
     ]
    }
   ],
   "source": [
    "# Logistic Regression Model evaluations \n",
    "model_evaluation(logreg_pipe, X_train, y_train, X_test, y_test, 'Logistic Regression')"
   ]
  },
  {
   "cell_type": "markdown",
   "metadata": {},
   "source": [
    "Logistic Regression with balanced class_weight parameter increased Recall up to 78.64%. We will try to rebuild LogReg Model by addressing imbalanced datasets through oversampling the minority target class. These examples don’t add any new information to the model. Instead, new examples can be synthesized from the existing examples. This is a type of data augmentation for the minority class and is referred to as the *Synthetic Minority Over-sampling Technique for Nominal and Continuous.*, or **SMOTENC** for short."
   ]
  },
  {
   "cell_type": "code",
   "execution_count": 34,
   "metadata": {},
   "outputs": [
    {
     "data": {
      "text/plain": [
       "array([ 1,  2,  4,  3,  6,  5, 19,  9,  8,  7, 14, 15, 11, 12, 30, 33, 13,\n",
       "       20, 10, 24, 26, 35, 17, 27, 16, 31, 28, 21, 18, 23, 22, 29, 25, 34,\n",
       "       36, 39, 43, 32, 38, 50, 44], dtype=int64)"
      ]
     },
     "execution_count": 34,
     "metadata": {},
     "output_type": "execute_result"
    }
   ],
   "source": [
    "df.campaign.unique()"
   ]
  },
  {
   "cell_type": "code",
   "execution_count": 35,
   "metadata": {},
   "outputs": [
    {
     "data": {
      "text/html": [
       "<div>\n",
       "<style scoped>\n",
       "    .dataframe tbody tr th:only-of-type {\n",
       "        vertical-align: middle;\n",
       "    }\n",
       "\n",
       "    .dataframe tbody tr th {\n",
       "        vertical-align: top;\n",
       "    }\n",
       "\n",
       "    .dataframe thead th {\n",
       "        text-align: right;\n",
       "    }\n",
       "</style>\n",
       "<table border=\"1\" class=\"dataframe\">\n",
       "  <thead>\n",
       "    <tr style=\"text-align: right;\">\n",
       "      <th></th>\n",
       "      <th>12657</th>\n",
       "      <th>12658</th>\n",
       "      <th>12659</th>\n",
       "      <th>12660</th>\n",
       "      <th>12661</th>\n",
       "      <th>12662</th>\n",
       "      <th>12663</th>\n",
       "      <th>12664</th>\n",
       "      <th>12665</th>\n",
       "      <th>12666</th>\n",
       "    </tr>\n",
       "  </thead>\n",
       "  <tbody>\n",
       "    <tr>\n",
       "      <th>age</th>\n",
       "      <td>27</td>\n",
       "      <td>54</td>\n",
       "      <td>43</td>\n",
       "      <td>31</td>\n",
       "      <td>27</td>\n",
       "      <td>28</td>\n",
       "      <td>50</td>\n",
       "      <td>29</td>\n",
       "      <td>25</td>\n",
       "      <td>38</td>\n",
       "    </tr>\n",
       "    <tr>\n",
       "      <th>job</th>\n",
       "      <td>management</td>\n",
       "      <td>blue-collar</td>\n",
       "      <td>blue-collar</td>\n",
       "      <td>technician</td>\n",
       "      <td>technician</td>\n",
       "      <td>blue-collar</td>\n",
       "      <td>blue-collar</td>\n",
       "      <td>blue-collar</td>\n",
       "      <td>blue-collar</td>\n",
       "      <td>blue-collar</td>\n",
       "    </tr>\n",
       "    <tr>\n",
       "      <th>marital</th>\n",
       "      <td>single</td>\n",
       "      <td>married</td>\n",
       "      <td>married</td>\n",
       "      <td>single</td>\n",
       "      <td>single</td>\n",
       "      <td>single</td>\n",
       "      <td>married</td>\n",
       "      <td>single</td>\n",
       "      <td>single</td>\n",
       "      <td>married</td>\n",
       "    </tr>\n",
       "    <tr>\n",
       "      <th>education</th>\n",
       "      <td>secondary</td>\n",
       "      <td>primary</td>\n",
       "      <td>secondary</td>\n",
       "      <td>secondary</td>\n",
       "      <td>secondary</td>\n",
       "      <td>secondary</td>\n",
       "      <td>secondary</td>\n",
       "      <td>primary</td>\n",
       "      <td>secondary</td>\n",
       "      <td>secondary</td>\n",
       "    </tr>\n",
       "    <tr>\n",
       "      <th>has_credit</th>\n",
       "      <td>0</td>\n",
       "      <td>0</td>\n",
       "      <td>0</td>\n",
       "      <td>0</td>\n",
       "      <td>0</td>\n",
       "      <td>0</td>\n",
       "      <td>0</td>\n",
       "      <td>0</td>\n",
       "      <td>0</td>\n",
       "      <td>0</td>\n",
       "    </tr>\n",
       "    <tr>\n",
       "      <th>balance</th>\n",
       "      <td>35</td>\n",
       "      <td>466</td>\n",
       "      <td>105</td>\n",
       "      <td>19</td>\n",
       "      <td>126</td>\n",
       "      <td>-127</td>\n",
       "      <td>1329</td>\n",
       "      <td>343</td>\n",
       "      <td>192</td>\n",
       "      <td>43</td>\n",
       "    </tr>\n",
       "    <tr>\n",
       "      <th>has_housing_loan</th>\n",
       "      <td>0</td>\n",
       "      <td>0</td>\n",
       "      <td>0</td>\n",
       "      <td>0</td>\n",
       "      <td>1</td>\n",
       "      <td>1</td>\n",
       "      <td>1</td>\n",
       "      <td>0</td>\n",
       "      <td>0</td>\n",
       "      <td>0</td>\n",
       "    </tr>\n",
       "    <tr>\n",
       "      <th>has_personal_loan</th>\n",
       "      <td>0</td>\n",
       "      <td>0</td>\n",
       "      <td>1</td>\n",
       "      <td>0</td>\n",
       "      <td>1</td>\n",
       "      <td>0</td>\n",
       "      <td>1</td>\n",
       "      <td>0</td>\n",
       "      <td>0</td>\n",
       "      <td>1</td>\n",
       "    </tr>\n",
       "    <tr>\n",
       "      <th>contact</th>\n",
       "      <td>cellular</td>\n",
       "      <td>cellular</td>\n",
       "      <td>cellular</td>\n",
       "      <td>telephone</td>\n",
       "      <td>cellular</td>\n",
       "      <td>cellular</td>\n",
       "      <td>telephone</td>\n",
       "      <td>cellular</td>\n",
       "      <td>telephone</td>\n",
       "      <td>cellular</td>\n",
       "    </tr>\n",
       "    <tr>\n",
       "      <th>day</th>\n",
       "      <td>4</td>\n",
       "      <td>4</td>\n",
       "      <td>4</td>\n",
       "      <td>4</td>\n",
       "      <td>4</td>\n",
       "      <td>4</td>\n",
       "      <td>4</td>\n",
       "      <td>4</td>\n",
       "      <td>4</td>\n",
       "      <td>4</td>\n",
       "    </tr>\n",
       "    <tr>\n",
       "      <th>month</th>\n",
       "      <td>jul</td>\n",
       "      <td>jul</td>\n",
       "      <td>jul</td>\n",
       "      <td>jul</td>\n",
       "      <td>jul</td>\n",
       "      <td>jul</td>\n",
       "      <td>jul</td>\n",
       "      <td>jul</td>\n",
       "      <td>jul</td>\n",
       "      <td>jul</td>\n",
       "    </tr>\n",
       "    <tr>\n",
       "      <th>duration</th>\n",
       "      <td>255</td>\n",
       "      <td>297</td>\n",
       "      <td>668</td>\n",
       "      <td>65</td>\n",
       "      <td>436</td>\n",
       "      <td>1044</td>\n",
       "      <td>141</td>\n",
       "      <td>39</td>\n",
       "      <td>112</td>\n",
       "      <td>135</td>\n",
       "    </tr>\n",
       "    <tr>\n",
       "      <th>campaign</th>\n",
       "      <td>1</td>\n",
       "      <td>1</td>\n",
       "      <td>2</td>\n",
       "      <td>2</td>\n",
       "      <td>4</td>\n",
       "      <td>3</td>\n",
       "      <td>2</td>\n",
       "      <td>2</td>\n",
       "      <td>2</td>\n",
       "      <td>3</td>\n",
       "    </tr>\n",
       "    <tr>\n",
       "      <th>pdays</th>\n",
       "      <td>0</td>\n",
       "      <td>0</td>\n",
       "      <td>0</td>\n",
       "      <td>0</td>\n",
       "      <td>0</td>\n",
       "      <td>0</td>\n",
       "      <td>0</td>\n",
       "      <td>0</td>\n",
       "      <td>0</td>\n",
       "      <td>0</td>\n",
       "    </tr>\n",
       "    <tr>\n",
       "      <th>previous</th>\n",
       "      <td>0</td>\n",
       "      <td>0</td>\n",
       "      <td>0</td>\n",
       "      <td>0</td>\n",
       "      <td>0</td>\n",
       "      <td>0</td>\n",
       "      <td>0</td>\n",
       "      <td>0</td>\n",
       "      <td>0</td>\n",
       "      <td>0</td>\n",
       "    </tr>\n",
       "    <tr>\n",
       "      <th>prev_camp_outc</th>\n",
       "      <td>unknown</td>\n",
       "      <td>unknown</td>\n",
       "      <td>unknown</td>\n",
       "      <td>unknown</td>\n",
       "      <td>unknown</td>\n",
       "      <td>unknown</td>\n",
       "      <td>unknown</td>\n",
       "      <td>unknown</td>\n",
       "      <td>unknown</td>\n",
       "      <td>unknown</td>\n",
       "    </tr>\n",
       "    <tr>\n",
       "      <th>target</th>\n",
       "      <td>0</td>\n",
       "      <td>0</td>\n",
       "      <td>0</td>\n",
       "      <td>0</td>\n",
       "      <td>0</td>\n",
       "      <td>1</td>\n",
       "      <td>0</td>\n",
       "      <td>0</td>\n",
       "      <td>0</td>\n",
       "      <td>0</td>\n",
       "    </tr>\n",
       "  </tbody>\n",
       "</table>\n",
       "</div>"
      ],
      "text/plain": [
       "                        12657        12658        12659       12660  \\\n",
       "age                        27           54           43          31   \n",
       "job                management  blue-collar  blue-collar  technician   \n",
       "marital                single      married      married      single   \n",
       "education           secondary      primary    secondary   secondary   \n",
       "has_credit                  0            0            0           0   \n",
       "balance                    35          466          105          19   \n",
       "has_housing_loan            0            0            0           0   \n",
       "has_personal_loan           0            0            1           0   \n",
       "contact              cellular     cellular     cellular   telephone   \n",
       "day                         4            4            4           4   \n",
       "month                     jul          jul          jul         jul   \n",
       "duration                  255          297          668          65   \n",
       "campaign                    1            1            2           2   \n",
       "pdays                       0            0            0           0   \n",
       "previous                    0            0            0           0   \n",
       "prev_camp_outc        unknown      unknown      unknown     unknown   \n",
       "target                      0            0            0           0   \n",
       "\n",
       "                        12661        12662        12663        12664  \\\n",
       "age                        27           28           50           29   \n",
       "job                technician  blue-collar  blue-collar  blue-collar   \n",
       "marital                single       single      married       single   \n",
       "education           secondary    secondary    secondary      primary   \n",
       "has_credit                  0            0            0            0   \n",
       "balance                   126         -127         1329          343   \n",
       "has_housing_loan            1            1            1            0   \n",
       "has_personal_loan           1            0            1            0   \n",
       "contact              cellular     cellular    telephone     cellular   \n",
       "day                         4            4            4            4   \n",
       "month                     jul          jul          jul          jul   \n",
       "duration                  436         1044          141           39   \n",
       "campaign                    4            3            2            2   \n",
       "pdays                       0            0            0            0   \n",
       "previous                    0            0            0            0   \n",
       "prev_camp_outc        unknown      unknown      unknown      unknown   \n",
       "target                      0            1            0            0   \n",
       "\n",
       "                         12665        12666  \n",
       "age                         25           38  \n",
       "job                blue-collar  blue-collar  \n",
       "marital                 single      married  \n",
       "education            secondary    secondary  \n",
       "has_credit                   0            0  \n",
       "balance                    192           43  \n",
       "has_housing_loan             0            0  \n",
       "has_personal_loan            0            1  \n",
       "contact              telephone     cellular  \n",
       "day                          4            4  \n",
       "month                      jul          jul  \n",
       "duration                   112          135  \n",
       "campaign                     2            3  \n",
       "pdays                        0            0  \n",
       "previous                     0            0  \n",
       "prev_camp_outc         unknown      unknown  \n",
       "target                       0            0  "
      ]
     },
     "execution_count": 35,
     "metadata": {},
     "output_type": "execute_result"
    }
   ],
   "source": [
    "df.head(10).T"
   ]
  },
  {
   "cell_type": "code",
   "execution_count": 152,
   "metadata": {},
   "outputs": [
    {
     "data": {
      "text/plain": [
       "array([ 4,  7,  8,  9, 10, 11, 14, 15, 16, 17, 18, 21, 22, 23, 24, 25, 28,\n",
       "       29, 30, 31,  5,  6, 12, 13, 19, 20, 26, 27,  2,  3,  1],\n",
       "      dtype=int64)"
      ]
     },
     "execution_count": 152,
     "metadata": {},
     "output_type": "execute_result"
    }
   ],
   "source": [
    "df.day.unique()"
   ]
  },
  {
   "cell_type": "code",
   "execution_count": 84,
   "metadata": {},
   "outputs": [
    {
     "data": {
      "text/plain": [
       "(30905, 17)"
      ]
     },
     "execution_count": 84,
     "metadata": {},
     "output_type": "execute_result"
    }
   ],
   "source": [
    "df.shape"
   ]
  },
  {
   "cell_type": "code",
   "execution_count": 37,
   "metadata": {},
   "outputs": [],
   "source": [
    "#cat_feat_mask = [col for col in X_train if np.isin(X_train[col].unique(), [0, 1]).all()]\n",
    "#cat_indices = list(X_train.iloc[:,np.r_[1, 3,4,7:39]].columns.values)"
   ]
  },
  {
   "cell_type": "code",
   "execution_count": 155,
   "metadata": {},
   "outputs": [
    {
     "name": "stdout",
     "output_type": "stream",
     "text": [
      "Original class distribution: \n",
      "\n",
      "0    21124\n",
      "1     3600\n",
      "Name: target, dtype: int64\n",
      "-----------------------------------------\n",
      "Synthetic sample class distribution: \n",
      "\n",
      "1    21124\n",
      "0    21124\n",
      "Name: target, dtype: int64\n"
     ]
    }
   ],
   "source": [
    "#Instantiate SMOTENC algorithm along with an index of the categorical feature columns\n",
    "smote_nc = SMOTENC(categorical_features=[1,2,3,4,6,7,8,10,15], \n",
    "                    random_state=27,  # for reproducibility\n",
    "                    sampling_strategy='auto') # samples only the minority class\n",
    "# Fitting SMOTENC\n",
    "X_train_res, y_train_res = smote_nc.fit_resample(X_train, y_train)\n",
    "# Preview class distributions before and after over-sampling\n",
    "print('Original class distribution: \\n')\n",
    "print(y_train.value_counts())\n",
    "print('-----------------------------------------')\n",
    "print('Synthetic sample class distribution: \\n')\n",
    "print(pd.Series(y_train_res).value_counts()) "
   ]
  },
  {
   "cell_type": "markdown",
   "metadata": {},
   "source": [
    "##### Model-3. Logistic Regression / SMOTENC / Pipeline"
   ]
  },
  {
   "cell_type": "code",
   "execution_count": 157,
   "metadata": {},
   "outputs": [
    {
     "name": "stdout",
     "output_type": "stream",
     "text": [
      "Training Accuracy Score: 0.8564429085400492\n",
      "Testing Accuracy Score 0.8323895809739524\n"
     ]
    }
   ],
   "source": [
    "# Fitting the Logistic Regression Model\n",
    "logreg_sm_clf= LogisticRegression(\n",
    "                           random_state=27,\n",
    "                           solver='lbfgs',\n",
    "                           max_iter=1e3,\n",
    "                           penalty='l2',\n",
    "                            )\n",
    "\n",
    "logreg_sm_pipe = Pipeline(steps=[('prep', preprocessor), \n",
    "                            ('logreg_sm',logreg_sm_clf),\n",
    "                              ])\n",
    "logreg_sm_pipe.fit(X_train_res, y_train_res)\n",
    "print(f'Training Accuracy Score:',logreg_sm_pipe.score(X_train_res, y_train_res))\n",
    "print(f'Testing Accuracy Score',logreg_sm_pipe.score(X_test, y_test))\n"
   ]
  },
  {
   "cell_type": "code",
   "execution_count": 158,
   "metadata": {},
   "outputs": [
    {
     "name": "stdout",
     "output_type": "stream",
     "text": [
      "------------------------------------\n",
      "Classification Report for Training:\n",
      "              precision    recall  f1-score   support\n",
      "\n",
      "           0       0.95      0.85      0.90     21124\n",
      "           1       0.46      0.74      0.57      3600\n",
      "\n",
      "    accuracy                           0.84     24724\n",
      "   macro avg       0.71      0.80      0.74     24724\n",
      "weighted avg       0.88      0.84      0.85     24724\n",
      "\n",
      "------------------------------------\n",
      "Classification Report for Testing:\n",
      "              precision    recall  f1-score   support\n",
      "\n",
      "           0       0.95      0.85      0.90      5268\n",
      "           1       0.46      0.73      0.56       913\n",
      "\n",
      "    accuracy                           0.83      6181\n",
      "   macro avg       0.70      0.79      0.73      6181\n",
      "weighted avg       0.87      0.83      0.85      6181\n",
      "\n",
      "Testing Recall Score of Logistic Regression with SMOTENC : 72.62%\n",
      "------------------------------------\n",
      "Confusion Matrix for Logistic Regression with SMOTENC\n"
     ]
    },
    {
     "data": {
      "image/png": "[encoded data removed]",
      "text/plain": [
       "<Figure size 432x288 with 2 Axes>"
      ]
     },
     "metadata": {},
     "output_type": "display_data"
    },
    {
     "data": {
      "image/png": "[encoded data removed]",
      "text/plain": [
       "<Figure size 432x288 with 1 Axes>"
      ]
     },
     "metadata": {},
     "output_type": "display_data"
    },
    {
     "name": "stdout",
     "output_type": "stream",
     "text": [
      "Area Under PR Curve(AP): 0.55\n",
      "------------------------------------\n"
     ]
    }
   ],
   "source": [
    "model_evaluation(logreg_sm_pipe,X_train, y_train, X_test, y_test, 'Logistic Regression with SMOTENC')"
   ]
  },
  {
   "cell_type": "markdown",
   "metadata": {},
   "source": [
    "Logistic Regression Model with SMOTE did not noticeably increase an accuracy but  on the contrary, it dropped the recall score by 6%."
   ]
  },
  {
   "cell_type": "markdown",
   "metadata": {},
   "source": [
    "##### Model-4. Decision Tree Classifier/ balanced class_weight/ Pipeline /  Grid Search"
   ]
  },
  {
   "cell_type": "code",
   "execution_count": 43,
   "metadata": {},
   "outputs": [
    {
     "data": {
      "text/plain": [
       "(24724, 7747)"
      ]
     },
     "execution_count": 43,
     "metadata": {},
     "output_type": "execute_result"
    }
   ],
   "source": [
    "X_train.shape"
   ]
  },
  {
   "cell_type": "code",
   "execution_count": 159,
   "metadata": {},
   "outputs": [
    {
     "data": {
      "text/plain": [
       "GridSearchCV(cv=10,\n",
       "             estimator=Pipeline(steps=[('prep',\n",
       "                                        ColumnTransformer(transformers=[('num',\n",
       "                                                                         StandardScaler(),\n",
       "                                                                         ['age',\n",
       "                                                                          'has_credit',\n",
       "                                                                          'balance',\n",
       "                                                                          'has_housing_loan',\n",
       "                                                                          'has_personal_loan',\n",
       "                                                                          'day',\n",
       "                                                                          'duration',\n",
       "                                                                          'campaign',\n",
       "                                                                          'pdays',\n",
       "                                                                          'previous']),\n",
       "                                                                        ('cat',\n",
       "                                                                         OneHotEncoder(handle_unknown='ignore',\n",
       "                                                                                       sparse=False),\n",
       "                                                                         ['job',\n",
       "                                                                          'marital',\n",
       "                                                                          'education',\n",
       "                                                                          'contact',\n",
       "                                                                          'month',\n",
       "                                                                          'prev_camp_outc'])])),\n",
       "                                       ('dt',\n",
       "                                        DecisionTreeClassifier(random_state=27))]),\n",
       "             n_jobs=-1,\n",
       "             param_grid={'dt__class_weight': ['balanced'],\n",
       "                         'dt__criterion': ['entropy', 'gini'],\n",
       "                         'dt__max_depth': [2, 4, 6, 8, 10],\n",
       "                         'dt__min_samples_leaf': [0.1, 0.5, 5],\n",
       "                         'dt__splitter': ['best', 'random']},\n",
       "             scoring='recall')"
      ]
     },
     "execution_count": 159,
     "metadata": {},
     "output_type": "execute_result"
    }
   ],
   "source": [
    "dt_clf = DecisionTreeClassifier(random_state=27)\n",
    "\n",
    "\n",
    "# Creating pipeline for Decision Tree Classifier\n",
    "dt_pipe = Pipeline(steps=[('prep', preprocessor), \n",
    "                            ('dt',dt_clf)])\n",
    "# Defining Hyperparameters                            \n",
    "dt_params ={\n",
    "    'dt__class_weight':['balanced'],\n",
    "     'dt__criterion':['entropy','gini'],\n",
    "     'dt__splitter':[\"best\", \"random\"],\n",
    "     'dt__max_depth': [i for i in range(2,11,2)],\n",
    "     'dt__min_samples_leaf': [0.1, 0.5, 5] \n",
    "}\n",
    "\n",
    "# Function to create a grid search containing pipeline\n",
    "def perform_gridsearch(model_pipe, params):\n",
    "     return GridSearchCV(estimator=model_pipe,\n",
    "                         param_grid=params,\n",
    "                        scoring='recall',\n",
    "                        cv=10,\n",
    "                        n_jobs=-1)\n",
    "\n",
    "dt_gs = perform_gridsearch(dt_pipe, dt_params)\n",
    " \n",
    "dt_gs.fit(X_train,y_train)\n",
    "                           "
   ]
  },
  {
   "cell_type": "code",
   "execution_count": 160,
   "metadata": {},
   "outputs": [
    {
     "name": "stdout",
     "output_type": "stream",
     "text": [
      "Training Score: 0.8669444444444444\n",
      "Testing Score 0.8466593647316539\n"
     ]
    }
   ],
   "source": [
    "print(f'Training Score:',dt_gs.score(X_train, y_train))\n",
    "print(f'Testing Score',dt_gs.score(X_test, y_test))"
   ]
  },
  {
   "cell_type": "code",
   "execution_count": 161,
   "metadata": {},
   "outputs": [
    {
     "data": {
      "text/plain": [
       "{'dt__class_weight': 'balanced',\n",
       " 'dt__criterion': 'entropy',\n",
       " 'dt__max_depth': 2,\n",
       " 'dt__min_samples_leaf': 5,\n",
       " 'dt__splitter': 'best'}"
      ]
     },
     "execution_count": 161,
     "metadata": {},
     "output_type": "execute_result"
    }
   ],
   "source": [
    "# Picking the best parameters for the model\n",
    "dt_gs.best_params_"
   ]
  },
  {
   "cell_type": "code",
   "execution_count": 162,
   "metadata": {},
   "outputs": [
    {
     "name": "stdout",
     "output_type": "stream",
     "text": [
      "------------------------------------\n",
      "Classification Report for Training:\n",
      "              precision    recall  f1-score   support\n",
      "\n",
      "           0       0.96      0.61      0.75     21124\n",
      "           1       0.27      0.87      0.42      3600\n",
      "\n",
      "    accuracy                           0.65     24724\n",
      "   macro avg       0.62      0.74      0.58     24724\n",
      "weighted avg       0.86      0.65      0.70     24724\n",
      "\n",
      "------------------------------------\n",
      "Classification Report for Testing:\n",
      "              precision    recall  f1-score   support\n",
      "\n",
      "           0       0.96      0.61      0.74      5268\n",
      "           1       0.27      0.85      0.41       913\n",
      "\n",
      "    accuracy                           0.64      6181\n",
      "   macro avg       0.61      0.73      0.58      6181\n",
      "weighted avg       0.86      0.64      0.69      6181\n",
      "\n",
      "Testing Recall Score of Descision Tree Classifier : 84.67%\n",
      "------------------------------------\n",
      "Confusion Matrix for Descision Tree Classifier\n"
     ]
    },
    {
     "data": {
      "image/png": "[encoded data removed]",
      "text/plain": [
       "<Figure size 432x288 with 2 Axes>"
      ]
     },
     "metadata": {},
     "output_type": "display_data"
    },
    {
     "data": {
      "image/png": "[encoded data removed]",
      "text/plain": [
       "<Figure size 432x288 with 1 Axes>"
      ]
     },
     "metadata": {},
     "output_type": "display_data"
    },
    {
     "name": "stdout",
     "output_type": "stream",
     "text": [
      "Area Under PR Curve(AP): 0.34\n",
      "------------------------------------\n"
     ]
    }
   ],
   "source": [
    "# Model Evaluation on cross-validation\n",
    "model_evaluation(dt_gs.best_estimator_, X_train, y_train, X_test, y_test, 'Descision Tree Classifier')"
   ]
  },
  {
   "cell_type": "markdown",
   "metadata": {},
   "source": [
    "In this model we markedly improved  our recall  but we fall with an accuracy almost by 20% compared to the Logistic Regression model."
   ]
  },
  {
   "cell_type": "markdown",
   "metadata": {},
   "source": [
    "##### Model-5. Random Forest Classifier / balanced class_weight/ Pipeline/ Grid Search"
   ]
  },
  {
   "cell_type": "code",
   "execution_count": 163,
   "metadata": {},
   "outputs": [
    {
     "data": {
      "text/plain": [
       "GridSearchCV(cv=10,\n",
       "             estimator=Pipeline(steps=[('prep',\n",
       "                                        ColumnTransformer(transformers=[('num',\n",
       "                                                                         StandardScaler(),\n",
       "                                                                         ['age',\n",
       "                                                                          'has_credit',\n",
       "                                                                          'balance',\n",
       "                                                                          'has_housing_loan',\n",
       "                                                                          'has_personal_loan',\n",
       "                                                                          'day',\n",
       "                                                                          'duration',\n",
       "                                                                          'campaign',\n",
       "                                                                          'pdays',\n",
       "                                                                          'previous']),\n",
       "                                                                        ('cat',\n",
       "                                                                         OneHotEncoder(handle_unknown='ignore',\n",
       "                                                                                       sparse=False),\n",
       "                                                                         ['job',\n",
       "                                                                          'marital',\n",
       "                                                                          'education',\n",
       "                                                                          'contact',\n",
       "                                                                          'month',\n",
       "                                                                          'prev_camp_outc'])])),\n",
       "                                       ('rf',\n",
       "                                        RandomForestClassifier(random_state=27))]),\n",
       "             n_jobs=-1,\n",
       "             param_grid={'rf__class_weight': ['balanced'],\n",
       "                         'rf__criterion': ['gini', 'entropy'],\n",
       "                         'rf__max_depth': [2, 4, 6],\n",
       "                         'rf__max_features': ['auto', 'sqrt'],\n",
       "                         'rf__min_samples_leaf': [1, 2, 4],\n",
       "                         'rf__min_samples_split': [2, 4, 8]},\n",
       "             scoring='recall')"
      ]
     },
     "execution_count": 163,
     "metadata": {},
     "output_type": "execute_result"
    }
   ],
   "source": [
    "scaler = StandardScaler()\n",
    "# Instantiating Random Forest Clf model\n",
    "rf_clf = RandomForestClassifier(random_state=27)\n",
    "\n",
    "rf_pipe = Pipeline(steps=[('prep', preprocessor), \n",
    "                            ('rf',rf_clf),\n",
    "                              ])\n",
    "\n",
    "# Setting hyperparameters for Grid Search\n",
    "rf_params = {\n",
    "    'rf__criterion':['gini','entropy'],\n",
    "     'rf__class_weight':['balanced'],\n",
    "     'rf__max_depth': [2,4,6],\n",
    "     'rf__max_features': ['auto', 'sqrt'],\n",
    "     'rf__min_samples_leaf': [1, 2, 4],\n",
    "     'rf__min_samples_split': [2,4, 8],\n",
    "     }\n",
    "\n",
    "rf_gs = perform_gridsearch(rf_pipe, rf_params)\n",
    "# Fitting the Random Forest Clf model\n",
    "rf_gs.fit(X_train, y_train)"
   ]
  },
  {
   "cell_type": "code",
   "execution_count": 164,
   "metadata": {},
   "outputs": [
    {
     "name": "stdout",
     "output_type": "stream",
     "text": [
      "Training Score: 0.8461111111111111\n",
      "Testing Score 0.8138006571741512\n"
     ]
    }
   ],
   "source": [
    "print(f'Training Score:',rf_gs.score(X_train, y_train))\n",
    "print(f'Testing Score',rf_gs.score(X_test, y_test))"
   ]
  },
  {
   "cell_type": "code",
   "execution_count": 165,
   "metadata": {},
   "outputs": [
    {
     "data": {
      "text/plain": [
       "{'rf__class_weight': 'balanced',\n",
       " 'rf__criterion': 'entropy',\n",
       " 'rf__max_depth': 6,\n",
       " 'rf__max_features': 'auto',\n",
       " 'rf__min_samples_leaf': 2,\n",
       " 'rf__min_samples_split': 8}"
      ]
     },
     "execution_count": 165,
     "metadata": {},
     "output_type": "execute_result"
    }
   ],
   "source": [
    "rf_gs.best_params_"
   ]
  },
  {
   "cell_type": "code",
   "execution_count": 166,
   "metadata": {},
   "outputs": [
    {
     "name": "stdout",
     "output_type": "stream",
     "text": [
      "------------------------------------\n",
      "Classification Report for Training:\n",
      "              precision    recall  f1-score   support\n",
      "\n",
      "           0       0.97      0.82      0.89     21124\n",
      "           1       0.44      0.85      0.58      3600\n",
      "\n",
      "    accuracy                           0.82     24724\n",
      "   macro avg       0.71      0.83      0.73     24724\n",
      "weighted avg       0.89      0.82      0.84     24724\n",
      "\n",
      "------------------------------------\n",
      "Classification Report for Testing:\n",
      "              precision    recall  f1-score   support\n",
      "\n",
      "           0       0.96      0.81      0.88      5268\n",
      "           1       0.43      0.81      0.56       913\n",
      "\n",
      "    accuracy                           0.81      6181\n",
      "   macro avg       0.69      0.81      0.72      6181\n",
      "weighted avg       0.88      0.81      0.83      6181\n",
      "\n",
      "Testing Recall Score of Random Forest Classifier : 81.38%\n",
      "------------------------------------\n",
      "Confusion Matrix for Random Forest Classifier\n"
     ]
    },
    {
     "data": {
      "image/png": "[encoded data removed]",
      "text/plain": [
       "<Figure size 432x288 with 2 Axes>"
      ]
     },
     "metadata": {},
     "output_type": "display_data"
    },
    {
     "data": {
      "image/png": "[encoded data removed]",
      "text/plain": [
       "<Figure size 432x288 with 1 Axes>"
      ]
     },
     "metadata": {},
     "output_type": "display_data"
    },
    {
     "name": "stdout",
     "output_type": "stream",
     "text": [
      "Area Under PR Curve(AP): 0.58\n",
      "------------------------------------\n"
     ]
    }
   ],
   "source": [
    "# Evaluating the Model performance on cross-validation\n",
    "model_evaluation(rf_gs.best_estimator_, X_train, y_train, X_test, y_test, 'Random Forest Classifier')"
   ]
  },
  {
   "cell_type": "markdown",
   "metadata": {},
   "source": [
    "The Random Fores Classifier did good job both in training and testing accuracy without .In addition we got pretty well score on recall."
   ]
  },
  {
   "cell_type": "markdown",
   "metadata": {},
   "source": [
    "##### Model-6. K-Nearest Neighbors  Classifier / SMOTENC/ Pipeline"
   ]
  },
  {
   "cell_type": "code",
   "execution_count": 167,
   "metadata": {},
   "outputs": [
    {
     "data": {
      "text/plain": [
       "Pipeline(steps=[('prep',\n",
       "                 ColumnTransformer(transformers=[('num', StandardScaler(),\n",
       "                                                  ['age', 'has_credit',\n",
       "                                                   'balance',\n",
       "                                                   'has_housing_loan',\n",
       "                                                   'has_personal_loan', 'day',\n",
       "                                                   'duration', 'campaign',\n",
       "                                                   'pdays', 'previous']),\n",
       "                                                 ('cat',\n",
       "                                                  OneHotEncoder(handle_unknown='ignore',\n",
       "                                                                sparse=False),\n",
       "                                                  ['job', 'marital',\n",
       "                                                   'education', 'contact',\n",
       "                                                   'month',\n",
       "                                                   'prev_camp_outc'])])),\n",
       "                ('knn',\n",
       "                 KNeighborsClassifier(leaf_size=20, n_jobs=-1, n_neighbors=10,\n",
       "                                      p=1, weights='distance'))])"
      ]
     },
     "execution_count": 167,
     "metadata": {},
     "output_type": "execute_result"
    }
   ],
   "source": [
    "# Instantiating   and fitting kNN Model\n",
    "# I have setup n_jobs=-1 to use all cpus in my env\n",
    "scaler = StandardScaler()\n",
    "knn_clf = KNeighborsClassifier(leaf_size=20, n_neighbors= 10,\n",
    "                               p=1,weights='distance', n_jobs=-1)\n",
    "\n",
    "knn_pipe = Pipeline(steps=[('prep', preprocessor), \n",
    "                            ('knn',knn_clf),\n",
    "                              ])\n",
    "knn_pipe.fit(X_train_res, y_train_res)"
   ]
  },
  {
   "cell_type": "code",
   "execution_count": 168,
   "metadata": {},
   "outputs": [
    {
     "name": "stdout",
     "output_type": "stream",
     "text": [
      "Training Score: 1.0\n",
      "Testing Score 0.8440381815240252\n"
     ]
    }
   ],
   "source": [
    "print(f'Training Score:',knn_pipe.score(X_train_res, y_train_res))\n",
    "print(f'Testing Score',knn_pipe.score(X_test, y_test))"
   ]
  },
  {
   "cell_type": "code",
   "execution_count": 169,
   "metadata": {},
   "outputs": [
    {
     "name": "stdout",
     "output_type": "stream",
     "text": [
      "------------------------------------\n",
      "Classification Report for Training:\n",
      "              precision    recall  f1-score   support\n",
      "\n",
      "           0       1.00      1.00      1.00     21124\n",
      "           1       1.00      1.00      1.00      3600\n",
      "\n",
      "    accuracy                           1.00     24724\n",
      "   macro avg       1.00      1.00      1.00     24724\n",
      "weighted avg       1.00      1.00      1.00     24724\n",
      "\n",
      "------------------------------------\n",
      "Classification Report for Testing:\n",
      "              precision    recall  f1-score   support\n",
      "\n",
      "           0       0.93      0.88      0.91      5268\n",
      "           1       0.48      0.61      0.54       913\n",
      "\n",
      "    accuracy                           0.84      6181\n",
      "   macro avg       0.70      0.75      0.72      6181\n",
      "weighted avg       0.86      0.84      0.85      6181\n",
      "\n",
      "Testing Recall Score of K-Nearest Neighbors : 61.12%\n",
      "------------------------------------\n",
      "Confusion Matrix for K-Nearest Neighbors\n"
     ]
    },
    {
     "data": {
      "image/png": "[encoded data removed]",
      "text/plain": [
       "<Figure size 432x288 with 2 Axes>"
      ]
     },
     "metadata": {},
     "output_type": "display_data"
    },
    {
     "data": {
      "image/png": "[encoded data removed]",
      "text/plain": [
       "<Figure size 432x288 with 1 Axes>"
      ]
     },
     "metadata": {},
     "output_type": "display_data"
    },
    {
     "name": "stdout",
     "output_type": "stream",
     "text": [
      "Area Under PR Curve(AP): 0.47\n",
      "------------------------------------\n"
     ]
    }
   ],
   "source": [
    "# Model evaluation \n",
    "model_evaluation(knn_pipe, X_train, y_train, X_test, y_test,'K-Nearest Neighbors')"
   ]
  },
  {
   "cell_type": "markdown",
   "metadata": {},
   "source": [
    "The  K-Nearest Neighbours model along with an oversamplinf method  payed too much attention to every little detail and made a very complex decision boundary which lead to overfitting. This model did well in predicting not subscribed customers.\n",
    "\n",
    "Another technique that can be used to improve our classification performance is boosting. While data sampling was\n",
    "designed with the class imbalance problem in mind, boosting is a technique that can improve the performance of any\n",
    "weak classifier (whether or not the data is imbalanced).\n",
    "Further I will try to apply the most common boosting algorithms such: <p>\n",
    "* Gradient Boosting Classifier\n",
    "* Extreme Gradient Boosting (XGBoost) Classifier\n",
    "* RUSBoost Classifier\n",
    "* Light Gradient Boosted Machine (LGBM) Classifier\n",
    "\n"
   ]
  },
  {
   "cell_type": "markdown",
   "metadata": {},
   "source": [
    "##### Model-7. Gradient Boosting Classifier / SMOTENC / Pipeline"
   ]
  },
  {
   "cell_type": "code",
   "execution_count": 173,
   "metadata": {},
   "outputs": [],
   "source": [
    "scaler = StandardScaler()\n",
    "\n",
    "# Instantiating the GBosting model\n",
    "gbt_clf = GradientBoostingClassifier(learning_rate = 0.1, max_depth = 5, \n",
    "                                     min_samples_leaf = 3, n_estimators = 200, \n",
    "                                     subsample = 0.6, random_state=27)"
   ]
  },
  {
   "cell_type": "code",
   "execution_count": 174,
   "metadata": {},
   "outputs": [
    {
     "name": "stdout",
     "output_type": "stream",
     "text": [
      "Training Score: 0.9232153001325506\n",
      "Testing Score 0.8631289435366446\n"
     ]
    }
   ],
   "source": [
    "gbt_pipe = Pipeline(steps=[('prep', preprocessor), \n",
    "                          ('gbt', gbt_clf)])\n",
    "# Fitting and Evaluating GBoosting Model\n",
    "gbt_pipe.fit(X_train_res,y_train_res)\n",
    "print(f'Training Score:',gbt_pipe.score(X_train_res, y_train_res))\n",
    "print(f'Testing Score',gbt_pipe.score(X_test, y_test))"
   ]
  },
  {
   "cell_type": "code",
   "execution_count": 175,
   "metadata": {},
   "outputs": [
    {
     "name": "stdout",
     "output_type": "stream",
     "text": [
      "------------------------------------\n",
      "Classification Report for Training:\n",
      "              precision    recall  f1-score   support\n",
      "\n",
      "           0       0.97      0.91      0.94     21124\n",
      "           1       0.60      0.83      0.70      3600\n",
      "\n",
      "    accuracy                           0.89     24724\n",
      "   macro avg       0.78      0.87      0.82     24724\n",
      "weighted avg       0.91      0.89      0.90     24724\n",
      "\n",
      "------------------------------------\n",
      "Classification Report for Testing:\n",
      "              precision    recall  f1-score   support\n",
      "\n",
      "           0       0.95      0.89      0.92      5268\n",
      "           1       0.53      0.73      0.61       913\n",
      "\n",
      "    accuracy                           0.86      6181\n",
      "   macro avg       0.74      0.81      0.76      6181\n",
      "weighted avg       0.89      0.86      0.87      6181\n",
      "\n",
      "Testing Recall Score of Gradient Boosting : 73.06%\n",
      "------------------------------------\n",
      "Confusion Matrix for Gradient Boosting\n"
     ]
    },
    {
     "data": {
      "image/png": "[encoded data removed]",
      "text/plain": [
       "<Figure size 432x288 with 2 Axes>"
      ]
     },
     "metadata": {},
     "output_type": "display_data"
    },
    {
     "data": {
      "image/png": "[encoded data removed]",
      "text/plain": [
       "<Figure size 432x288 with 1 Axes>"
      ]
     },
     "metadata": {},
     "output_type": "display_data"
    },
    {
     "name": "stdout",
     "output_type": "stream",
     "text": [
      "Area Under PR Curve(AP): 0.58\n",
      "------------------------------------\n"
     ]
    }
   ],
   "source": [
    "model_evaluation(gbt_pipe, X_train, y_train, X_test, y_test,'Gradient Boosting')"
   ]
  },
  {
   "cell_type": "markdown",
   "metadata": {},
   "source": [
    "Gradient Boosting Classifier is somewhat overfitted but not much as k-NN. This model considerably decreased false positive, meaning the client does NOT SUBSCRIBE to a term deposit, but the model thinks he did. <p> Next, I will use a specific implementation of the Gradient Boosting method which uses more accurate approximations to find the best tree model called Extreme Gradient Boosting. "
   ]
  },
  {
   "cell_type": "markdown",
   "metadata": {},
   "source": [
    "##### Model-8.  XGBoost Classifier / SMOTENC / Pipeline"
   ]
  },
  {
   "cell_type": "code",
   "execution_count": 176,
   "metadata": {},
   "outputs": [
    {
     "name": "stdout",
     "output_type": "stream",
     "text": [
      "[22:40:39] WARNING: ..\\src\\learner.cc:1115: Starting in XGBoost 1.3.0, the default evaluation metric used with the objective 'binary:logistic' was changed from 'error' to 'logloss'. Explicitly set eval_metric if you'd like to restore the old behavior.\n",
      "Training Score: 1.0\n",
      "Testing Score 0.8634525157741466\n"
     ]
    }
   ],
   "source": [
    "scaler = StandardScaler()\n",
    "# Instantiating the XGBoost Model\n",
    "xgb_clf = XGBClassifier(learning_rate=0.4, max_depth = 10, min_child_weight = 1, \n",
    "                        n_estimators = 200, scale_pos_weight = 2, subsample = .5,\n",
    "                        random_state=23)\n",
    "    \n",
    "                        \n",
    "xgb_pipe = Pipeline(steps=[('prep', preprocessor), \n",
    "                            ('xgb',xgb_clf),\n",
    "                              ])\n",
    "xgb_pipe.fit(X_train_res, y_train_res)   \n",
    "\n",
    "print(f'Training Score:',xgb_pipe.score(X_train_res, y_train_res))\n",
    "print(f'Testing Score',xgb_pipe.score(X_test, y_test))"
   ]
  },
  {
   "cell_type": "code",
   "execution_count": 177,
   "metadata": {},
   "outputs": [
    {
     "name": "stdout",
     "output_type": "stream",
     "text": [
      "------------------------------------\n",
      "Classification Report for Training:\n",
      "              precision    recall  f1-score   support\n",
      "\n",
      "           0       1.00      1.00      1.00     21124\n",
      "           1       1.00      1.00      1.00      3600\n",
      "\n",
      "    accuracy                           1.00     24724\n",
      "   macro avg       1.00      1.00      1.00     24724\n",
      "weighted avg       1.00      1.00      1.00     24724\n",
      "\n",
      "------------------------------------\n",
      "Classification Report for Testing:\n",
      "              precision    recall  f1-score   support\n",
      "\n",
      "           0       0.94      0.90      0.92      5268\n",
      "           1       0.53      0.66      0.59       913\n",
      "\n",
      "    accuracy                           0.86      6181\n",
      "   macro avg       0.73      0.78      0.75      6181\n",
      "weighted avg       0.88      0.86      0.87      6181\n",
      "\n",
      "Testing Recall Score of XGBoost Classifier : 65.61%\n",
      "------------------------------------\n",
      "Confusion Matrix for XGBoost Classifier\n"
     ]
    },
    {
     "data": {
      "image/png": "[encoded data removed]",
      "text/plain": [
       "<Figure size 432x288 with 2 Axes>"
      ]
     },
     "metadata": {},
     "output_type": "display_data"
    },
    {
     "data": {
      "image/png": "[encoded data removed]",
      "text/plain": [
       "<Figure size 432x288 with 1 Axes>"
      ]
     },
     "metadata": {},
     "output_type": "display_data"
    },
    {
     "name": "stdout",
     "output_type": "stream",
     "text": [
      "Area Under PR Curve(AP): 0.55\n",
      "------------------------------------\n"
     ]
    }
   ],
   "source": [
    "# Fitting and Evaluating the XGBoost model\n",
    "#print(f'Training Score:',gbt_pipe.score(X_train_res, y_train_res))\n",
    "#print(f'Testing Score',gbt_pipe.score(X_test, y_test))\n",
    "\n",
    "model_evaluation(xgb_pipe,X_train, y_train, X_test, y_test, 'XGBoost Classifier')"
   ]
  },
  {
   "cell_type": "markdown",
   "metadata": {},
   "source": [
    "XGBoost model along with oversampling techniquealso did overfit. Recall notably dropped  compare to Gradient Boosting  <p>\n",
    "Next, I will build a so-called novel hybrid data sampling/boosting algorithm called RUSBoost, which is designed to improve the performance of models trained on skewed data. RUSBoost applies random undersampling (RUS), a technique which randomly removes examples from the majority class"
   ]
  },
  {
   "cell_type": "markdown",
   "metadata": {},
   "source": [
    "##### Model-9.  RUSBoost Classifier / Pipeline /Grid Search"
   ]
  },
  {
   "cell_type": "code",
   "execution_count": 178,
   "metadata": {},
   "outputs": [],
   "source": [
    "\n",
    "rusboost_clf = RUSBoostClassifier(\n",
    "        n_estimators=20,\n",
    "        learning_rate=1.0,\n",
    "        sampling_strategy='auto',\n",
    "        random_state=27,\n",
    "    )\n",
    "rusboost_pipe = Pipeline(steps=[('prep', preprocessor), \n",
    "                            ('rusbst',rusboost_clf),\n",
    "                              ])\n",
    "# set up the hyperparameter space\n",
    "# the default implementation as 2 hyperparameters to optimize\n",
    "rusboost_params = {\n",
    "    'rusbst__n_estimators':[10,50,100,150],\n",
    "    'rusbst__learning_rate':[0.0001, 0.1,0.5,1],\n",
    "}\n",
    "\n",
    "rusbst_gs = perform_gridsearch(rusboost_pipe, rusboost_params)"
   ]
  },
  {
   "cell_type": "code",
   "execution_count": 179,
   "metadata": {},
   "outputs": [
    {
     "data": {
      "text/plain": [
       "GridSearchCV(cv=10,\n",
       "             estimator=Pipeline(steps=[('prep',\n",
       "                                        ColumnTransformer(transformers=[('num',\n",
       "                                                                         StandardScaler(),\n",
       "                                                                         ['age',\n",
       "                                                                          'has_credit',\n",
       "                                                                          'balance',\n",
       "                                                                          'has_housing_loan',\n",
       "                                                                          'has_personal_loan',\n",
       "                                                                          'day',\n",
       "                                                                          'duration',\n",
       "                                                                          'campaign',\n",
       "                                                                          'pdays',\n",
       "                                                                          'previous']),\n",
       "                                                                        ('cat',\n",
       "                                                                         OneHotEncoder(handle_unknown='ignore',\n",
       "                                                                                       sparse=False),\n",
       "                                                                         ['job',\n",
       "                                                                          'marital',\n",
       "                                                                          'education',\n",
       "                                                                          'contact',\n",
       "                                                                          'month',\n",
       "                                                                          'prev_camp_outc'])])),\n",
       "                                       ('rusbst',\n",
       "                                        RUSBoostClassifier(n_estimators=20,\n",
       "                                                           random_state=27))]),\n",
       "             n_jobs=-1,\n",
       "             param_grid={'rusbst__learning_rate': [0.0001, 0.1, 0.5, 1],\n",
       "                         'rusbst__n_estimators': [10, 50, 100, 150]},\n",
       "             scoring='recall')"
      ]
     },
     "execution_count": 179,
     "metadata": {},
     "output_type": "execute_result"
    }
   ],
   "source": [
    "rusbst_gs.fit(X_train,y_train)"
   ]
  },
  {
   "cell_type": "code",
   "execution_count": 180,
   "metadata": {},
   "outputs": [
    {
     "name": "stdout",
     "output_type": "stream",
     "text": [
      "Training Score: 0.8452777777777778\n",
      "Testing Score 0.8269441401971522\n"
     ]
    }
   ],
   "source": [
    "print(f'Training Score:',rusbst_gs.score(X_train, y_train))\n",
    "print(f'Testing Score',rusbst_gs.score(X_test, y_test))"
   ]
  },
  {
   "cell_type": "code",
   "execution_count": 181,
   "metadata": {},
   "outputs": [
    {
     "data": {
      "text/plain": [
       "{'rusbst__learning_rate': 0.1, 'rusbst__n_estimators': 10}"
      ]
     },
     "execution_count": 181,
     "metadata": {},
     "output_type": "execute_result"
    }
   ],
   "source": [
    "rusbst_gs.best_params_"
   ]
  },
  {
   "cell_type": "code",
   "execution_count": 182,
   "metadata": {},
   "outputs": [
    {
     "name": "stdout",
     "output_type": "stream",
     "text": [
      "------------------------------------\n",
      "Classification Report for Training:\n",
      "              precision    recall  f1-score   support\n",
      "\n",
      "           0       0.96      0.62      0.75     21124\n",
      "           1       0.27      0.85      0.41      3600\n",
      "\n",
      "    accuracy                           0.65     24724\n",
      "   macro avg       0.62      0.73      0.58     24724\n",
      "weighted avg       0.86      0.65      0.70     24724\n",
      "\n",
      "------------------------------------\n",
      "Classification Report for Testing:\n",
      "              precision    recall  f1-score   support\n",
      "\n",
      "           0       0.95      0.62      0.75      5268\n",
      "           1       0.27      0.83      0.41       913\n",
      "\n",
      "    accuracy                           0.65      6181\n",
      "   macro avg       0.61      0.72      0.58      6181\n",
      "weighted avg       0.85      0.65      0.70      6181\n",
      "\n",
      "Testing Recall Score of RUSBoost Classifier : 82.69%\n",
      "------------------------------------\n",
      "Confusion Matrix for RUSBoost Classifier\n"
     ]
    },
    {
     "data": {
      "image/png": "[encoded data removed]",
      "text/plain": [
       "<Figure size 432x288 with 2 Axes>"
      ]
     },
     "metadata": {},
     "output_type": "display_data"
    },
    {
     "data": {
      "image/png": "[encoded data removed]",
      "text/plain": [
       "<Figure size 432x288 with 1 Axes>"
      ]
     },
     "metadata": {},
     "output_type": "display_data"
    },
    {
     "name": "stdout",
     "output_type": "stream",
     "text": [
      "Area Under PR Curve(AP): 0.36\n",
      "------------------------------------\n"
     ]
    }
   ],
   "source": [
    "model_evaluation(rusbst_gs.best_estimator_, X_train, y_train, X_test, y_test, 'RUSBoost Classifier')"
   ]
  },
  {
   "cell_type": "markdown",
   "metadata": {},
   "source": [
    "We got a recall score of 83% which is better compared to previously built boosting algorithms."
   ]
  },
  {
   "cell_type": "markdown",
   "metadata": {},
   "source": [
    "##### Model-9. LGBM Classifier / SMOTENC/ Grid Search"
   ]
  },
  {
   "cell_type": "markdown",
   "metadata": {},
   "source": [
    "LightGBM extends the gradient boosting algorithm by adding a type of automatic feature selection as well as focusing on boosting examples with larger gradients. This can result in a dramatic speedup of training and improved predictive performance."
   ]
  },
  {
   "cell_type": "code",
   "execution_count": 183,
   "metadata": {},
   "outputs": [],
   "source": [
    "scaler = StandardScaler()\n",
    "# Instantiating the LGBMClassifier\n",
    "lgbm_clf = LGBMClassifier(max_depth=4,\n",
    "                          boosting_type='goss',\n",
    "                          n_estimators=145)\n",
    "\n",
    "lgbm_pipe = Pipeline(steps=[('prep', preprocessor), \n",
    "                          ('lgbm', lgbm_clf)])"
   ]
  },
  {
   "cell_type": "code",
   "execution_count": 184,
   "metadata": {},
   "outputs": [
    {
     "name": "stdout",
     "output_type": "stream",
     "text": [
      "Training Score: 0.9022675629615603\n",
      "Testing Score 0.8569810710241061\n",
      "------------------------------------\n",
      "Classification Report for Training:\n",
      "              precision    recall  f1-score   support\n",
      "\n",
      "           0       0.96      0.88      0.92     21124\n",
      "           1       0.53      0.80      0.64      3600\n",
      "\n",
      "    accuracy                           0.87     24724\n",
      "   macro avg       0.75      0.84      0.78     24724\n",
      "weighted avg       0.90      0.87      0.88     24724\n",
      "\n",
      "------------------------------------\n",
      "Classification Report for Testing:\n",
      "              precision    recall  f1-score   support\n",
      "\n",
      "           0       0.95      0.87      0.91      5268\n",
      "           1       0.51      0.76      0.61       913\n",
      "\n",
      "    accuracy                           0.86      6181\n",
      "   macro avg       0.73      0.82      0.76      6181\n",
      "weighted avg       0.89      0.86      0.87      6181\n",
      "\n",
      "Testing Recall Score of LightGBM : 76.01%\n",
      "------------------------------------\n",
      "Confusion Matrix for LightGBM\n"
     ]
    },
    {
     "data": {
      "image/png": "[encoded data removed]",
      "text/plain": [
       "<Figure size 432x288 with 2 Axes>"
      ]
     },
     "metadata": {},
     "output_type": "display_data"
    },
    {
     "data": {
      "image/png": "[encoded data removed]",
      "text/plain": [
       "<Figure size 432x288 with 1 Axes>"
      ]
     },
     "metadata": {},
     "output_type": "display_data"
    },
    {
     "name": "stdout",
     "output_type": "stream",
     "text": [
      "Area Under PR Curve(AP): 0.58\n",
      "------------------------------------\n"
     ]
    }
   ],
   "source": [
    "# Fitting the model\n",
    "lgbm_pipe.fit(X_train_res, y_train_res)\n",
    "\n",
    "print(f'Training Score:',lgbm_pipe.score(X_train_res, y_train_res))\n",
    "print(f'Testing Score',lgbm_pipe.score(X_test, y_test))\n",
    "# Model Evaluation on cross validation\n",
    "model_evaluation(lgbm_pipe, X_train, y_train,X_test, y_test, 'LightGBM')"
   ]
  },
  {
   "cell_type": "markdown",
   "metadata": {},
   "source": [
    "Light Gradient Boosted Machine Classifier gave us better accuracy score with a slighly overfitting. Hovewer, id did not increase a recall."
   ]
  },
  {
   "cell_type": "markdown",
   "metadata": {},
   "source": [
    "### 5. Conclusion "
   ]
  },
  {
   "cell_type": "markdown",
   "metadata": {},
   "source": [
    "Among all models that I build, Logistic Regression and Random Forest algorithms performed well. An oversampling technique such as SMOTENC did not much help on models' performance. As a final and best  model I chose Random Forest with the recall score 81% and an accuracy score around 82%. Mainly model does a good job of decreasing false-positive which leads to avoiding losing future customers but identifying them as SUBSCRIBED. "
   ]
  },
  {
   "cell_type": "code",
   "execution_count": 236,
   "metadata": {},
   "outputs": [
    {
     "name": "stdout",
     "output_type": "stream",
     "text": [
      "feature: age, importance: 0.04\n",
      "feature: job, importance: 0.00\n",
      "feature: marital, importance: 0.02\n",
      "feature: education, importance: 0.06\n",
      "feature: has_credit, importance: 0.01\n",
      "feature: balance, importance: 0.01\n",
      "feature: has_housing_loan, importance: 0.45\n",
      "feature: has_personal_loan, importance: 0.02\n",
      "feature: contact, importance: 0.05\n",
      "feature: day, importance: 0.03\n",
      "feature: month, importance: 0.00\n",
      "feature: duration, importance: 0.01\n",
      "feature: campaign, importance: 0.00\n",
      "feature: pdays, importance: 0.00\n",
      "feature: previous, importance: 0.00\n",
      "feature: prev_camp_outc, importance: 0.00\n",
      "feature: target, importance: 0.00\n"
     ]
    }
   ],
   "source": [
    "for feat, importance in zip(df.columns, rf_gs.best_estimator_.named_steps['rf'].feature_importances_):\n",
    "    print ('feature: {f}, importance: {i:.2f}'.format(f=feat, i=importance))\n",
    "    "
   ]
  },
  {
   "cell_type": "markdown",
   "metadata": {},
   "source": [
    "#### Recommendation Based On Model Performance"
   ]
  },
  {
   "cell_type": "markdown",
   "metadata": {},
   "source": [
    "- House Loans and Balances: Potential clients in the average and high balances are less likely to have a house loan and therefore, more likely to open a term deposit. Lastly, the next marketing campaign should focus on individuals of average and high balances in order to increase the likelihood of subscribing to a term deposit \n",
    "- Education : Based on the researchs made by scientists have been proved that an education has large effects on financial market participation and smaller, but statistically and economically signifcant effects on financial management. Education improves credit scores, and dramatically reduces the probability of declaring bankruptcy or suffering foreclosure during the financial crisis. Similarly, it can bring them to make more educated guesses and smart decisions while making a deposit. We highly suggest to take into the account those customers with secondary and tertiary education.\n",
    "- Effective contact and communication: As a financial service provider , trust comes above everything else as far as  customers are concerned and effective communication is the key to winning that trust. This  enables to show customers that you care, showcase an expertise and values, and more. With proper communication, an organization can create strong connections with customers and eradicate any concerns they may have.  I would suggest to come up with a communication strategy  that mixes different channels of communication and enable the customer to choose the appropriate one for their unique needs."
   ]
  },
  {
   "cell_type": "markdown",
   "metadata": {},
   "source": [
    "#### Future Considertion\n"
   ]
  },
  {
   "cell_type": "markdown",
   "metadata": {},
   "source": [
    "This modelling is based on behaviour of clients and not on their motivations. The features reveal the actions of client but not his/her thought process. So more descriptive features can be useful here for example interview summary. In that case natural language processing will give better results. In these times of crisis preserving the relationship with best customers is more crucial than ever. Using these results bank can specifically target clients and gain higher success in their endeavours. Saving a lot of time by not focusing on clients with less probability is yet another advantages of this project."
   ]
  }
 ],
 "metadata": {
  "kernelspec": {
   "display_name": "Python 3",
   "language": "python",
   "name": "python3"
  },
  "language_info": {
   "codemirror_mode": {
    "name": "ipython",
    "version": 3
   },
   "file_extension": ".py",
   "mimetype": "text/x-python",
   "name": "python",
   "nbconvert_exporter": "python",
   "pygments_lexer": "ipython3",
   "version": "3.8.5"
  }
 },
 "nbformat": 4,
 "nbformat_minor": 4
}
