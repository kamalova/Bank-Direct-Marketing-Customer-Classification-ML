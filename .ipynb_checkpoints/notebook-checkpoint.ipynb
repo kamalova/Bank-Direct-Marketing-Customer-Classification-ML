{
 "cells": [
  {
   "cell_type": "markdown",
   "metadata": {},
   "source": [
    "## Customer Classification for Bank Direct Marketing"
   ]
  },
  {
   "cell_type": "markdown",
   "metadata": {},
   "source": [
    "### 1. Overview"
   ]
  },
  {
   "cell_type": "markdown",
   "metadata": {},
   "source": [
    "As It is a marketing problem a lot of resources are included and it is very important to optimise results to save resources. The target variable is ‘deposit’ which reads yes or no based on success or failure of phone calls. Finding out only those clients which have higher chances of saying yes to subscription of term deposit , will save a lot of manhours and efforts. Predicting as many positives as possible out of actual positives from dataset is the goal here, thus recall has been chosen as one of the performance matrices along with an accuracy score.\n",
    "As our data are imbalanced, we used oversampling method during the model building process. After preprocessing the data, we build nine model including baseline model. The optimal model we get is Random Forest Classifier."
   ]
  },
  {
   "cell_type": "markdown",
   "metadata": {},
   "source": [
    "### 2. Business Understanding"
   ]
  },
  {
   "cell_type": "markdown",
   "metadata": {},
   "source": [
    "A term deposit is a cash investment held at a financial institution. Your money is invested for an agreed rate of interest over a fixed amount of time, or term. The bank has various outreach plans to sell term deposits to their customers such as email marketing, advertisements, telephonic marketing, and digital marketing.\n",
    "\n",
    "The older marketing options have contributed minimal in increasing the business of banks. Due to internal competition and financial crisis European Banks were under pressure to increase their financial assets. They offered long term deposits with good interest rates to the people using direct marketing strategy but contacting many people takes lot of time and success rate is also less. So they want to take help of the technology to come up with a solution that increases the efficiency by making fewer calls but improves the success rate.Portuguese Banking Institution has provided the data related to marketing campaigns that took over phone calls. Finding out the characteristics that are helping Bank to make customers successfully subscribe for deposits, which helps in increasing campaign efficiently and selecting high value customers.\n",
    "\n",
    "The goal of this project is to building Machine Learning model that learns the unknown patterns and classifying whether client will subscribe(yes/no) a term deposit (variable y)."
   ]
  },
  {
   "cell_type": "markdown",
   "metadata": {},
   "source": [
    "### 3. Data Understanding"
   ]
  },
  {
   "cell_type": "markdown",
   "metadata": {},
   "source": [
    "Data set is taken from [UCI Machine Learning repository](https://archive.ics.uci.edu/ml/datasets/Bank+Marketing). This data based on direct marketing campaigns of a Portuguese banking\n",
    "institution. The marketing campaigns are based on phone calls and related to 17 campaigns, which occurred from May 2008 to November 2010. Often, more than one contact to the same client was required, in order to access if the product (bank term\n",
    "deposit) would be (or not) subscribed."
   ]
  },
  {
   "cell_type": "markdown",
   "metadata": {},
   "source": [
    "#### 3.1 Loading Data Modelling Libraries"
   ]
  },
  {
   "cell_type": "code",
   "execution_count": 1,
   "metadata": {},
   "outputs": [],
   "source": [
    "# Importing necessary libraries\n",
    "import pandas as pd\n",
    "import numpy as np\n",
    "import csv\n",
    "# setting pandas display to avoid scientific notation in my dataframes\n",
    "pd.options.display.float_format = '{:.3f}'.format\n",
    "# Data visualization\n",
    "import seaborn as sns\n",
    "sns.set_style('whitegrid')\n",
    "import matplotlib.pyplot as plt\n",
    "%matplotlib inline\n",
    "# Seaborn's beautiful styling\n",
    "import seaborn as sns\n",
    "sns.set_style('darkgrid', {'axes.facecolor': '0.9'})\n",
    "\n",
    "# Model building sklearn\n",
    "from sklearn.preprocessing import StandardScaler\n",
    "from sklearn.neighbors import KNeighborsClassifier\n",
    "from sklearn.model_selection import train_test_split\n",
    "from sklearn.ensemble import GradientBoostingClassifier\n",
    "from sklearn.linear_model import LogisticRegression\n",
    "from sklearn.metrics import (accuracy_score, recall_score,f1_score, auc,\n",
    "confusion_matrix, classification_report, precision_recall_curve)\n",
    "from sklearn.metrics import plot_confusion_matrix\n",
    "from sklearn.metrics import average_precision_score\n",
    "from sklearn.tree import DecisionTreeClassifier\n",
    "from sklearn.ensemble import AdaBoostClassifier\n",
    "from sklearn.ensemble import RandomForestClassifier\n",
    "from imblearn.ensemble import RUSBoostClassifier\n",
    "from scipy import stats\n",
    "from sklearn.dummy import DummyClassifier\n",
    "from sklearn.pipeline import Pipeline\n",
    "from sklearn.model_selection import GridSearchCV\n",
    "from xgboost import XGBClassifier\n",
    "from lightgbm import LGBMClassifier\n",
    "from sklearn.preprocessing import OneHotEncoder\n",
    "from collections import Counter \n",
    "from imblearn.over_sampling import SMOTENC\n",
    "# to get rid of the warnings\n",
    "import warnings\n",
    "warnings.filterwarnings(\"ignore\")"
   ]
  },
  {
   "cell_type": "code",
   "execution_count": 2,
   "metadata": {},
   "outputs": [],
   "source": [
    "# Downloading dataset\n",
    "df = pd.read_csv('dataset/bank-full.csv', delimiter=';', quotechar='\"',\n",
    "                 encoding='utf8', quoting=csv.QUOTE_ALL, skipinitialspace=True)"
   ]
  },
  {
   "cell_type": "code",
   "execution_count": 3,
   "metadata": {},
   "outputs": [
    {
     "data": {
      "text/html": [
       "<div>\n",
       "<style scoped>\n",
       "    .dataframe tbody tr th:only-of-type {\n",
       "        vertical-align: middle;\n",
       "    }\n",
       "\n",
       "    .dataframe tbody tr th {\n",
       "        vertical-align: top;\n",
       "    }\n",
       "\n",
       "    .dataframe thead th {\n",
       "        text-align: right;\n",
       "    }\n",
       "</style>\n",
       "<table border=\"1\" class=\"dataframe\">\n",
       "  <thead>\n",
       "    <tr style=\"text-align: right;\">\n",
       "      <th></th>\n",
       "      <th>age</th>\n",
       "      <th>job</th>\n",
       "      <th>marital</th>\n",
       "      <th>education</th>\n",
       "      <th>default</th>\n",
       "      <th>balance</th>\n",
       "      <th>housing</th>\n",
       "      <th>loan</th>\n",
       "      <th>contact</th>\n",
       "      <th>day</th>\n",
       "      <th>month</th>\n",
       "      <th>duration</th>\n",
       "      <th>campaign</th>\n",
       "      <th>pdays</th>\n",
       "      <th>previous</th>\n",
       "      <th>poutcome</th>\n",
       "      <th>y</th>\n",
       "    </tr>\n",
       "  </thead>\n",
       "  <tbody>\n",
       "    <tr>\n",
       "      <th>0</th>\n",
       "      <td>58</td>\n",
       "      <td>management</td>\n",
       "      <td>married</td>\n",
       "      <td>tertiary</td>\n",
       "      <td>no</td>\n",
       "      <td>2143</td>\n",
       "      <td>yes</td>\n",
       "      <td>no</td>\n",
       "      <td>unknown</td>\n",
       "      <td>5</td>\n",
       "      <td>may</td>\n",
       "      <td>261</td>\n",
       "      <td>1</td>\n",
       "      <td>-1</td>\n",
       "      <td>0</td>\n",
       "      <td>unknown</td>\n",
       "      <td>no</td>\n",
       "    </tr>\n",
       "    <tr>\n",
       "      <th>1</th>\n",
       "      <td>44</td>\n",
       "      <td>technician</td>\n",
       "      <td>single</td>\n",
       "      <td>secondary</td>\n",
       "      <td>no</td>\n",
       "      <td>29</td>\n",
       "      <td>yes</td>\n",
       "      <td>no</td>\n",
       "      <td>unknown</td>\n",
       "      <td>5</td>\n",
       "      <td>may</td>\n",
       "      <td>151</td>\n",
       "      <td>1</td>\n",
       "      <td>-1</td>\n",
       "      <td>0</td>\n",
       "      <td>unknown</td>\n",
       "      <td>no</td>\n",
       "    </tr>\n",
       "    <tr>\n",
       "      <th>2</th>\n",
       "      <td>33</td>\n",
       "      <td>entrepreneur</td>\n",
       "      <td>married</td>\n",
       "      <td>secondary</td>\n",
       "      <td>no</td>\n",
       "      <td>2</td>\n",
       "      <td>yes</td>\n",
       "      <td>yes</td>\n",
       "      <td>unknown</td>\n",
       "      <td>5</td>\n",
       "      <td>may</td>\n",
       "      <td>76</td>\n",
       "      <td>1</td>\n",
       "      <td>-1</td>\n",
       "      <td>0</td>\n",
       "      <td>unknown</td>\n",
       "      <td>no</td>\n",
       "    </tr>\n",
       "    <tr>\n",
       "      <th>3</th>\n",
       "      <td>47</td>\n",
       "      <td>blue-collar</td>\n",
       "      <td>married</td>\n",
       "      <td>unknown</td>\n",
       "      <td>no</td>\n",
       "      <td>1506</td>\n",
       "      <td>yes</td>\n",
       "      <td>no</td>\n",
       "      <td>unknown</td>\n",
       "      <td>5</td>\n",
       "      <td>may</td>\n",
       "      <td>92</td>\n",
       "      <td>1</td>\n",
       "      <td>-1</td>\n",
       "      <td>0</td>\n",
       "      <td>unknown</td>\n",
       "      <td>no</td>\n",
       "    </tr>\n",
       "    <tr>\n",
       "      <th>4</th>\n",
       "      <td>33</td>\n",
       "      <td>unknown</td>\n",
       "      <td>single</td>\n",
       "      <td>unknown</td>\n",
       "      <td>no</td>\n",
       "      <td>1</td>\n",
       "      <td>no</td>\n",
       "      <td>no</td>\n",
       "      <td>unknown</td>\n",
       "      <td>5</td>\n",
       "      <td>may</td>\n",
       "      <td>198</td>\n",
       "      <td>1</td>\n",
       "      <td>-1</td>\n",
       "      <td>0</td>\n",
       "      <td>unknown</td>\n",
       "      <td>no</td>\n",
       "    </tr>\n",
       "  </tbody>\n",
       "</table>\n",
       "</div>"
      ],
      "text/plain": [
       "   age           job  marital  education default  balance housing loan  \\\n",
       "0   58    management  married   tertiary      no     2143     yes   no   \n",
       "1   44    technician   single  secondary      no       29     yes   no   \n",
       "2   33  entrepreneur  married  secondary      no        2     yes  yes   \n",
       "3   47   blue-collar  married    unknown      no     1506     yes   no   \n",
       "4   33       unknown   single    unknown      no        1      no   no   \n",
       "\n",
       "   contact  day month  duration  campaign  pdays  previous poutcome   y  \n",
       "0  unknown    5   may       261         1     -1         0  unknown  no  \n",
       "1  unknown    5   may       151         1     -1         0  unknown  no  \n",
       "2  unknown    5   may        76         1     -1         0  unknown  no  \n",
       "3  unknown    5   may        92         1     -1         0  unknown  no  \n",
       "4  unknown    5   may       198         1     -1         0  unknown  no  "
      ]
     },
     "execution_count": 3,
     "metadata": {},
     "output_type": "execute_result"
    }
   ],
   "source": [
    "# Displaying first 5 rows \n",
    "df.head()"
   ]
  },
  {
   "cell_type": "code",
   "execution_count": 4,
   "metadata": {},
   "outputs": [
    {
     "name": "stdout",
     "output_type": "stream",
     "text": [
      "<class 'pandas.core.frame.DataFrame'>\n",
      "RangeIndex: 45211 entries, 0 to 45210\n",
      "Data columns (total 17 columns):\n",
      " #   Column     Non-Null Count  Dtype \n",
      "---  ------     --------------  ----- \n",
      " 0   age        45211 non-null  int64 \n",
      " 1   job        45211 non-null  object\n",
      " 2   marital    45211 non-null  object\n",
      " 3   education  45211 non-null  object\n",
      " 4   default    45211 non-null  object\n",
      " 5   balance    45211 non-null  int64 \n",
      " 6   housing    45211 non-null  object\n",
      " 7   loan       45211 non-null  object\n",
      " 8   contact    45211 non-null  object\n",
      " 9   day        45211 non-null  int64 \n",
      " 10  month      45211 non-null  object\n",
      " 11  duration   45211 non-null  int64 \n",
      " 12  campaign   45211 non-null  int64 \n",
      " 13  pdays      45211 non-null  int64 \n",
      " 14  previous   45211 non-null  int64 \n",
      " 15  poutcome   45211 non-null  object\n",
      " 16  y          45211 non-null  object\n",
      "dtypes: int64(7), object(10)\n",
      "memory usage: 5.9+ MB\n"
     ]
    }
   ],
   "source": [
    "#  Information about the DataFrame\n",
    "df.info()"
   ]
  },
  {
   "cell_type": "code",
   "execution_count": 5,
   "metadata": {},
   "outputs": [
    {
     "data": {
      "text/html": [
       "<div>\n",
       "<style scoped>\n",
       "    .dataframe tbody tr th:only-of-type {\n",
       "        vertical-align: middle;\n",
       "    }\n",
       "\n",
       "    .dataframe tbody tr th {\n",
       "        vertical-align: top;\n",
       "    }\n",
       "\n",
       "    .dataframe thead th {\n",
       "        text-align: right;\n",
       "    }\n",
       "</style>\n",
       "<table border=\"1\" class=\"dataframe\">\n",
       "  <thead>\n",
       "    <tr style=\"text-align: right;\">\n",
       "      <th></th>\n",
       "      <th>age</th>\n",
       "      <th>balance</th>\n",
       "      <th>day</th>\n",
       "      <th>duration</th>\n",
       "      <th>campaign</th>\n",
       "      <th>pdays</th>\n",
       "      <th>previous</th>\n",
       "    </tr>\n",
       "  </thead>\n",
       "  <tbody>\n",
       "    <tr>\n",
       "      <th>count</th>\n",
       "      <td>45211.000</td>\n",
       "      <td>45211.000</td>\n",
       "      <td>45211.000</td>\n",
       "      <td>45211.000</td>\n",
       "      <td>45211.000</td>\n",
       "      <td>45211.000</td>\n",
       "      <td>45211.000</td>\n",
       "    </tr>\n",
       "    <tr>\n",
       "      <th>mean</th>\n",
       "      <td>40.936</td>\n",
       "      <td>1362.272</td>\n",
       "      <td>15.806</td>\n",
       "      <td>258.163</td>\n",
       "      <td>2.764</td>\n",
       "      <td>40.198</td>\n",
       "      <td>0.580</td>\n",
       "    </tr>\n",
       "    <tr>\n",
       "      <th>std</th>\n",
       "      <td>10.619</td>\n",
       "      <td>3044.766</td>\n",
       "      <td>8.322</td>\n",
       "      <td>257.528</td>\n",
       "      <td>3.098</td>\n",
       "      <td>100.129</td>\n",
       "      <td>2.303</td>\n",
       "    </tr>\n",
       "    <tr>\n",
       "      <th>min</th>\n",
       "      <td>18.000</td>\n",
       "      <td>-8019.000</td>\n",
       "      <td>1.000</td>\n",
       "      <td>0.000</td>\n",
       "      <td>1.000</td>\n",
       "      <td>-1.000</td>\n",
       "      <td>0.000</td>\n",
       "    </tr>\n",
       "    <tr>\n",
       "      <th>25%</th>\n",
       "      <td>33.000</td>\n",
       "      <td>72.000</td>\n",
       "      <td>8.000</td>\n",
       "      <td>103.000</td>\n",
       "      <td>1.000</td>\n",
       "      <td>-1.000</td>\n",
       "      <td>0.000</td>\n",
       "    </tr>\n",
       "    <tr>\n",
       "      <th>50%</th>\n",
       "      <td>39.000</td>\n",
       "      <td>448.000</td>\n",
       "      <td>16.000</td>\n",
       "      <td>180.000</td>\n",
       "      <td>2.000</td>\n",
       "      <td>-1.000</td>\n",
       "      <td>0.000</td>\n",
       "    </tr>\n",
       "    <tr>\n",
       "      <th>75%</th>\n",
       "      <td>48.000</td>\n",
       "      <td>1428.000</td>\n",
       "      <td>21.000</td>\n",
       "      <td>319.000</td>\n",
       "      <td>3.000</td>\n",
       "      <td>-1.000</td>\n",
       "      <td>0.000</td>\n",
       "    </tr>\n",
       "    <tr>\n",
       "      <th>max</th>\n",
       "      <td>95.000</td>\n",
       "      <td>102127.000</td>\n",
       "      <td>31.000</td>\n",
       "      <td>4918.000</td>\n",
       "      <td>63.000</td>\n",
       "      <td>871.000</td>\n",
       "      <td>275.000</td>\n",
       "    </tr>\n",
       "  </tbody>\n",
       "</table>\n",
       "</div>"
      ],
      "text/plain": [
       "            age    balance       day  duration  campaign     pdays  previous\n",
       "count 45211.000  45211.000 45211.000 45211.000 45211.000 45211.000 45211.000\n",
       "mean     40.936   1362.272    15.806   258.163     2.764    40.198     0.580\n",
       "std      10.619   3044.766     8.322   257.528     3.098   100.129     2.303\n",
       "min      18.000  -8019.000     1.000     0.000     1.000    -1.000     0.000\n",
       "25%      33.000     72.000     8.000   103.000     1.000    -1.000     0.000\n",
       "50%      39.000    448.000    16.000   180.000     2.000    -1.000     0.000\n",
       "75%      48.000   1428.000    21.000   319.000     3.000    -1.000     0.000\n",
       "max      95.000 102127.000    31.000  4918.000    63.000   871.000   275.000"
      ]
     },
     "execution_count": 5,
     "metadata": {},
     "output_type": "execute_result"
    }
   ],
   "source": [
    "# 5 summary statistics\n",
    "df.describe()"
   ]
  },
  {
   "cell_type": "markdown",
   "metadata": {},
   "source": [
    "#### 3.2.   Data Preprocessing"
   ]
  },
  {
   "cell_type": "markdown",
   "metadata": {},
   "source": [
    "##### Handling Missing Values "
   ]
  },
  {
   "cell_type": "code",
   "execution_count": 6,
   "metadata": {},
   "outputs": [
    {
     "data": {
      "text/plain": [
       "age          0\n",
       "job          0\n",
       "marital      0\n",
       "education    0\n",
       "default      0\n",
       "balance      0\n",
       "housing      0\n",
       "loan         0\n",
       "contact      0\n",
       "day          0\n",
       "month        0\n",
       "duration     0\n",
       "campaign     0\n",
       "pdays        0\n",
       "previous     0\n",
       "poutcome     0\n",
       "y            0\n",
       "dtype: int64"
      ]
     },
     "execution_count": 6,
     "metadata": {},
     "output_type": "execute_result"
    }
   ],
   "source": [
    "# Checking for Null values\n",
    "df.isna().sum()"
   ]
  },
  {
   "cell_type": "markdown",
   "metadata": {},
   "source": [
    "##### Checking for Outliers"
   ]
  },
  {
   "cell_type": "code",
   "execution_count": 7,
   "metadata": {},
   "outputs": [
    {
     "data": {
      "image/png": "[encoded data removed]",
      "text/plain": [
       "<Figure size 1440x864 with 8 Axes>"
      ]
     },
     "metadata": {},
     "output_type": "display_data"
    }
   ],
   "source": [
    "# Plotting outliers\n",
    "fig, axes = plt.subplots(nrows = 2, ncols = 4)    # axes is 2d array (2x4)\n",
    "axes = axes.flatten()        \n",
    "fig.set_size_inches(20, 12)\n",
    "colors =['#003049','#D62828']\n",
    "num_col = df.select_dtypes('int64')\n",
    "for ax, col in zip(axes, num_col.columns):\n",
    "    sns.boxplot(x='y', y=df[col],ax = ax,  notch= True, data=df, palette=colors)\n",
    "    axes.flat[-1].set_visible(False) # to remove last plot\n"
   ]
  },
  {
   "cell_type": "markdown",
   "metadata": {},
   "source": [
    "From the above boxplot we can say  that for both the customers that subscibed or didn’t subscribe a term deposit, has a median age of around 36/40. "
   ]
  },
  {
   "cell_type": "markdown",
   "metadata": {},
   "source": [
    "Outlier removal means deleting extreme values from  dataset before  perform analyses. We aim to delete any dirty data while retaining true extreme values.<p>\n",
    "It’s a tricky procedure because it’s often impossible to tell the two types apart for sure. Deleting true outliers may lead to a biased dataset and an inaccurate conclusion.<p>\n",
    "    We will just drop some outliers exceeding the upper fence in <mark>duration</mark>  <mark>previous</mark> columns"
   ]
  },
  {
   "cell_type": "code",
   "execution_count": 8,
   "metadata": {},
   "outputs": [],
   "source": [
    "# Dropping extreme values\n",
    "df.drop(df[df['duration'] > 4500].index, inplace = True)\n",
    "df.drop(df[df['previous'] > 250].index, inplace = True)"
   ]
  },
  {
   "cell_type": "code",
   "execution_count": 9,
   "metadata": {},
   "outputs": [
    {
     "data": {
      "text/plain": [
       "(45209, 17)"
      ]
     },
     "execution_count": 9,
     "metadata": {},
     "output_type": "execute_result"
    }
   ],
   "source": [
    "# Checking lenth of DataFrame\n",
    "df.shape"
   ]
  },
  {
   "cell_type": "markdown",
   "metadata": {},
   "source": [
    "#####  Data Distribution"
   ]
  },
  {
   "cell_type": "code",
   "execution_count": 10,
   "metadata": {},
   "outputs": [
    {
     "data": {
      "text/plain": [
       "<AxesSubplot:title={'center':'Frequency distribution of the target variables'}>"
      ]
     },
     "execution_count": 10,
     "metadata": {},
     "output_type": "execute_result"
    },
    {
     "data": {
      "image/png": "[encoded data removed]",
      "text/plain": [
       "<Figure size 432x288 with 1 Axes>"
      ]
     },
     "metadata": {},
     "output_type": "display_data"
    }
   ],
   "source": [
    "# Checking for class balance\n",
    "df['y'].value_counts().plot(kind='barh', title=\"Frequency distribution of the target variables\", color='#F77F00')"
   ]
  },
  {
   "cell_type": "markdown",
   "metadata": {},
   "source": [
    "This is an imbalanced classification means that there are too few examples of the minority class for a model to effectively learn the decision boundary. "
   ]
  },
  {
   "cell_type": "code",
   "execution_count": 11,
   "metadata": {},
   "outputs": [],
   "source": [
    "# Renaming target column\n",
    "df.rename(columns={\"y\": \"target\"}, inplace=True)"
   ]
  },
  {
   "cell_type": "code",
   "execution_count": 12,
   "metadata": {},
   "outputs": [
    {
     "data": {
      "text/plain": [
       "array(['no', 'yes'], dtype=object)"
      ]
     },
     "execution_count": 12,
     "metadata": {},
     "output_type": "execute_result"
    }
   ],
   "source": [
    "# Checking for unique values\n",
    "df.target.unique()"
   ]
  },
  {
   "cell_type": "code",
   "execution_count": 13,
   "metadata": {},
   "outputs": [],
   "source": [
    "# Changing values from str to numeric val\n",
    "df['target'] = df['target'].map({'yes': 1, 'no': 0})"
   ]
  },
  {
   "cell_type": "code",
   "execution_count": 14,
   "metadata": {
    "scrolled": true
   },
   "outputs": [
    {
     "data": {
      "text/plain": [
       "job          object\n",
       "marital      object\n",
       "education    object\n",
       "default      object\n",
       "housing      object\n",
       "loan         object\n",
       "contact      object\n",
       "month        object\n",
       "poutcome     object\n",
       "dtype: object"
      ]
     },
     "execution_count": 14,
     "metadata": {},
     "output_type": "execute_result"
    }
   ],
   "source": [
    "# Displaying non-object data type columns\n",
    "df.dtypes[df.dtypes == 'object']"
   ]
  },
  {
   "cell_type": "code",
   "execution_count": 15,
   "metadata": {},
   "outputs": [],
   "source": [
    "# Renaming some columns\n",
    "df.rename(columns = {'default':'has_credit', 'housing':'has_housing_loan',\n",
    "                     'loan':'has_personal_loan', 'poutcome':'prev_camp_outc'}, inplace = True)"
   ]
  },
  {
   "cell_type": "code",
   "execution_count": 16,
   "metadata": {},
   "outputs": [
    {
     "data": {
      "image/png": "[encoded data removed]",
      "text/plain": [
       "<Figure size 1080x360 with 1 Axes>"
      ]
     },
     "metadata": {},
     "output_type": "display_data"
    },
    {
     "data": {
      "image/png": "[encoded data removed]",
      "text/plain": [
       "<Figure size 1800x1080 with 8 Axes>"
      ]
     },
     "metadata": {},
     "output_type": "display_data"
    }
   ],
   "source": [
    "# Plotting distribution of categorical values\n",
    "'''\n",
    "Since 'job' column contains more value types  I will plot it seperately\n",
    "'''\n",
    "plt.figure(figsize=[15,5])\n",
    "sns.countplot( x='job', data=df, hue='target', palette=colors)\n",
    "sns.despine()\n",
    "\n",
    "fig, axes = plt.subplots(nrows = 2, ncols = 4)   \n",
    "axes = axes.flatten()        \n",
    "fig.set_size_inches(25, 15)\n",
    "colors =['#003049','#F77F00']\n",
    "# Selecting categorical values\n",
    "cat_col = df[['marital','education','has_credit',\n",
    "              'has_housing_loan','has_personal_loan',\n",
    "              'contact','month','prev_camp_outc',]]\n",
    "for ax, col in zip(axes, cat_col.columns):\n",
    "    sns.countplot( x=df[col],ax = ax,  data=df, hue='target', palette=colors)\n",
    "    sns.despine()\n"
   ]
  },
  {
   "cell_type": "markdown",
   "metadata": {},
   "source": [
    "- According to the above plot, we can see that the customers who work in management positions have the highest rate of subscribing to a term deposit, but they are also the higher after the blue-collar professions when it comes to not subscribing\n",
    "- Customers who have a personal loans are more inclined to subscribe to a term deposit.\n",
    "- Mostly married  and single marital people made subscriptions compare to the people who are divorced.\n",
    "- Most people after receiving their secondary or tertiary  educations can afford term deposits.\n",
    "- Majority subscribed customers were contacted via cellular phones."
   ]
  },
  {
   "cell_type": "markdown",
   "metadata": {},
   "source": [
    "The *unknown* variables will be removed due to do not represent an impact over the dataset "
   ]
  },
  {
   "cell_type": "code",
   "execution_count": 17,
   "metadata": {},
   "outputs": [],
   "source": [
    "# Dropping 'unknown' row values \n",
    "df = df[df.job != 'unknown']\n",
    "df = df[df.education != 'unknown']\n",
    "df=  df[df.contact !='unknown']"
   ]
  },
  {
   "cell_type": "code",
   "execution_count": 18,
   "metadata": {},
   "outputs": [
    {
     "data": {
      "text/plain": [
       "-1      23059\n",
       " 182      151\n",
       " 92       138\n",
       " 183      120\n",
       " 91       115\n",
       "        ...  \n",
       " 774        1\n",
       " 550        1\n",
       " 486        1\n",
       " 470        1\n",
       " 32         1\n",
       "Name: pdays, Length: 530, dtype: int64"
      ]
     },
     "execution_count": 18,
     "metadata": {},
     "output_type": "execute_result"
    }
   ],
   "source": [
    "# Counting unique values within the 'pdays' clumn\n",
    "'''\n",
    "number of days that passed by after the client was last contacted from \n",
    "a previous campaign (numeric, -1 means client was not previously contacted)\n",
    "'''\n",
    "df.pdays.value_counts()"
   ]
  },
  {
   "cell_type": "code",
   "execution_count": 19,
   "metadata": {},
   "outputs": [],
   "source": [
    "# Replacing negative value to 0\n",
    "df['pdays'] = df['pdays'].replace({-1: 0})"
   ]
  },
  {
   "cell_type": "code",
   "execution_count": 20,
   "metadata": {},
   "outputs": [],
   "source": [
    "# Getting copy of the original DataFrame fo future Synthetic Resampling\n",
    "df_copy = df.copy()"
   ]
  },
  {
   "cell_type": "code",
   "execution_count": 21,
   "metadata": {},
   "outputs": [
    {
     "data": {
      "text/html": [
       "<div>\n",
       "<style scoped>\n",
       "    .dataframe tbody tr th:only-of-type {\n",
       "        vertical-align: middle;\n",
       "    }\n",
       "\n",
       "    .dataframe tbody tr th {\n",
       "        vertical-align: top;\n",
       "    }\n",
       "\n",
       "    .dataframe thead th {\n",
       "        text-align: right;\n",
       "    }\n",
       "</style>\n",
       "<table border=\"1\" class=\"dataframe\">\n",
       "  <thead>\n",
       "    <tr style=\"text-align: right;\">\n",
       "      <th></th>\n",
       "      <th>age</th>\n",
       "      <th>job</th>\n",
       "      <th>marital</th>\n",
       "      <th>education</th>\n",
       "      <th>has_credit</th>\n",
       "      <th>balance</th>\n",
       "      <th>has_housing_loan</th>\n",
       "      <th>has_personal_loan</th>\n",
       "      <th>contact</th>\n",
       "      <th>day</th>\n",
       "      <th>month</th>\n",
       "      <th>duration</th>\n",
       "      <th>campaign</th>\n",
       "      <th>pdays</th>\n",
       "      <th>previous</th>\n",
       "      <th>prev_camp_outc</th>\n",
       "      <th>target</th>\n",
       "    </tr>\n",
       "  </thead>\n",
       "  <tbody>\n",
       "    <tr>\n",
       "      <th>12657</th>\n",
       "      <td>27</td>\n",
       "      <td>management</td>\n",
       "      <td>single</td>\n",
       "      <td>secondary</td>\n",
       "      <td>no</td>\n",
       "      <td>35</td>\n",
       "      <td>no</td>\n",
       "      <td>no</td>\n",
       "      <td>cellular</td>\n",
       "      <td>4</td>\n",
       "      <td>jul</td>\n",
       "      <td>255</td>\n",
       "      <td>1</td>\n",
       "      <td>0</td>\n",
       "      <td>0</td>\n",
       "      <td>unknown</td>\n",
       "      <td>0</td>\n",
       "    </tr>\n",
       "    <tr>\n",
       "      <th>12658</th>\n",
       "      <td>54</td>\n",
       "      <td>blue-collar</td>\n",
       "      <td>married</td>\n",
       "      <td>primary</td>\n",
       "      <td>no</td>\n",
       "      <td>466</td>\n",
       "      <td>no</td>\n",
       "      <td>no</td>\n",
       "      <td>cellular</td>\n",
       "      <td>4</td>\n",
       "      <td>jul</td>\n",
       "      <td>297</td>\n",
       "      <td>1</td>\n",
       "      <td>0</td>\n",
       "      <td>0</td>\n",
       "      <td>unknown</td>\n",
       "      <td>0</td>\n",
       "    </tr>\n",
       "    <tr>\n",
       "      <th>12659</th>\n",
       "      <td>43</td>\n",
       "      <td>blue-collar</td>\n",
       "      <td>married</td>\n",
       "      <td>secondary</td>\n",
       "      <td>no</td>\n",
       "      <td>105</td>\n",
       "      <td>no</td>\n",
       "      <td>yes</td>\n",
       "      <td>cellular</td>\n",
       "      <td>4</td>\n",
       "      <td>jul</td>\n",
       "      <td>668</td>\n",
       "      <td>2</td>\n",
       "      <td>0</td>\n",
       "      <td>0</td>\n",
       "      <td>unknown</td>\n",
       "      <td>0</td>\n",
       "    </tr>\n",
       "    <tr>\n",
       "      <th>12660</th>\n",
       "      <td>31</td>\n",
       "      <td>technician</td>\n",
       "      <td>single</td>\n",
       "      <td>secondary</td>\n",
       "      <td>no</td>\n",
       "      <td>19</td>\n",
       "      <td>no</td>\n",
       "      <td>no</td>\n",
       "      <td>telephone</td>\n",
       "      <td>4</td>\n",
       "      <td>jul</td>\n",
       "      <td>65</td>\n",
       "      <td>2</td>\n",
       "      <td>0</td>\n",
       "      <td>0</td>\n",
       "      <td>unknown</td>\n",
       "      <td>0</td>\n",
       "    </tr>\n",
       "    <tr>\n",
       "      <th>12661</th>\n",
       "      <td>27</td>\n",
       "      <td>technician</td>\n",
       "      <td>single</td>\n",
       "      <td>secondary</td>\n",
       "      <td>no</td>\n",
       "      <td>126</td>\n",
       "      <td>yes</td>\n",
       "      <td>yes</td>\n",
       "      <td>cellular</td>\n",
       "      <td>4</td>\n",
       "      <td>jul</td>\n",
       "      <td>436</td>\n",
       "      <td>4</td>\n",
       "      <td>0</td>\n",
       "      <td>0</td>\n",
       "      <td>unknown</td>\n",
       "      <td>0</td>\n",
       "    </tr>\n",
       "  </tbody>\n",
       "</table>\n",
       "</div>"
      ],
      "text/plain": [
       "       age          job  marital  education has_credit  balance  \\\n",
       "12657   27   management   single  secondary         no       35   \n",
       "12658   54  blue-collar  married    primary         no      466   \n",
       "12659   43  blue-collar  married  secondary         no      105   \n",
       "12660   31   technician   single  secondary         no       19   \n",
       "12661   27   technician   single  secondary         no      126   \n",
       "\n",
       "      has_housing_loan has_personal_loan    contact  day month  duration  \\\n",
       "12657               no                no   cellular    4   jul       255   \n",
       "12658               no                no   cellular    4   jul       297   \n",
       "12659               no               yes   cellular    4   jul       668   \n",
       "12660               no                no  telephone    4   jul        65   \n",
       "12661              yes               yes   cellular    4   jul       436   \n",
       "\n",
       "       campaign  pdays  previous prev_camp_outc  target  \n",
       "12657         1      0         0        unknown       0  \n",
       "12658         1      0         0        unknown       0  \n",
       "12659         2      0         0        unknown       0  \n",
       "12660         2      0         0        unknown       0  \n",
       "12661         4      0         0        unknown       0  "
      ]
     },
     "execution_count": 21,
     "metadata": {},
     "output_type": "execute_result"
    }
   ],
   "source": [
    "df_copy.head()"
   ]
  },
  {
   "cell_type": "code",
   "execution_count": 22,
   "metadata": {},
   "outputs": [],
   "source": [
    "# Changing categorical values from str into int \n",
    "df['has_credit']= df['has_credit'].map({'yes': 1, 'no' : 0})\n",
    "df['has_housing_loan']= df['has_housing_loan'].map({'yes': 1, 'no' : 0})\n",
    "df['has_personal_loan']= df['has_personal_loan'].map({'yes': 1, 'no' : 0})\n"
   ]
  },
  {
   "cell_type": "code",
   "execution_count": 23,
   "metadata": {
    "scrolled": true
   },
   "outputs": [
    {
     "data": {
      "text/html": [
       "<style  type=\"text/css\" >\n",
       "#T_dc81405a_fef1_11ec_9170_d2c5d33f3c6brow0_col0,#T_dc81405a_fef1_11ec_9170_d2c5d33f3c6brow1_col1,#T_dc81405a_fef1_11ec_9170_d2c5d33f3c6brow2_col2,#T_dc81405a_fef1_11ec_9170_d2c5d33f3c6brow3_col3,#T_dc81405a_fef1_11ec_9170_d2c5d33f3c6brow4_col4,#T_dc81405a_fef1_11ec_9170_d2c5d33f3c6brow5_col5,#T_dc81405a_fef1_11ec_9170_d2c5d33f3c6brow6_col6,#T_dc81405a_fef1_11ec_9170_d2c5d33f3c6brow7_col7,#T_dc81405a_fef1_11ec_9170_d2c5d33f3c6brow8_col8,#T_dc81405a_fef1_11ec_9170_d2c5d33f3c6brow9_col9,#T_dc81405a_fef1_11ec_9170_d2c5d33f3c6brow10_col10{\n",
       "            background-color:  #023858;\n",
       "            color:  #f1f1f1;\n",
       "        }#T_dc81405a_fef1_11ec_9170_d2c5d33f3c6brow0_col1,#T_dc81405a_fef1_11ec_9170_d2c5d33f3c6brow3_col1,#T_dc81405a_fef1_11ec_9170_d2c5d33f3c6brow3_col7,#T_dc81405a_fef1_11ec_9170_d2c5d33f3c6brow4_col10,#T_dc81405a_fef1_11ec_9170_d2c5d33f3c6brow5_col6,#T_dc81405a_fef1_11ec_9170_d2c5d33f3c6brow6_col1,#T_dc81405a_fef1_11ec_9170_d2c5d33f3c6brow9_col5{\n",
       "            background-color:  #f8f1f8;\n",
       "            color:  #000000;\n",
       "        }#T_dc81405a_fef1_11ec_9170_d2c5d33f3c6brow0_col2,#T_dc81405a_fef1_11ec_9170_d2c5d33f3c6brow10_col0,#T_dc81405a_fef1_11ec_9170_d2c5d33f3c6brow10_col8{\n",
       "            background-color:  #e1dfed;\n",
       "            color:  #000000;\n",
       "        }#T_dc81405a_fef1_11ec_9170_d2c5d33f3c6brow0_col3,#T_dc81405a_fef1_11ec_9170_d2c5d33f3c6brow2_col1,#T_dc81405a_fef1_11ec_9170_d2c5d33f3c6brow2_col4,#T_dc81405a_fef1_11ec_9170_d2c5d33f3c6brow3_col0,#T_dc81405a_fef1_11ec_9170_d2c5d33f3c6brow3_col10,#T_dc81405a_fef1_11ec_9170_d2c5d33f3c6brow4_col2,#T_dc81405a_fef1_11ec_9170_d2c5d33f3c6brow5_col8,#T_dc81405a_fef1_11ec_9170_d2c5d33f3c6brow5_col9,#T_dc81405a_fef1_11ec_9170_d2c5d33f3c6brow7_col6,#T_dc81405a_fef1_11ec_9170_d2c5d33f3c6brow8_col5,#T_dc81405a_fef1_11ec_9170_d2c5d33f3c6brow8_col7{\n",
       "            background-color:  #fff7fb;\n",
       "            color:  #000000;\n",
       "        }#T_dc81405a_fef1_11ec_9170_d2c5d33f3c6brow0_col4,#T_dc81405a_fef1_11ec_9170_d2c5d33f3c6brow6_col9,#T_dc81405a_fef1_11ec_9170_d2c5d33f3c6brow10_col5{\n",
       "            background-color:  #f4eef6;\n",
       "            color:  #000000;\n",
       "        }#T_dc81405a_fef1_11ec_9170_d2c5d33f3c6brow0_col5,#T_dc81405a_fef1_11ec_9170_d2c5d33f3c6brow1_col7,#T_dc81405a_fef1_11ec_9170_d2c5d33f3c6brow3_col4{\n",
       "            background-color:  #ede7f2;\n",
       "            color:  #000000;\n",
       "        }#T_dc81405a_fef1_11ec_9170_d2c5d33f3c6brow0_col6,#T_dc81405a_fef1_11ec_9170_d2c5d33f3c6brow1_col10,#T_dc81405a_fef1_11ec_9170_d2c5d33f3c6brow5_col3,#T_dc81405a_fef1_11ec_9170_d2c5d33f3c6brow5_col4{\n",
       "            background-color:  #f1ebf5;\n",
       "            color:  #000000;\n",
       "        }#T_dc81405a_fef1_11ec_9170_d2c5d33f3c6brow0_col7,#T_dc81405a_fef1_11ec_9170_d2c5d33f3c6brow2_col3,#T_dc81405a_fef1_11ec_9170_d2c5d33f3c6brow2_col6,#T_dc81405a_fef1_11ec_9170_d2c5d33f3c6brow6_col2,#T_dc81405a_fef1_11ec_9170_d2c5d33f3c6brow7_col4{\n",
       "            background-color:  #f0eaf4;\n",
       "            color:  #000000;\n",
       "        }#T_dc81405a_fef1_11ec_9170_d2c5d33f3c6brow0_col8,#T_dc81405a_fef1_11ec_9170_d2c5d33f3c6brow2_col7,#T_dc81405a_fef1_11ec_9170_d2c5d33f3c6brow3_col6,#T_dc81405a_fef1_11ec_9170_d2c5d33f3c6brow5_col2{\n",
       "            background-color:  #f3edf5;\n",
       "            color:  #000000;\n",
       "        }#T_dc81405a_fef1_11ec_9170_d2c5d33f3c6brow0_col9,#T_dc81405a_fef1_11ec_9170_d2c5d33f3c6brow4_col6,#T_dc81405a_fef1_11ec_9170_d2c5d33f3c6brow6_col4{\n",
       "            background-color:  #f5eef6;\n",
       "            color:  #000000;\n",
       "        }#T_dc81405a_fef1_11ec_9170_d2c5d33f3c6brow0_col10,#T_dc81405a_fef1_11ec_9170_d2c5d33f3c6brow6_col0{\n",
       "            background-color:  #e7e3f0;\n",
       "            color:  #000000;\n",
       "        }#T_dc81405a_fef1_11ec_9170_d2c5d33f3c6brow1_col0,#T_dc81405a_fef1_11ec_9170_d2c5d33f3c6brow1_col3,#T_dc81405a_fef1_11ec_9170_d2c5d33f3c6brow4_col0{\n",
       "            background-color:  #e9e5f1;\n",
       "            color:  #000000;\n",
       "        }#T_dc81405a_fef1_11ec_9170_d2c5d33f3c6brow1_col2{\n",
       "            background-color:  #fbf4f9;\n",
       "            color:  #000000;\n",
       "        }#T_dc81405a_fef1_11ec_9170_d2c5d33f3c6brow1_col4,#T_dc81405a_fef1_11ec_9170_d2c5d33f3c6brow5_col0,#T_dc81405a_fef1_11ec_9170_d2c5d33f3c6brow10_col9{\n",
       "            background-color:  #e5e1ef;\n",
       "            color:  #000000;\n",
       "        }#T_dc81405a_fef1_11ec_9170_d2c5d33f3c6brow1_col5,#T_dc81405a_fef1_11ec_9170_d2c5d33f3c6brow10_col2{\n",
       "            background-color:  #ebe6f2;\n",
       "            color:  #000000;\n",
       "        }#T_dc81405a_fef1_11ec_9170_d2c5d33f3c6brow1_col6,#T_dc81405a_fef1_11ec_9170_d2c5d33f3c6brow5_col1,#T_dc81405a_fef1_11ec_9170_d2c5d33f3c6brow5_col10,#T_dc81405a_fef1_11ec_9170_d2c5d33f3c6brow6_col5,#T_dc81405a_fef1_11ec_9170_d2c5d33f3c6brow8_col2{\n",
       "            background-color:  #f4edf6;\n",
       "            color:  #000000;\n",
       "        }#T_dc81405a_fef1_11ec_9170_d2c5d33f3c6brow1_col8,#T_dc81405a_fef1_11ec_9170_d2c5d33f3c6brow2_col9,#T_dc81405a_fef1_11ec_9170_d2c5d33f3c6brow4_col8,#T_dc81405a_fef1_11ec_9170_d2c5d33f3c6brow7_col1,#T_dc81405a_fef1_11ec_9170_d2c5d33f3c6brow8_col6,#T_dc81405a_fef1_11ec_9170_d2c5d33f3c6brow9_col6{\n",
       "            background-color:  #f2ecf5;\n",
       "            color:  #000000;\n",
       "        }#T_dc81405a_fef1_11ec_9170_d2c5d33f3c6brow1_col9,#T_dc81405a_fef1_11ec_9170_d2c5d33f3c6brow3_col5,#T_dc81405a_fef1_11ec_9170_d2c5d33f3c6brow4_col9,#T_dc81405a_fef1_11ec_9170_d2c5d33f3c6brow8_col4,#T_dc81405a_fef1_11ec_9170_d2c5d33f3c6brow9_col7{\n",
       "            background-color:  #f7f0f7;\n",
       "            color:  #000000;\n",
       "        }#T_dc81405a_fef1_11ec_9170_d2c5d33f3c6brow2_col0{\n",
       "            background-color:  #d4d4e8;\n",
       "            color:  #000000;\n",
       "        }#T_dc81405a_fef1_11ec_9170_d2c5d33f3c6brow2_col5,#T_dc81405a_fef1_11ec_9170_d2c5d33f3c6brow6_col8{\n",
       "            background-color:  #eee9f3;\n",
       "            color:  #000000;\n",
       "        }#T_dc81405a_fef1_11ec_9170_d2c5d33f3c6brow2_col8{\n",
       "            background-color:  #efe9f3;\n",
       "            color:  #000000;\n",
       "        }#T_dc81405a_fef1_11ec_9170_d2c5d33f3c6brow2_col10{\n",
       "            background-color:  #e3e0ee;\n",
       "            color:  #000000;\n",
       "        }#T_dc81405a_fef1_11ec_9170_d2c5d33f3c6brow3_col2,#T_dc81405a_fef1_11ec_9170_d2c5d33f3c6brow7_col9,#T_dc81405a_fef1_11ec_9170_d2c5d33f3c6brow8_col1,#T_dc81405a_fef1_11ec_9170_d2c5d33f3c6brow10_col1{\n",
       "            background-color:  #fbf3f9;\n",
       "            color:  #000000;\n",
       "        }#T_dc81405a_fef1_11ec_9170_d2c5d33f3c6brow3_col8{\n",
       "            background-color:  #bdc8e1;\n",
       "            color:  #000000;\n",
       "        }#T_dc81405a_fef1_11ec_9170_d2c5d33f3c6brow3_col9{\n",
       "            background-color:  #e4e1ef;\n",
       "            color:  #000000;\n",
       "        }#T_dc81405a_fef1_11ec_9170_d2c5d33f3c6brow4_col1{\n",
       "            background-color:  #eae6f1;\n",
       "            color:  #000000;\n",
       "        }#T_dc81405a_fef1_11ec_9170_d2c5d33f3c6brow4_col3{\n",
       "            background-color:  #dfddec;\n",
       "            color:  #000000;\n",
       "        }#T_dc81405a_fef1_11ec_9170_d2c5d33f3c6brow4_col5,#T_dc81405a_fef1_11ec_9170_d2c5d33f3c6brow4_col7{\n",
       "            background-color:  #ede8f3;\n",
       "            color:  #000000;\n",
       "        }#T_dc81405a_fef1_11ec_9170_d2c5d33f3c6brow5_col7{\n",
       "            background-color:  #c2cbe2;\n",
       "            color:  #000000;\n",
       "        }#T_dc81405a_fef1_11ec_9170_d2c5d33f3c6brow6_col3,#T_dc81405a_fef1_11ec_9170_d2c5d33f3c6brow9_col0{\n",
       "            background-color:  #e8e4f0;\n",
       "            color:  #000000;\n",
       "        }#T_dc81405a_fef1_11ec_9170_d2c5d33f3c6brow6_col7,#T_dc81405a_fef1_11ec_9170_d2c5d33f3c6brow7_col8,#T_dc81405a_fef1_11ec_9170_d2c5d33f3c6brow10_col7{\n",
       "            background-color:  #fdf5fa;\n",
       "            color:  #000000;\n",
       "        }#T_dc81405a_fef1_11ec_9170_d2c5d33f3c6brow6_col10{\n",
       "            background-color:  #81aed2;\n",
       "            color:  #000000;\n",
       "        }#T_dc81405a_fef1_11ec_9170_d2c5d33f3c6brow7_col0{\n",
       "            background-color:  #e6e2ef;\n",
       "            color:  #000000;\n",
       "        }#T_dc81405a_fef1_11ec_9170_d2c5d33f3c6brow7_col2{\n",
       "            background-color:  #f6eff7;\n",
       "            color:  #000000;\n",
       "        }#T_dc81405a_fef1_11ec_9170_d2c5d33f3c6brow7_col3,#T_dc81405a_fef1_11ec_9170_d2c5d33f3c6brow9_col2{\n",
       "            background-color:  #f1ebf4;\n",
       "            color:  #000000;\n",
       "        }#T_dc81405a_fef1_11ec_9170_d2c5d33f3c6brow7_col5{\n",
       "            background-color:  #bfc9e1;\n",
       "            color:  #000000;\n",
       "        }#T_dc81405a_fef1_11ec_9170_d2c5d33f3c6brow7_col10,#T_dc81405a_fef1_11ec_9170_d2c5d33f3c6brow9_col1{\n",
       "            background-color:  #faf2f8;\n",
       "            color:  #000000;\n",
       "        }#T_dc81405a_fef1_11ec_9170_d2c5d33f3c6brow8_col0{\n",
       "            background-color:  #eee8f3;\n",
       "            color:  #000000;\n",
       "        }#T_dc81405a_fef1_11ec_9170_d2c5d33f3c6brow8_col3{\n",
       "            background-color:  #b4c4df;\n",
       "            color:  #000000;\n",
       "        }#T_dc81405a_fef1_11ec_9170_d2c5d33f3c6brow8_col9{\n",
       "            background-color:  #589ec8;\n",
       "            color:  #000000;\n",
       "        }#T_dc81405a_fef1_11ec_9170_d2c5d33f3c6brow8_col10{\n",
       "            background-color:  #e0dded;\n",
       "            color:  #000000;\n",
       "        }#T_dc81405a_fef1_11ec_9170_d2c5d33f3c6brow9_col3{\n",
       "            background-color:  #d5d5e8;\n",
       "            color:  #000000;\n",
       "        }#T_dc81405a_fef1_11ec_9170_d2c5d33f3c6brow9_col4{\n",
       "            background-color:  #f5eff6;\n",
       "            color:  #000000;\n",
       "        }#T_dc81405a_fef1_11ec_9170_d2c5d33f3c6brow9_col8{\n",
       "            background-color:  #4e9ac6;\n",
       "            color:  #000000;\n",
       "        }#T_dc81405a_fef1_11ec_9170_d2c5d33f3c6brow9_col10{\n",
       "            background-color:  #dbdaeb;\n",
       "            color:  #000000;\n",
       "        }#T_dc81405a_fef1_11ec_9170_d2c5d33f3c6brow10_col3{\n",
       "            background-color:  #faf3f9;\n",
       "            color:  #000000;\n",
       "        }#T_dc81405a_fef1_11ec_9170_d2c5d33f3c6brow10_col4{\n",
       "            background-color:  #fef6fb;\n",
       "            color:  #000000;\n",
       "        }#T_dc81405a_fef1_11ec_9170_d2c5d33f3c6brow10_col6{\n",
       "            background-color:  #89b1d4;\n",
       "            color:  #000000;\n",
       "        }</style><table id=\"T_dc81405a_fef1_11ec_9170_d2c5d33f3c6b\" ><thead>    <tr>        <th class=\"blank level0\" ></th>        <th class=\"col_heading level0 col0\" >age</th>        <th class=\"col_heading level0 col1\" >has_credit</th>        <th class=\"col_heading level0 col2\" >balance</th>        <th class=\"col_heading level0 col3\" >has_housing_loan</th>        <th class=\"col_heading level0 col4\" >has_personal_loan</th>        <th class=\"col_heading level0 col5\" >day</th>        <th class=\"col_heading level0 col6\" >duration</th>        <th class=\"col_heading level0 col7\" >campaign</th>        <th class=\"col_heading level0 col8\" >pdays</th>        <th class=\"col_heading level0 col9\" >previous</th>        <th class=\"col_heading level0 col10\" >target</th>    </tr></thead><tbody>\n",
       "                <tr>\n",
       "                        <th id=\"T_dc81405a_fef1_11ec_9170_d2c5d33f3c6blevel0_row0\" class=\"row_heading level0 row0\" >age</th>\n",
       "                        <td id=\"T_dc81405a_fef1_11ec_9170_d2c5d33f3c6brow0_col0\" class=\"data row0 col0\" >1.000000</td>\n",
       "                        <td id=\"T_dc81405a_fef1_11ec_9170_d2c5d33f3c6brow0_col1\" class=\"data row0 col1\" >-0.009217</td>\n",
       "                        <td id=\"T_dc81405a_fef1_11ec_9170_d2c5d33f3c6brow0_col2\" class=\"data row0 col2\" >0.099586</td>\n",
       "                        <td id=\"T_dc81405a_fef1_11ec_9170_d2c5d33f3c6brow0_col3\" class=\"data row0 col3\" >-0.170506</td>\n",
       "                        <td id=\"T_dc81405a_fef1_11ec_9170_d2c5d33f3c6brow0_col4\" class=\"data row0 col4\" >-0.010080</td>\n",
       "                        <td id=\"T_dc81405a_fef1_11ec_9170_d2c5d33f3c6brow0_col5\" class=\"data row0 col5\" >0.013408</td>\n",
       "                        <td id=\"T_dc81405a_fef1_11ec_9170_d2c5d33f3c6brow0_col6\" class=\"data row0 col6\" >0.007284</td>\n",
       "                        <td id=\"T_dc81405a_fef1_11ec_9170_d2c5d33f3c6brow0_col7\" class=\"data row0 col7\" >0.007998</td>\n",
       "                        <td id=\"T_dc81405a_fef1_11ec_9170_d2c5d33f3c6brow0_col8\" class=\"data row0 col8\" >-0.034087</td>\n",
       "                        <td id=\"T_dc81405a_fef1_11ec_9170_d2c5d33f3c6brow0_col9\" class=\"data row0 col9\" >-0.002396</td>\n",
       "                        <td id=\"T_dc81405a_fef1_11ec_9170_d2c5d33f3c6brow0_col10\" class=\"data row0 col10\" >0.031161</td>\n",
       "            </tr>\n",
       "            <tr>\n",
       "                        <th id=\"T_dc81405a_fef1_11ec_9170_d2c5d33f3c6blevel0_row1\" class=\"row_heading level0 row1\" >has_credit</th>\n",
       "                        <td id=\"T_dc81405a_fef1_11ec_9170_d2c5d33f3c6brow1_col0\" class=\"data row1 col0\" >-0.009217</td>\n",
       "                        <td id=\"T_dc81405a_fef1_11ec_9170_d2c5d33f3c6brow1_col1\" class=\"data row1 col1\" >1.000000</td>\n",
       "                        <td id=\"T_dc81405a_fef1_11ec_9170_d2c5d33f3c6brow1_col2\" class=\"data row1 col2\" >-0.060991</td>\n",
       "                        <td id=\"T_dc81405a_fef1_11ec_9170_d2c5d33f3c6brow1_col3\" class=\"data row1 col3\" >-0.010241</td>\n",
       "                        <td id=\"T_dc81405a_fef1_11ec_9170_d2c5d33f3c6brow1_col4\" class=\"data row1 col4\" >0.083693</td>\n",
       "                        <td id=\"T_dc81405a_fef1_11ec_9170_d2c5d33f3c6brow1_col5\" class=\"data row1 col5\" >0.021191</td>\n",
       "                        <td id=\"T_dc81405a_fef1_11ec_9170_d2c5d33f3c6brow1_col6\" class=\"data row1 col6\" >-0.010487</td>\n",
       "                        <td id=\"T_dc81405a_fef1_11ec_9170_d2c5d33f3c6brow1_col7\" class=\"data row1 col7\" >0.026288</td>\n",
       "                        <td id=\"T_dc81405a_fef1_11ec_9170_d2c5d33f3c6brow1_col8\" class=\"data row1 col8\" >-0.031144</td>\n",
       "                        <td id=\"T_dc81405a_fef1_11ec_9170_d2c5d33f3c6brow1_col9\" class=\"data row1 col9\" >-0.021915</td>\n",
       "                        <td id=\"T_dc81405a_fef1_11ec_9170_d2c5d33f3c6brow1_col10\" class=\"data row1 col10\" >-0.029111</td>\n",
       "            </tr>\n",
       "            <tr>\n",
       "                        <th id=\"T_dc81405a_fef1_11ec_9170_d2c5d33f3c6blevel0_row2\" class=\"row_heading level0 row2\" >balance</th>\n",
       "                        <td id=\"T_dc81405a_fef1_11ec_9170_d2c5d33f3c6brow2_col0\" class=\"data row2 col0\" >0.099586</td>\n",
       "                        <td id=\"T_dc81405a_fef1_11ec_9170_d2c5d33f3c6brow2_col1\" class=\"data row2 col1\" >-0.060991</td>\n",
       "                        <td id=\"T_dc81405a_fef1_11ec_9170_d2c5d33f3c6brow2_col2\" class=\"data row2 col2\" >1.000000</td>\n",
       "                        <td id=\"T_dc81405a_fef1_11ec_9170_d2c5d33f3c6brow2_col3\" class=\"data row2 col3\" >-0.055906</td>\n",
       "                        <td id=\"T_dc81405a_fef1_11ec_9170_d2c5d33f3c6brow2_col4\" class=\"data row2 col4\" >-0.089250</td>\n",
       "                        <td id=\"T_dc81405a_fef1_11ec_9170_d2c5d33f3c6brow2_col5\" class=\"data row2 col5\" >-0.002580</td>\n",
       "                        <td id=\"T_dc81405a_fef1_11ec_9170_d2c5d33f3c6brow2_col6\" class=\"data row2 col6\" >0.020112</td>\n",
       "                        <td id=\"T_dc81405a_fef1_11ec_9170_d2c5d33f3c6brow2_col7\" class=\"data row2 col7\" >-0.021608</td>\n",
       "                        <td id=\"T_dc81405a_fef1_11ec_9170_d2c5d33f3c6brow2_col8\" class=\"data row2 col8\" >-0.004943</td>\n",
       "                        <td id=\"T_dc81405a_fef1_11ec_9170_d2c5d33f3c6brow2_col9\" class=\"data row2 col9\" >0.016416</td>\n",
       "                        <td id=\"T_dc81405a_fef1_11ec_9170_d2c5d33f3c6brow2_col10\" class=\"data row2 col10\" >0.054905</td>\n",
       "            </tr>\n",
       "            <tr>\n",
       "                        <th id=\"T_dc81405a_fef1_11ec_9170_d2c5d33f3c6blevel0_row3\" class=\"row_heading level0 row3\" >has_housing_loan</th>\n",
       "                        <td id=\"T_dc81405a_fef1_11ec_9170_d2c5d33f3c6brow3_col0\" class=\"data row3 col0\" >-0.170506</td>\n",
       "                        <td id=\"T_dc81405a_fef1_11ec_9170_d2c5d33f3c6brow3_col1\" class=\"data row3 col1\" >-0.010241</td>\n",
       "                        <td id=\"T_dc81405a_fef1_11ec_9170_d2c5d33f3c6brow3_col2\" class=\"data row3 col2\" >-0.055906</td>\n",
       "                        <td id=\"T_dc81405a_fef1_11ec_9170_d2c5d33f3c6brow3_col3\" class=\"data row3 col3\" >1.000000</td>\n",
       "                        <td id=\"T_dc81405a_fef1_11ec_9170_d2c5d33f3c6brow3_col4\" class=\"data row3 col4\" >0.044992</td>\n",
       "                        <td id=\"T_dc81405a_fef1_11ec_9170_d2c5d33f3c6brow3_col5\" class=\"data row3 col5\" >-0.065008</td>\n",
       "                        <td id=\"T_dc81405a_fef1_11ec_9170_d2c5d33f3c6brow3_col6\" class=\"data row3 col6\" >-0.005408</td>\n",
       "                        <td id=\"T_dc81405a_fef1_11ec_9170_d2c5d33f3c6brow3_col7\" class=\"data row3 col7\" >-0.056585</td>\n",
       "                        <td id=\"T_dc81405a_fef1_11ec_9170_d2c5d33f3c6brow3_col8\" class=\"data row3 col8\" >0.220058</td>\n",
       "                        <td id=\"T_dc81405a_fef1_11ec_9170_d2c5d33f3c6brow3_col9\" class=\"data row3 col9\" >0.097612</td>\n",
       "                        <td id=\"T_dc81405a_fef1_11ec_9170_d2c5d33f3c6brow3_col10\" class=\"data row3 col10\" >-0.133455</td>\n",
       "            </tr>\n",
       "            <tr>\n",
       "                        <th id=\"T_dc81405a_fef1_11ec_9170_d2c5d33f3c6blevel0_row4\" class=\"row_heading level0 row4\" >has_personal_loan</th>\n",
       "                        <td id=\"T_dc81405a_fef1_11ec_9170_d2c5d33f3c6brow4_col0\" class=\"data row4 col0\" >-0.010080</td>\n",
       "                        <td id=\"T_dc81405a_fef1_11ec_9170_d2c5d33f3c6brow4_col1\" class=\"data row4 col1\" >0.083693</td>\n",
       "                        <td id=\"T_dc81405a_fef1_11ec_9170_d2c5d33f3c6brow4_col2\" class=\"data row4 col2\" >-0.089250</td>\n",
       "                        <td id=\"T_dc81405a_fef1_11ec_9170_d2c5d33f3c6brow4_col3\" class=\"data row4 col3\" >0.044992</td>\n",
       "                        <td id=\"T_dc81405a_fef1_11ec_9170_d2c5d33f3c6brow4_col4\" class=\"data row4 col4\" >1.000000</td>\n",
       "                        <td id=\"T_dc81405a_fef1_11ec_9170_d2c5d33f3c6brow4_col5\" class=\"data row4 col5\" >0.008700</td>\n",
       "                        <td id=\"T_dc81405a_fef1_11ec_9170_d2c5d33f3c6brow4_col6\" class=\"data row4 col6\" >-0.016453</td>\n",
       "                        <td id=\"T_dc81405a_fef1_11ec_9170_d2c5d33f3c6brow4_col7\" class=\"data row4 col7\" >0.021411</td>\n",
       "                        <td id=\"T_dc81405a_fef1_11ec_9170_d2c5d33f3c6brow4_col8\" class=\"data row4 col8\" >-0.032607</td>\n",
       "                        <td id=\"T_dc81405a_fef1_11ec_9170_d2c5d33f3c6brow4_col9\" class=\"data row4 col9\" >-0.017559</td>\n",
       "                        <td id=\"T_dc81405a_fef1_11ec_9170_d2c5d33f3c6brow4_col10\" class=\"data row4 col10\" >-0.084206</td>\n",
       "            </tr>\n",
       "            <tr>\n",
       "                        <th id=\"T_dc81405a_fef1_11ec_9170_d2c5d33f3c6blevel0_row5\" class=\"row_heading level0 row5\" >day</th>\n",
       "                        <td id=\"T_dc81405a_fef1_11ec_9170_d2c5d33f3c6brow5_col0\" class=\"data row5 col0\" >0.013408</td>\n",
       "                        <td id=\"T_dc81405a_fef1_11ec_9170_d2c5d33f3c6brow5_col1\" class=\"data row5 col1\" >0.021191</td>\n",
       "                        <td id=\"T_dc81405a_fef1_11ec_9170_d2c5d33f3c6brow5_col2\" class=\"data row5 col2\" >-0.002580</td>\n",
       "                        <td id=\"T_dc81405a_fef1_11ec_9170_d2c5d33f3c6brow5_col3\" class=\"data row5 col3\" >-0.065008</td>\n",
       "                        <td id=\"T_dc81405a_fef1_11ec_9170_d2c5d33f3c6brow5_col4\" class=\"data row5 col4\" >0.008700</td>\n",
       "                        <td id=\"T_dc81405a_fef1_11ec_9170_d2c5d33f3c6brow5_col5\" class=\"data row5 col5\" >1.000000</td>\n",
       "                        <td id=\"T_dc81405a_fef1_11ec_9170_d2c5d33f3c6brow5_col6\" class=\"data row5 col6\" >-0.038947</td>\n",
       "                        <td id=\"T_dc81405a_fef1_11ec_9170_d2c5d33f3c6brow5_col7\" class=\"data row5 col7\" >0.215524</td>\n",
       "                        <td id=\"T_dc81405a_fef1_11ec_9170_d2c5d33f3c6brow5_col8\" class=\"data row5 col8\" >-0.126226</td>\n",
       "                        <td id=\"T_dc81405a_fef1_11ec_9170_d2c5d33f3c6brow5_col9\" class=\"data row5 col9\" >-0.077114</td>\n",
       "                        <td id=\"T_dc81405a_fef1_11ec_9170_d2c5d33f3c6brow5_col10\" class=\"data row5 col10\" >-0.046304</td>\n",
       "            </tr>\n",
       "            <tr>\n",
       "                        <th id=\"T_dc81405a_fef1_11ec_9170_d2c5d33f3c6blevel0_row6\" class=\"row_heading level0 row6\" >duration</th>\n",
       "                        <td id=\"T_dc81405a_fef1_11ec_9170_d2c5d33f3c6brow6_col0\" class=\"data row6 col0\" >0.007284</td>\n",
       "                        <td id=\"T_dc81405a_fef1_11ec_9170_d2c5d33f3c6brow6_col1\" class=\"data row6 col1\" >-0.010487</td>\n",
       "                        <td id=\"T_dc81405a_fef1_11ec_9170_d2c5d33f3c6brow6_col2\" class=\"data row6 col2\" >0.020112</td>\n",
       "                        <td id=\"T_dc81405a_fef1_11ec_9170_d2c5d33f3c6brow6_col3\" class=\"data row6 col3\" >-0.005408</td>\n",
       "                        <td id=\"T_dc81405a_fef1_11ec_9170_d2c5d33f3c6brow6_col4\" class=\"data row6 col4\" >-0.016453</td>\n",
       "                        <td id=\"T_dc81405a_fef1_11ec_9170_d2c5d33f3c6brow6_col5\" class=\"data row6 col5\" >-0.038947</td>\n",
       "                        <td id=\"T_dc81405a_fef1_11ec_9170_d2c5d33f3c6brow6_col6\" class=\"data row6 col6\" >1.000000</td>\n",
       "                        <td id=\"T_dc81405a_fef1_11ec_9170_d2c5d33f3c6brow6_col7\" class=\"data row6 col7\" >-0.092979</td>\n",
       "                        <td id=\"T_dc81405a_fef1_11ec_9170_d2c5d33f3c6brow6_col8\" class=\"data row6 col8\" >-0.000398</td>\n",
       "                        <td id=\"T_dc81405a_fef1_11ec_9170_d2c5d33f3c6brow6_col9\" class=\"data row6 col9\" >-0.000913</td>\n",
       "                        <td id=\"T_dc81405a_fef1_11ec_9170_d2c5d33f3c6brow6_col10\" class=\"data row6 col10\" >0.397735</td>\n",
       "            </tr>\n",
       "            <tr>\n",
       "                        <th id=\"T_dc81405a_fef1_11ec_9170_d2c5d33f3c6blevel0_row7\" class=\"row_heading level0 row7\" >campaign</th>\n",
       "                        <td id=\"T_dc81405a_fef1_11ec_9170_d2c5d33f3c6brow7_col0\" class=\"data row7 col0\" >0.007998</td>\n",
       "                        <td id=\"T_dc81405a_fef1_11ec_9170_d2c5d33f3c6brow7_col1\" class=\"data row7 col1\" >0.026288</td>\n",
       "                        <td id=\"T_dc81405a_fef1_11ec_9170_d2c5d33f3c6brow7_col2\" class=\"data row7 col2\" >-0.021608</td>\n",
       "                        <td id=\"T_dc81405a_fef1_11ec_9170_d2c5d33f3c6brow7_col3\" class=\"data row7 col3\" >-0.056585</td>\n",
       "                        <td id=\"T_dc81405a_fef1_11ec_9170_d2c5d33f3c6brow7_col4\" class=\"data row7 col4\" >0.021411</td>\n",
       "                        <td id=\"T_dc81405a_fef1_11ec_9170_d2c5d33f3c6brow7_col5\" class=\"data row7 col5\" >0.215524</td>\n",
       "                        <td id=\"T_dc81405a_fef1_11ec_9170_d2c5d33f3c6brow7_col6\" class=\"data row7 col6\" >-0.092979</td>\n",
       "                        <td id=\"T_dc81405a_fef1_11ec_9170_d2c5d33f3c6brow7_col7\" class=\"data row7 col7\" >1.000000</td>\n",
       "                        <td id=\"T_dc81405a_fef1_11ec_9170_d2c5d33f3c6brow7_col8\" class=\"data row7 col8\" >-0.108776</td>\n",
       "                        <td id=\"T_dc81405a_fef1_11ec_9170_d2c5d33f3c6brow7_col9\" class=\"data row7 col9\" >-0.045538</td>\n",
       "                        <td id=\"T_dc81405a_fef1_11ec_9170_d2c5d33f3c6brow7_col10\" class=\"data row7 col10\" >-0.090407</td>\n",
       "            </tr>\n",
       "            <tr>\n",
       "                        <th id=\"T_dc81405a_fef1_11ec_9170_d2c5d33f3c6blevel0_row8\" class=\"row_heading level0 row8\" >pdays</th>\n",
       "                        <td id=\"T_dc81405a_fef1_11ec_9170_d2c5d33f3c6brow8_col0\" class=\"data row8 col0\" >-0.034087</td>\n",
       "                        <td id=\"T_dc81405a_fef1_11ec_9170_d2c5d33f3c6brow8_col1\" class=\"data row8 col1\" >-0.031144</td>\n",
       "                        <td id=\"T_dc81405a_fef1_11ec_9170_d2c5d33f3c6brow8_col2\" class=\"data row8 col2\" >-0.004943</td>\n",
       "                        <td id=\"T_dc81405a_fef1_11ec_9170_d2c5d33f3c6brow8_col3\" class=\"data row8 col3\" >0.220058</td>\n",
       "                        <td id=\"T_dc81405a_fef1_11ec_9170_d2c5d33f3c6brow8_col4\" class=\"data row8 col4\" >-0.032607</td>\n",
       "                        <td id=\"T_dc81405a_fef1_11ec_9170_d2c5d33f3c6brow8_col5\" class=\"data row8 col5\" >-0.126226</td>\n",
       "                        <td id=\"T_dc81405a_fef1_11ec_9170_d2c5d33f3c6brow8_col6\" class=\"data row8 col6\" >-0.000398</td>\n",
       "                        <td id=\"T_dc81405a_fef1_11ec_9170_d2c5d33f3c6brow8_col7\" class=\"data row8 col7\" >-0.108776</td>\n",
       "                        <td id=\"T_dc81405a_fef1_11ec_9170_d2c5d33f3c6brow8_col8\" class=\"data row8 col8\" >1.000000</td>\n",
       "                        <td id=\"T_dc81405a_fef1_11ec_9170_d2c5d33f3c6brow8_col9\" class=\"data row8 col9\" >0.520895</td>\n",
       "                        <td id=\"T_dc81405a_fef1_11ec_9170_d2c5d33f3c6brow8_col10\" class=\"data row8 col10\" >0.071381</td>\n",
       "            </tr>\n",
       "            <tr>\n",
       "                        <th id=\"T_dc81405a_fef1_11ec_9170_d2c5d33f3c6blevel0_row9\" class=\"row_heading level0 row9\" >previous</th>\n",
       "                        <td id=\"T_dc81405a_fef1_11ec_9170_d2c5d33f3c6brow9_col0\" class=\"data row9 col0\" >-0.002396</td>\n",
       "                        <td id=\"T_dc81405a_fef1_11ec_9170_d2c5d33f3c6brow9_col1\" class=\"data row9 col1\" >-0.021915</td>\n",
       "                        <td id=\"T_dc81405a_fef1_11ec_9170_d2c5d33f3c6brow9_col2\" class=\"data row9 col2\" >0.016416</td>\n",
       "                        <td id=\"T_dc81405a_fef1_11ec_9170_d2c5d33f3c6brow9_col3\" class=\"data row9 col3\" >0.097612</td>\n",
       "                        <td id=\"T_dc81405a_fef1_11ec_9170_d2c5d33f3c6brow9_col4\" class=\"data row9 col4\" >-0.017559</td>\n",
       "                        <td id=\"T_dc81405a_fef1_11ec_9170_d2c5d33f3c6brow9_col5\" class=\"data row9 col5\" >-0.077114</td>\n",
       "                        <td id=\"T_dc81405a_fef1_11ec_9170_d2c5d33f3c6brow9_col6\" class=\"data row9 col6\" >-0.000913</td>\n",
       "                        <td id=\"T_dc81405a_fef1_11ec_9170_d2c5d33f3c6brow9_col7\" class=\"data row9 col7\" >-0.045538</td>\n",
       "                        <td id=\"T_dc81405a_fef1_11ec_9170_d2c5d33f3c6brow9_col8\" class=\"data row9 col8\" >0.520895</td>\n",
       "                        <td id=\"T_dc81405a_fef1_11ec_9170_d2c5d33f3c6brow9_col9\" class=\"data row9 col9\" >1.000000</td>\n",
       "                        <td id=\"T_dc81405a_fef1_11ec_9170_d2c5d33f3c6brow9_col10\" class=\"data row9 col10\" >0.094019</td>\n",
       "            </tr>\n",
       "            <tr>\n",
       "                        <th id=\"T_dc81405a_fef1_11ec_9170_d2c5d33f3c6blevel0_row10\" class=\"row_heading level0 row10\" >target</th>\n",
       "                        <td id=\"T_dc81405a_fef1_11ec_9170_d2c5d33f3c6brow10_col0\" class=\"data row10 col0\" >0.031161</td>\n",
       "                        <td id=\"T_dc81405a_fef1_11ec_9170_d2c5d33f3c6brow10_col1\" class=\"data row10 col1\" >-0.029111</td>\n",
       "                        <td id=\"T_dc81405a_fef1_11ec_9170_d2c5d33f3c6brow10_col2\" class=\"data row10 col2\" >0.054905</td>\n",
       "                        <td id=\"T_dc81405a_fef1_11ec_9170_d2c5d33f3c6brow10_col3\" class=\"data row10 col3\" >-0.133455</td>\n",
       "                        <td id=\"T_dc81405a_fef1_11ec_9170_d2c5d33f3c6brow10_col4\" class=\"data row10 col4\" >-0.084206</td>\n",
       "                        <td id=\"T_dc81405a_fef1_11ec_9170_d2c5d33f3c6brow10_col5\" class=\"data row10 col5\" >-0.046304</td>\n",
       "                        <td id=\"T_dc81405a_fef1_11ec_9170_d2c5d33f3c6brow10_col6\" class=\"data row10 col6\" >0.397735</td>\n",
       "                        <td id=\"T_dc81405a_fef1_11ec_9170_d2c5d33f3c6brow10_col7\" class=\"data row10 col7\" >-0.090407</td>\n",
       "                        <td id=\"T_dc81405a_fef1_11ec_9170_d2c5d33f3c6brow10_col8\" class=\"data row10 col8\" >0.071381</td>\n",
       "                        <td id=\"T_dc81405a_fef1_11ec_9170_d2c5d33f3c6brow10_col9\" class=\"data row10 col9\" >0.094019</td>\n",
       "                        <td id=\"T_dc81405a_fef1_11ec_9170_d2c5d33f3c6brow10_col10\" class=\"data row10 col10\" >1.000000</td>\n",
       "            </tr>\n",
       "    </tbody></table>"
      ],
      "text/plain": [
       "<pandas.io.formats.style.Styler at 0x1e4c04e9b50>"
      ]
     },
     "execution_count": 23,
     "metadata": {},
     "output_type": "execute_result"
    }
   ],
   "source": [
    "# Building correlation matrix\n",
    "corr = df.corr()\n",
    "corr.style.background_gradient(cmap='PuBu')"
   ]
  },
  {
   "cell_type": "markdown",
   "metadata": {},
   "source": [
    "The most correlated feature to the target is last contact <mark>duration</mark> of the customers. Next comes the number of days that passed by after the client was last contacted from a previous campaign  and  number of contacts performed before this campaign  showing a correlatio to the target value. Thus this two are  highly multicollinear among each other. Having a housing loan also correlated to the number of days that passed by after the client was last contacted from a previous campaign."
   ]
  },
  {
   "cell_type": "markdown",
   "metadata": {},
   "source": [
    " #### 3.4 Data Encoding"
   ]
  },
  {
   "cell_type": "markdown",
   "metadata": {},
   "source": [
    "Machine learning models require all input and output variables to be numeric. This means that our DataFrame contains categorical data, so we  must encode it to numbers before we can fit and evaluate a model. Thus we  will apply <mark>get_dummies</mark> function to convert categorical variables into dummy/indicator variables."
   ]
  },
  {
   "cell_type": "code",
   "execution_count": 24,
   "metadata": {},
   "outputs": [
    {
     "data": {
      "text/plain": [
       "job               object\n",
       "marital           object\n",
       "education         object\n",
       "contact           object\n",
       "month             object\n",
       "prev_camp_outc    object\n",
       "dtype: object"
      ]
     },
     "execution_count": 24,
     "metadata": {},
     "output_type": "execute_result"
    }
   ],
   "source": [
    "# Checking for the columns with 'object' data types\n",
    "df.dtypes[df.dtypes == 'object']"
   ]
  },
  {
   "cell_type": "code",
   "execution_count": 25,
   "metadata": {},
   "outputs": [
    {
     "data": {
      "text/plain": [
       "unknown    23064\n",
       "failure     4679\n",
       "other       1749\n",
       "success     1413\n",
       "Name: prev_camp_outc, dtype: int64"
      ]
     },
     "execution_count": 25,
     "metadata": {},
     "output_type": "execute_result"
    }
   ],
   "source": [
    "# Checking for the unique values\n",
    "df.prev_camp_outc.value_counts()"
   ]
  },
  {
   "cell_type": "code",
   "execution_count": 26,
   "metadata": {},
   "outputs": [],
   "source": [
    "# Changing values\n",
    "df = df.replace({'prev_camp_outc': {'other':'unknown'}})"
   ]
  },
  {
   "cell_type": "code",
   "execution_count": 27,
   "metadata": {},
   "outputs": [],
   "source": [
    "# Selecting categorical columns\n",
    "cat_col = df[['job','marital','education','contact','month','prev_camp_outc']]"
   ]
  },
  {
   "cell_type": "code",
   "execution_count": 28,
   "metadata": {},
   "outputs": [
    {
     "data": {
      "text/html": [
       "<div>\n",
       "<style scoped>\n",
       "    .dataframe tbody tr th:only-of-type {\n",
       "        vertical-align: middle;\n",
       "    }\n",
       "\n",
       "    .dataframe tbody tr th {\n",
       "        vertical-align: top;\n",
       "    }\n",
       "\n",
       "    .dataframe thead th {\n",
       "        text-align: right;\n",
       "    }\n",
       "</style>\n",
       "<table border=\"1\" class=\"dataframe\">\n",
       "  <thead>\n",
       "    <tr style=\"text-align: right;\">\n",
       "      <th></th>\n",
       "      <th>job</th>\n",
       "      <th>marital</th>\n",
       "      <th>education</th>\n",
       "      <th>contact</th>\n",
       "      <th>month</th>\n",
       "      <th>prev_camp_outc</th>\n",
       "    </tr>\n",
       "  </thead>\n",
       "  <tbody>\n",
       "    <tr>\n",
       "      <th>12657</th>\n",
       "      <td>management</td>\n",
       "      <td>single</td>\n",
       "      <td>secondary</td>\n",
       "      <td>cellular</td>\n",
       "      <td>jul</td>\n",
       "      <td>unknown</td>\n",
       "    </tr>\n",
       "    <tr>\n",
       "      <th>12658</th>\n",
       "      <td>blue-collar</td>\n",
       "      <td>married</td>\n",
       "      <td>primary</td>\n",
       "      <td>cellular</td>\n",
       "      <td>jul</td>\n",
       "      <td>unknown</td>\n",
       "    </tr>\n",
       "    <tr>\n",
       "      <th>12659</th>\n",
       "      <td>blue-collar</td>\n",
       "      <td>married</td>\n",
       "      <td>secondary</td>\n",
       "      <td>cellular</td>\n",
       "      <td>jul</td>\n",
       "      <td>unknown</td>\n",
       "    </tr>\n",
       "    <tr>\n",
       "      <th>12660</th>\n",
       "      <td>technician</td>\n",
       "      <td>single</td>\n",
       "      <td>secondary</td>\n",
       "      <td>telephone</td>\n",
       "      <td>jul</td>\n",
       "      <td>unknown</td>\n",
       "    </tr>\n",
       "    <tr>\n",
       "      <th>12661</th>\n",
       "      <td>technician</td>\n",
       "      <td>single</td>\n",
       "      <td>secondary</td>\n",
       "      <td>cellular</td>\n",
       "      <td>jul</td>\n",
       "      <td>unknown</td>\n",
       "    </tr>\n",
       "  </tbody>\n",
       "</table>\n",
       "</div>"
      ],
      "text/plain": [
       "               job  marital  education    contact month prev_camp_outc\n",
       "12657   management   single  secondary   cellular   jul        unknown\n",
       "12658  blue-collar  married    primary   cellular   jul        unknown\n",
       "12659  blue-collar  married  secondary   cellular   jul        unknown\n",
       "12660   technician   single  secondary  telephone   jul        unknown\n",
       "12661   technician   single  secondary   cellular   jul        unknown"
      ]
     },
     "execution_count": 28,
     "metadata": {},
     "output_type": "execute_result"
    }
   ],
   "source": [
    "# Getting the first 5 rows\n",
    "cat_col.head()"
   ]
  },
  {
   "cell_type": "code",
   "execution_count": 29,
   "metadata": {},
   "outputs": [],
   "source": [
    "# Converting categorical data into dummy variables\n",
    "df_dummies = pd.get_dummies( cat_col, drop_first=True)"
   ]
  },
  {
   "cell_type": "code",
   "execution_count": 30,
   "metadata": {},
   "outputs": [
    {
     "data": {
      "text/html": [
       "<div>\n",
       "<style scoped>\n",
       "    .dataframe tbody tr th:only-of-type {\n",
       "        vertical-align: middle;\n",
       "    }\n",
       "\n",
       "    .dataframe tbody tr th {\n",
       "        vertical-align: top;\n",
       "    }\n",
       "\n",
       "    .dataframe thead th {\n",
       "        text-align: right;\n",
       "    }\n",
       "</style>\n",
       "<table border=\"1\" class=\"dataframe\">\n",
       "  <thead>\n",
       "    <tr style=\"text-align: right;\">\n",
       "      <th></th>\n",
       "      <th>job_blue-collar</th>\n",
       "      <th>job_entrepreneur</th>\n",
       "      <th>job_housemaid</th>\n",
       "      <th>job_management</th>\n",
       "      <th>job_retired</th>\n",
       "      <th>job_self-employed</th>\n",
       "      <th>job_services</th>\n",
       "      <th>job_student</th>\n",
       "      <th>job_technician</th>\n",
       "      <th>job_unemployed</th>\n",
       "      <th>...</th>\n",
       "      <th>month_jan</th>\n",
       "      <th>month_jul</th>\n",
       "      <th>month_jun</th>\n",
       "      <th>month_mar</th>\n",
       "      <th>month_may</th>\n",
       "      <th>month_nov</th>\n",
       "      <th>month_oct</th>\n",
       "      <th>month_sep</th>\n",
       "      <th>prev_camp_outc_success</th>\n",
       "      <th>prev_camp_outc_unknown</th>\n",
       "    </tr>\n",
       "  </thead>\n",
       "  <tbody>\n",
       "    <tr>\n",
       "      <th>12657</th>\n",
       "      <td>0</td>\n",
       "      <td>0</td>\n",
       "      <td>0</td>\n",
       "      <td>1</td>\n",
       "      <td>0</td>\n",
       "      <td>0</td>\n",
       "      <td>0</td>\n",
       "      <td>0</td>\n",
       "      <td>0</td>\n",
       "      <td>0</td>\n",
       "      <td>...</td>\n",
       "      <td>0</td>\n",
       "      <td>1</td>\n",
       "      <td>0</td>\n",
       "      <td>0</td>\n",
       "      <td>0</td>\n",
       "      <td>0</td>\n",
       "      <td>0</td>\n",
       "      <td>0</td>\n",
       "      <td>0</td>\n",
       "      <td>1</td>\n",
       "    </tr>\n",
       "    <tr>\n",
       "      <th>12658</th>\n",
       "      <td>1</td>\n",
       "      <td>0</td>\n",
       "      <td>0</td>\n",
       "      <td>0</td>\n",
       "      <td>0</td>\n",
       "      <td>0</td>\n",
       "      <td>0</td>\n",
       "      <td>0</td>\n",
       "      <td>0</td>\n",
       "      <td>0</td>\n",
       "      <td>...</td>\n",
       "      <td>0</td>\n",
       "      <td>1</td>\n",
       "      <td>0</td>\n",
       "      <td>0</td>\n",
       "      <td>0</td>\n",
       "      <td>0</td>\n",
       "      <td>0</td>\n",
       "      <td>0</td>\n",
       "      <td>0</td>\n",
       "      <td>1</td>\n",
       "    </tr>\n",
       "    <tr>\n",
       "      <th>12659</th>\n",
       "      <td>1</td>\n",
       "      <td>0</td>\n",
       "      <td>0</td>\n",
       "      <td>0</td>\n",
       "      <td>0</td>\n",
       "      <td>0</td>\n",
       "      <td>0</td>\n",
       "      <td>0</td>\n",
       "      <td>0</td>\n",
       "      <td>0</td>\n",
       "      <td>...</td>\n",
       "      <td>0</td>\n",
       "      <td>1</td>\n",
       "      <td>0</td>\n",
       "      <td>0</td>\n",
       "      <td>0</td>\n",
       "      <td>0</td>\n",
       "      <td>0</td>\n",
       "      <td>0</td>\n",
       "      <td>0</td>\n",
       "      <td>1</td>\n",
       "    </tr>\n",
       "    <tr>\n",
       "      <th>12660</th>\n",
       "      <td>0</td>\n",
       "      <td>0</td>\n",
       "      <td>0</td>\n",
       "      <td>0</td>\n",
       "      <td>0</td>\n",
       "      <td>0</td>\n",
       "      <td>0</td>\n",
       "      <td>0</td>\n",
       "      <td>1</td>\n",
       "      <td>0</td>\n",
       "      <td>...</td>\n",
       "      <td>0</td>\n",
       "      <td>1</td>\n",
       "      <td>0</td>\n",
       "      <td>0</td>\n",
       "      <td>0</td>\n",
       "      <td>0</td>\n",
       "      <td>0</td>\n",
       "      <td>0</td>\n",
       "      <td>0</td>\n",
       "      <td>1</td>\n",
       "    </tr>\n",
       "    <tr>\n",
       "      <th>12661</th>\n",
       "      <td>0</td>\n",
       "      <td>0</td>\n",
       "      <td>0</td>\n",
       "      <td>0</td>\n",
       "      <td>0</td>\n",
       "      <td>0</td>\n",
       "      <td>0</td>\n",
       "      <td>0</td>\n",
       "      <td>1</td>\n",
       "      <td>0</td>\n",
       "      <td>...</td>\n",
       "      <td>0</td>\n",
       "      <td>1</td>\n",
       "      <td>0</td>\n",
       "      <td>0</td>\n",
       "      <td>0</td>\n",
       "      <td>0</td>\n",
       "      <td>0</td>\n",
       "      <td>0</td>\n",
       "      <td>0</td>\n",
       "      <td>1</td>\n",
       "    </tr>\n",
       "  </tbody>\n",
       "</table>\n",
       "<p>5 rows × 28 columns</p>\n",
       "</div>"
      ],
      "text/plain": [
       "       job_blue-collar  job_entrepreneur  job_housemaid  job_management  \\\n",
       "12657                0                 0              0               1   \n",
       "12658                1                 0              0               0   \n",
       "12659                1                 0              0               0   \n",
       "12660                0                 0              0               0   \n",
       "12661                0                 0              0               0   \n",
       "\n",
       "       job_retired  job_self-employed  job_services  job_student  \\\n",
       "12657            0                  0             0            0   \n",
       "12658            0                  0             0            0   \n",
       "12659            0                  0             0            0   \n",
       "12660            0                  0             0            0   \n",
       "12661            0                  0             0            0   \n",
       "\n",
       "       job_technician  job_unemployed  ...  month_jan  month_jul  month_jun  \\\n",
       "12657               0               0  ...          0          1          0   \n",
       "12658               0               0  ...          0          1          0   \n",
       "12659               0               0  ...          0          1          0   \n",
       "12660               1               0  ...          0          1          0   \n",
       "12661               1               0  ...          0          1          0   \n",
       "\n",
       "       month_mar  month_may  month_nov  month_oct  month_sep  \\\n",
       "12657          0          0          0          0          0   \n",
       "12658          0          0          0          0          0   \n",
       "12659          0          0          0          0          0   \n",
       "12660          0          0          0          0          0   \n",
       "12661          0          0          0          0          0   \n",
       "\n",
       "       prev_camp_outc_success  prev_camp_outc_unknown  \n",
       "12657                       0                       1  \n",
       "12658                       0                       1  \n",
       "12659                       0                       1  \n",
       "12660                       0                       1  \n",
       "12661                       0                       1  \n",
       "\n",
       "[5 rows x 28 columns]"
      ]
     },
     "execution_count": 30,
     "metadata": {},
     "output_type": "execute_result"
    }
   ],
   "source": [
    "# Getting the first 5 rows of Dummy variables\n",
    "df_dummies.head()"
   ]
  },
  {
   "cell_type": "code",
   "execution_count": 31,
   "metadata": {},
   "outputs": [],
   "source": [
    "# Dropping columns from original DataFrame\n",
    "df.drop(cat_col, axis=1, inplace=True)"
   ]
  },
  {
   "cell_type": "code",
   "execution_count": 32,
   "metadata": {},
   "outputs": [
    {
     "data": {
      "text/html": [
       "<div>\n",
       "<style scoped>\n",
       "    .dataframe tbody tr th:only-of-type {\n",
       "        vertical-align: middle;\n",
       "    }\n",
       "\n",
       "    .dataframe tbody tr th {\n",
       "        vertical-align: top;\n",
       "    }\n",
       "\n",
       "    .dataframe thead th {\n",
       "        text-align: right;\n",
       "    }\n",
       "</style>\n",
       "<table border=\"1\" class=\"dataframe\">\n",
       "  <thead>\n",
       "    <tr style=\"text-align: right;\">\n",
       "      <th></th>\n",
       "      <th>age</th>\n",
       "      <th>has_credit</th>\n",
       "      <th>balance</th>\n",
       "      <th>has_housing_loan</th>\n",
       "      <th>has_personal_loan</th>\n",
       "      <th>day</th>\n",
       "      <th>duration</th>\n",
       "      <th>campaign</th>\n",
       "      <th>pdays</th>\n",
       "      <th>previous</th>\n",
       "      <th>target</th>\n",
       "    </tr>\n",
       "  </thead>\n",
       "  <tbody>\n",
       "    <tr>\n",
       "      <th>12657</th>\n",
       "      <td>27</td>\n",
       "      <td>0</td>\n",
       "      <td>35</td>\n",
       "      <td>0</td>\n",
       "      <td>0</td>\n",
       "      <td>4</td>\n",
       "      <td>255</td>\n",
       "      <td>1</td>\n",
       "      <td>0</td>\n",
       "      <td>0</td>\n",
       "      <td>0</td>\n",
       "    </tr>\n",
       "    <tr>\n",
       "      <th>12658</th>\n",
       "      <td>54</td>\n",
       "      <td>0</td>\n",
       "      <td>466</td>\n",
       "      <td>0</td>\n",
       "      <td>0</td>\n",
       "      <td>4</td>\n",
       "      <td>297</td>\n",
       "      <td>1</td>\n",
       "      <td>0</td>\n",
       "      <td>0</td>\n",
       "      <td>0</td>\n",
       "    </tr>\n",
       "    <tr>\n",
       "      <th>12659</th>\n",
       "      <td>43</td>\n",
       "      <td>0</td>\n",
       "      <td>105</td>\n",
       "      <td>0</td>\n",
       "      <td>1</td>\n",
       "      <td>4</td>\n",
       "      <td>668</td>\n",
       "      <td>2</td>\n",
       "      <td>0</td>\n",
       "      <td>0</td>\n",
       "      <td>0</td>\n",
       "    </tr>\n",
       "    <tr>\n",
       "      <th>12660</th>\n",
       "      <td>31</td>\n",
       "      <td>0</td>\n",
       "      <td>19</td>\n",
       "      <td>0</td>\n",
       "      <td>0</td>\n",
       "      <td>4</td>\n",
       "      <td>65</td>\n",
       "      <td>2</td>\n",
       "      <td>0</td>\n",
       "      <td>0</td>\n",
       "      <td>0</td>\n",
       "    </tr>\n",
       "    <tr>\n",
       "      <th>12661</th>\n",
       "      <td>27</td>\n",
       "      <td>0</td>\n",
       "      <td>126</td>\n",
       "      <td>1</td>\n",
       "      <td>1</td>\n",
       "      <td>4</td>\n",
       "      <td>436</td>\n",
       "      <td>4</td>\n",
       "      <td>0</td>\n",
       "      <td>0</td>\n",
       "      <td>0</td>\n",
       "    </tr>\n",
       "  </tbody>\n",
       "</table>\n",
       "</div>"
      ],
      "text/plain": [
       "       age  has_credit  balance  has_housing_loan  has_personal_loan  day  \\\n",
       "12657   27           0       35                 0                  0    4   \n",
       "12658   54           0      466                 0                  0    4   \n",
       "12659   43           0      105                 0                  1    4   \n",
       "12660   31           0       19                 0                  0    4   \n",
       "12661   27           0      126                 1                  1    4   \n",
       "\n",
       "       duration  campaign  pdays  previous  target  \n",
       "12657       255         1      0         0       0  \n",
       "12658       297         1      0         0       0  \n",
       "12659       668         2      0         0       0  \n",
       "12660        65         2      0         0       0  \n",
       "12661       436         4      0         0       0  "
      ]
     },
     "execution_count": 32,
     "metadata": {},
     "output_type": "execute_result"
    }
   ],
   "source": [
    "# Checking back the DataFrame\n",
    "df.head()"
   ]
  },
  {
   "cell_type": "code",
   "execution_count": 33,
   "metadata": {},
   "outputs": [],
   "source": [
    "# Merging encoded df to original DataFrame back\n",
    "df = pd.merge(\n",
    "    left=df,\n",
    "    right=df_dummies,\n",
    "    left_index=True,\n",
    "    right_index=True,\n",
    ")"
   ]
  },
  {
   "cell_type": "code",
   "execution_count": 34,
   "metadata": {},
   "outputs": [
    {
     "name": "stdout",
     "output_type": "stream",
     "text": [
      "<class 'pandas.core.frame.DataFrame'>\n",
      "Int64Index: 30905 entries, 12657 to 45210\n",
      "Data columns (total 39 columns):\n",
      " #   Column                  Non-Null Count  Dtype\n",
      "---  ------                  --------------  -----\n",
      " 0   age                     30905 non-null  int64\n",
      " 1   has_credit              30905 non-null  int64\n",
      " 2   balance                 30905 non-null  int64\n",
      " 3   has_housing_loan        30905 non-null  int64\n",
      " 4   has_personal_loan       30905 non-null  int64\n",
      " 5   day                     30905 non-null  int64\n",
      " 6   duration                30905 non-null  int64\n",
      " 7   campaign                30905 non-null  int64\n",
      " 8   pdays                   30905 non-null  int64\n",
      " 9   previous                30905 non-null  int64\n",
      " 10  target                  30905 non-null  int64\n",
      " 11  job_blue-collar         30905 non-null  uint8\n",
      " 12  job_entrepreneur        30905 non-null  uint8\n",
      " 13  job_housemaid           30905 non-null  uint8\n",
      " 14  job_management          30905 non-null  uint8\n",
      " 15  job_retired             30905 non-null  uint8\n",
      " 16  job_self-employed       30905 non-null  uint8\n",
      " 17  job_services            30905 non-null  uint8\n",
      " 18  job_student             30905 non-null  uint8\n",
      " 19  job_technician          30905 non-null  uint8\n",
      " 20  job_unemployed          30905 non-null  uint8\n",
      " 21  marital_married         30905 non-null  uint8\n",
      " 22  marital_single          30905 non-null  uint8\n",
      " 23  education_secondary     30905 non-null  uint8\n",
      " 24  education_tertiary      30905 non-null  uint8\n",
      " 25  contact_telephone       30905 non-null  uint8\n",
      " 26  month_aug               30905 non-null  uint8\n",
      " 27  month_dec               30905 non-null  uint8\n",
      " 28  month_feb               30905 non-null  uint8\n",
      " 29  month_jan               30905 non-null  uint8\n",
      " 30  month_jul               30905 non-null  uint8\n",
      " 31  month_jun               30905 non-null  uint8\n",
      " 32  month_mar               30905 non-null  uint8\n",
      " 33  month_may               30905 non-null  uint8\n",
      " 34  month_nov               30905 non-null  uint8\n",
      " 35  month_oct               30905 non-null  uint8\n",
      " 36  month_sep               30905 non-null  uint8\n",
      " 37  prev_camp_outc_success  30905 non-null  uint8\n",
      " 38  prev_camp_outc_unknown  30905 non-null  uint8\n",
      "dtypes: int64(11), uint8(28)\n",
      "memory usage: 4.9 MB\n"
     ]
    }
   ],
   "source": [
    "# Getting a concise summary of the DataFrame\n",
    "df.info()"
   ]
  },
  {
   "cell_type": "code",
   "execution_count": 35,
   "metadata": {},
   "outputs": [
    {
     "data": {
      "text/html": [
       "<div>\n",
       "<style scoped>\n",
       "    .dataframe tbody tr th:only-of-type {\n",
       "        vertical-align: middle;\n",
       "    }\n",
       "\n",
       "    .dataframe tbody tr th {\n",
       "        vertical-align: top;\n",
       "    }\n",
       "\n",
       "    .dataframe thead th {\n",
       "        text-align: right;\n",
       "    }\n",
       "</style>\n",
       "<table border=\"1\" class=\"dataframe\">\n",
       "  <thead>\n",
       "    <tr style=\"text-align: right;\">\n",
       "      <th></th>\n",
       "      <th>age</th>\n",
       "      <th>has_credit</th>\n",
       "      <th>balance</th>\n",
       "      <th>has_housing_loan</th>\n",
       "      <th>has_personal_loan</th>\n",
       "      <th>day</th>\n",
       "      <th>duration</th>\n",
       "      <th>campaign</th>\n",
       "      <th>pdays</th>\n",
       "      <th>previous</th>\n",
       "      <th>...</th>\n",
       "      <th>month_jan</th>\n",
       "      <th>month_jul</th>\n",
       "      <th>month_jun</th>\n",
       "      <th>month_mar</th>\n",
       "      <th>month_may</th>\n",
       "      <th>month_nov</th>\n",
       "      <th>month_oct</th>\n",
       "      <th>month_sep</th>\n",
       "      <th>prev_camp_outc_success</th>\n",
       "      <th>prev_camp_outc_unknown</th>\n",
       "    </tr>\n",
       "  </thead>\n",
       "  <tbody>\n",
       "    <tr>\n",
       "      <th>12657</th>\n",
       "      <td>27</td>\n",
       "      <td>0</td>\n",
       "      <td>35</td>\n",
       "      <td>0</td>\n",
       "      <td>0</td>\n",
       "      <td>4</td>\n",
       "      <td>255</td>\n",
       "      <td>1</td>\n",
       "      <td>0</td>\n",
       "      <td>0</td>\n",
       "      <td>...</td>\n",
       "      <td>0</td>\n",
       "      <td>1</td>\n",
       "      <td>0</td>\n",
       "      <td>0</td>\n",
       "      <td>0</td>\n",
       "      <td>0</td>\n",
       "      <td>0</td>\n",
       "      <td>0</td>\n",
       "      <td>0</td>\n",
       "      <td>1</td>\n",
       "    </tr>\n",
       "    <tr>\n",
       "      <th>12658</th>\n",
       "      <td>54</td>\n",
       "      <td>0</td>\n",
       "      <td>466</td>\n",
       "      <td>0</td>\n",
       "      <td>0</td>\n",
       "      <td>4</td>\n",
       "      <td>297</td>\n",
       "      <td>1</td>\n",
       "      <td>0</td>\n",
       "      <td>0</td>\n",
       "      <td>...</td>\n",
       "      <td>0</td>\n",
       "      <td>1</td>\n",
       "      <td>0</td>\n",
       "      <td>0</td>\n",
       "      <td>0</td>\n",
       "      <td>0</td>\n",
       "      <td>0</td>\n",
       "      <td>0</td>\n",
       "      <td>0</td>\n",
       "      <td>1</td>\n",
       "    </tr>\n",
       "    <tr>\n",
       "      <th>12659</th>\n",
       "      <td>43</td>\n",
       "      <td>0</td>\n",
       "      <td>105</td>\n",
       "      <td>0</td>\n",
       "      <td>1</td>\n",
       "      <td>4</td>\n",
       "      <td>668</td>\n",
       "      <td>2</td>\n",
       "      <td>0</td>\n",
       "      <td>0</td>\n",
       "      <td>...</td>\n",
       "      <td>0</td>\n",
       "      <td>1</td>\n",
       "      <td>0</td>\n",
       "      <td>0</td>\n",
       "      <td>0</td>\n",
       "      <td>0</td>\n",
       "      <td>0</td>\n",
       "      <td>0</td>\n",
       "      <td>0</td>\n",
       "      <td>1</td>\n",
       "    </tr>\n",
       "    <tr>\n",
       "      <th>12660</th>\n",
       "      <td>31</td>\n",
       "      <td>0</td>\n",
       "      <td>19</td>\n",
       "      <td>0</td>\n",
       "      <td>0</td>\n",
       "      <td>4</td>\n",
       "      <td>65</td>\n",
       "      <td>2</td>\n",
       "      <td>0</td>\n",
       "      <td>0</td>\n",
       "      <td>...</td>\n",
       "      <td>0</td>\n",
       "      <td>1</td>\n",
       "      <td>0</td>\n",
       "      <td>0</td>\n",
       "      <td>0</td>\n",
       "      <td>0</td>\n",
       "      <td>0</td>\n",
       "      <td>0</td>\n",
       "      <td>0</td>\n",
       "      <td>1</td>\n",
       "    </tr>\n",
       "    <tr>\n",
       "      <th>12661</th>\n",
       "      <td>27</td>\n",
       "      <td>0</td>\n",
       "      <td>126</td>\n",
       "      <td>1</td>\n",
       "      <td>1</td>\n",
       "      <td>4</td>\n",
       "      <td>436</td>\n",
       "      <td>4</td>\n",
       "      <td>0</td>\n",
       "      <td>0</td>\n",
       "      <td>...</td>\n",
       "      <td>0</td>\n",
       "      <td>1</td>\n",
       "      <td>0</td>\n",
       "      <td>0</td>\n",
       "      <td>0</td>\n",
       "      <td>0</td>\n",
       "      <td>0</td>\n",
       "      <td>0</td>\n",
       "      <td>0</td>\n",
       "      <td>1</td>\n",
       "    </tr>\n",
       "  </tbody>\n",
       "</table>\n",
       "<p>5 rows × 39 columns</p>\n",
       "</div>"
      ],
      "text/plain": [
       "       age  has_credit  balance  has_housing_loan  has_personal_loan  day  \\\n",
       "12657   27           0       35                 0                  0    4   \n",
       "12658   54           0      466                 0                  0    4   \n",
       "12659   43           0      105                 0                  1    4   \n",
       "12660   31           0       19                 0                  0    4   \n",
       "12661   27           0      126                 1                  1    4   \n",
       "\n",
       "       duration  campaign  pdays  previous  ...  month_jan  month_jul  \\\n",
       "12657       255         1      0         0  ...          0          1   \n",
       "12658       297         1      0         0  ...          0          1   \n",
       "12659       668         2      0         0  ...          0          1   \n",
       "12660        65         2      0         0  ...          0          1   \n",
       "12661       436         4      0         0  ...          0          1   \n",
       "\n",
       "       month_jun  month_mar  month_may  month_nov  month_oct  month_sep  \\\n",
       "12657          0          0          0          0          0          0   \n",
       "12658          0          0          0          0          0          0   \n",
       "12659          0          0          0          0          0          0   \n",
       "12660          0          0          0          0          0          0   \n",
       "12661          0          0          0          0          0          0   \n",
       "\n",
       "       prev_camp_outc_success  prev_camp_outc_unknown  \n",
       "12657                       0                       1  \n",
       "12658                       0                       1  \n",
       "12659                       0                       1  \n",
       "12660                       0                       1  \n",
       "12661                       0                       1  \n",
       "\n",
       "[5 rows x 39 columns]"
      ]
     },
     "execution_count": 35,
     "metadata": {},
     "output_type": "execute_result"
    }
   ],
   "source": [
    "# Getting the first 5 rows\n",
    "df.head()"
   ]
  },
  {
   "cell_type": "markdown",
   "metadata": {},
   "source": [
    "#### 3.5 Feature Engineering"
   ]
  },
  {
   "cell_type": "code",
   "execution_count": 36,
   "metadata": {},
   "outputs": [
    {
     "data": {
      "text/plain": [
       "<AxesSubplot:xlabel='age', ylabel='Density'>"
      ]
     },
     "execution_count": 36,
     "metadata": {},
     "output_type": "execute_result"
    },
    {
     "data": {
      "image/png": "[encoded data removed]",
      "text/plain": [
       "<Figure size 432x288 with 1 Axes>"
      ]
     },
     "metadata": {},
     "output_type": "display_data"
    }
   ],
   "source": [
    "# Plotting distribution of age column\n",
    "sns.distplot(df.age)"
   ]
  },
  {
   "cell_type": "code",
   "execution_count": 37,
   "metadata": {},
   "outputs": [],
   "source": [
    "# Getting the age groups \n",
    "#'''\n",
    "# Young people:       18<age≤30 \n",
    "#Middle-aged people: 30<age≤60 \n",
    "#Old people:         60<age≤100\n",
    "#'''\n",
    "#df['age'] = pd.cut(x=df['age'], bins=[18,30,60,100], labels=[1,2,3])\n"
   ]
  },
  {
   "cell_type": "code",
   "execution_count": 38,
   "metadata": {},
   "outputs": [],
   "source": [
    "# Counting unique categorical values\n",
    "#df.age.value_counts()"
   ]
  },
  {
   "cell_type": "markdown",
   "metadata": {},
   "source": [
    "### 4.  Model Building"
   ]
  },
  {
   "cell_type": "markdown",
   "metadata": {},
   "source": [
    "##### Performing Train-Test Split"
   ]
  },
  {
   "cell_type": "markdown",
   "metadata": {},
   "source": [
    "We will further split the data into train test sets whcih  allows us to simulate how a model would perform on new/unseen data. The training and validation data set is split into an *80:20* ratio. "
   ]
  },
  {
   "cell_type": "code",
   "execution_count": 39,
   "metadata": {},
   "outputs": [
    {
     "name": "stdout",
     "output_type": "stream",
     "text": [
      "(24724, 38) (24724,)\n",
      "(6181, 38) (6181,)\n"
     ]
    }
   ],
   "source": [
    "# Target&Feature setting\n",
    "y = df['target']\n",
    "X = df.drop(columns='target')\n",
    "X_train, X_test, y_train, y_test = train_test_split(X, y, test_size=0.2, random_state=27, stratify=y)\n",
    "print (X_train.shape,y_train.shape)\n",
    "print (X_test.shape,y_test.shape)"
   ]
  },
  {
   "cell_type": "markdown",
   "metadata": {},
   "source": [
    "##### Model-1. Baseline Model (Dummy Classifier ) / Pipeline"
   ]
  },
  {
   "cell_type": "markdown",
   "metadata": {},
   "source": [
    "We normalize after splitting our data into training and test sets. This is to avoid information \"leaking\" from our test set into our training set . Normalization (also sometimes called Standardization or Scaling) means making sure that all of the data are represented at the same scale. The most common way to do this is to convert all numerical values to z-scores."
   ]
  },
  {
   "cell_type": "markdown",
   "metadata": {},
   "source": [
    "To be able to truly understand and then improve our model’s performance,  first we need to establish a baseline  called a *Dummy Classifier* for the data that we have. A dummy classifier is exactly what it sounds like! It is a classifier model that makes predictions without trying to find patterns in the data. \n",
    "\n",
    "**Insights of a Confusion Matrix:**<p>\n",
    "The main purpose of a confusion matrix is to see how our model is performing when it comes to classifying potential clients that are likely to suscribe to a term deposit.\n",
    "- Positive/Negative: Type of Class (label) [\"No\", \"Yes\"] True/False: Correctly or Incorrectly classified by the model.\n",
    "\n",
    "True Positives (Bottom-Right Square): This is the percentage of **correctly** classifications of the \"Yes\" class or potenial clients that are willing to subscribe term deposit.\n",
    "    \n",
    "False Positive (Bottom-Left Square), means the client do NOT SUBSCRIBED to term deposit, but the model thinks he did. It is not good because we think that we already have that client but we dont and maybe we lost him in other future campaings.\n",
    "\n",
    "True Negatives (Top-Left Square): This is the percentage of **correctly** classifications of the \"No\" class or potenial clients that are not willing to suscribe a term deposit\n",
    "    \n",
    "False Negative (Top-Right Square), means the client SUBSCRIBED to term deposit, but the model said he dont. In this case its ok, we have that client and in the future we'll discovery that in truth he's already our client.\n",
    "\n",
    "So, our objective here, is to find the best model by confusion matrix with the lowest False Positive(FP)  and highest True Positive(TP) as possible. In addition we primarily care about correctly identifying subscribed  clients to a  term deposit, so the recall score becomes more important. "
   ]
  },
  {
   "cell_type": "code",
   "execution_count": 40,
   "metadata": {},
   "outputs": [
    {
     "name": "stdout",
     "output_type": "stream",
     "text": [
      "Training Score: 0.7525076848406407\n",
      "Testing Score 0.7503640187671897\n"
     ]
    }
   ],
   "source": [
    "# Instantiating the Dummy Classifier and creating pipeline\n",
    "scaler = StandardScaler()\n",
    "dummy_clf = DummyClassifier(random_state=2, strategy='stratified')\n",
    "\n",
    "dummy_pipe = Pipeline(steps=[('ss',scaler), \n",
    "                            ('model',dummy_clf)])\n",
    "# fitting the  Baseline model\n",
    "dummy_pipe.fit(X_train, y_train)\n",
    "                             \n",
    "print(f'Training Score:', dummy_pipe.score(X_train, y_train))\n",
    "print(f'Testing Score', dummy_pipe.score(X_test, y_test))"
   ]
  },
  {
   "cell_type": "code",
   "execution_count": 41,
   "metadata": {},
   "outputs": [],
   "source": [
    "# Defining function for Model Evaluation\n",
    "def model_evaluation(model_pipe, X_test, y_test, name):\n",
    "    \n",
    "    y_pred = model_pipe.predict(X_test)\n",
    "# define evaluation procedure\n",
    "    rec_score = recall_score(y_test, y_pred)*100\n",
    "    \n",
    "# Classification report \n",
    "    print(f'Testing Recall Score of {name} : {round(rec_score,2)}%')\n",
    "    print('------------------------------------')\n",
    "    print(classification_report(y_test, y_pred))\n",
    "# Confusion matrix\n",
    "    print (f'Confusion Matrix for {name}')\n",
    "    plot_confusion_matrix(model_pipe, \n",
    "    X_test, \n",
    "    y_test, \n",
    "    normalize='true',\n",
    "    cmap='Blues_r',\n",
    "    display_labels= ['Not Subscribed', 'Subscribed'],\n",
    "    values_format='.0%')\n",
    "    title= 'Confusion Matrix'\n",
    "    plt.grid(False) #removes grid lines from plot\n",
    "    \n",
    "    \n",
    "# Plotting precision and recall curve\n",
    "    y_score = model_pipe.predict_proba(X_test)[:, 1]\n",
    "    precision, recall, thresholds = precision_recall_curve(y_test, y_score)\n",
    "    fig, ax = plt.subplots()\n",
    "    no_skill = len(y_test[y_test==1]) / len(y_test)\n",
    "    ax.plot([0, 1], [no_skill, no_skill], linestyle='--', label='No Skill')\n",
    "    ax.plot(recall, precision, marker='.', label=name)\n",
    "    #add axis labels to plot\n",
    "    ax.set_title(f'{name} Precision-Recall Curve')\n",
    "    ax.set_ylabel('Precision')\n",
    "    ax.set_xlabel('Recall')\n",
    "    ax.legend()\n",
    "    #display plot\n",
    "    plt.show()\n",
    "    print (\"Area Under PR Curve(AP): %0.2f\" % average_precision_score(y_test, y_score))\n",
    "    print('------------------------------------')"
   ]
  },
  {
   "cell_type": "code",
   "execution_count": 42,
   "metadata": {},
   "outputs": [
    {
     "name": "stdout",
     "output_type": "stream",
     "text": [
      "Testing Recall Score of Dummy Classifier : 13.95%\n",
      "------------------------------------\n",
      "              precision    recall  f1-score   support\n",
      "\n",
      "           0       0.85      0.85      0.85      5278\n",
      "           1       0.14      0.14      0.14       903\n",
      "\n",
      "    accuracy                           0.75      6181\n",
      "   macro avg       0.50      0.50      0.50      6181\n",
      "weighted avg       0.75      0.75      0.75      6181\n",
      "\n",
      "Confusion Matrix for Dummy Classifier\n"
     ]
    },
    {
     "data": {
      "image/png": "[encoded data removed]",
      "text/plain": [
       "<Figure size 432x288 with 2 Axes>"
      ]
     },
     "metadata": {},
     "output_type": "display_data"
    },
    {
     "data": {
      "image/png": "[encoded data removed]",
      "text/plain": [
       "<Figure size 432x288 with 1 Axes>"
      ]
     },
     "metadata": {},
     "output_type": "display_data"
    },
    {
     "name": "stdout",
     "output_type": "stream",
     "text": [
      "Area Under PR Curve(AP): 0.15\n",
      "------------------------------------\n"
     ]
    }
   ],
   "source": [
    "model_evaluation(dummy_pipe, X_test,y_test, 'Dummy Classifier')"
   ]
  },
  {
   "cell_type": "markdown",
   "metadata": {},
   "source": [
    " Lets display the proportion of our target classes"
   ]
  },
  {
   "cell_type": "markdown",
   "metadata": {},
   "source": [
    "The baseline model evaluated 86% of  False Negative (FN) values and 85% of  True Negative (TN). Model could be effected by class imbalance. With this in mind, we confirm  the imbalance problem related above. So, we will set class_weight parameter into *'balanced'* to solve this issue. This adjusts so total weights are equal accross classes; in other words, members of the majority (not-subscribed) class will be given less weight than members of the minority (subscribed) class. "
   ]
  },
  {
   "cell_type": "code",
   "execution_count": 43,
   "metadata": {},
   "outputs": [
    {
     "data": {
      "image/png": "[encoded data removed]",
      "text/plain": [
       "<Figure size 720x432 with 1 Axes>"
      ]
     },
     "metadata": {},
     "output_type": "display_data"
    }
   ],
   "source": [
    "# Plotting class distribution in terms of the %\n",
    "labels = [\"Not Subscribed\", \"Subscribed\"]\n",
    "plt.figure(figsize = (10,6))\n",
    "colors =['#003049','#FCBF49']\n",
    "y.value_counts().plot.pie(labels=labels,autopct='%1.2f%%', colors=colors );\n",
    "plt.legend()\n",
    "plt.show()"
   ]
  },
  {
   "cell_type": "markdown",
   "metadata": {},
   "source": [
    "#####  Model-2. Logistic Regression  /  balanced class_weight / Pipeline"
   ]
  },
  {
   "cell_type": "code",
   "execution_count": 44,
   "metadata": {},
   "outputs": [
    {
     "name": "stdout",
     "output_type": "stream",
     "text": [
      "Training Score: 0.7526694709593916\n",
      "Testing Score 0.7430836434233943\n"
     ]
    }
   ],
   "source": [
    "# Instantiating the Logistic Regression Model and creating pipeline\n",
    "scaler = StandardScaler()\n",
    "logreg_clf= LogisticRegression(fit_intercept=False, \n",
    "                           random_state=27,\n",
    "                           C=1e3,  \n",
    "                           solver='liblinear',\n",
    "                           class_weight='balanced', \n",
    "                           max_iter=1e3)\n",
    "\n",
    "logreg_pipe = Pipeline(steps=[('ss',scaler), \n",
    "                            ('logreg',logreg_clf),\n",
    "                              ])\n",
    "# fitting the logistic regression model\n",
    "logreg_pipe.fit(X_train, y_train)\n",
    "print(f'Training Score:',logreg_pipe.score(X_train, y_train))\n",
    "print(f'Testing Score',logreg_pipe.score(X_test, y_test))\n"
   ]
  },
  {
   "cell_type": "code",
   "execution_count": 45,
   "metadata": {},
   "outputs": [
    {
     "name": "stdout",
     "output_type": "stream",
     "text": [
      "Testing Recall Score of Logistic Regression : 90.7%\n",
      "------------------------------------\n",
      "              precision    recall  f1-score   support\n",
      "\n",
      "           0       0.98      0.72      0.83      5278\n",
      "           1       0.35      0.91      0.51       903\n",
      "\n",
      "    accuracy                           0.74      6181\n",
      "   macro avg       0.67      0.81      0.67      6181\n",
      "weighted avg       0.89      0.74      0.78      6181\n",
      "\n",
      "Confusion Matrix for Logistic Regression\n"
     ]
    },
    {
     "data": {
      "image/png": "[encoded data removed]",
      "text/plain": [
       "<Figure size 432x288 with 2 Axes>"
      ]
     },
     "metadata": {},
     "output_type": "display_data"
    },
    {
     "data": {
      "image/png": "[encoded data removed]",
      "text/plain": [
       "<Figure size 432x288 with 1 Axes>"
      ]
     },
     "metadata": {},
     "output_type": "display_data"
    },
    {
     "name": "stdout",
     "output_type": "stream",
     "text": [
      "Area Under PR Curve(AP): 0.57\n",
      "------------------------------------\n"
     ]
    }
   ],
   "source": [
    "# Logistic Regression Model evaluations \n",
    "model_evaluation(logreg_pipe, X_test, y_test, 'Logistic Regression')"
   ]
  },
  {
   "cell_type": "markdown",
   "metadata": {},
   "source": [
    "Logistic Regression with balanced class_weight parameter increased Recall up to 91%. We will try to rebuild LogReg Model by addressing imbalanced datasets through oversampling the minority target class. These examples don’t add any new information to the model. Instead, new examples can be synthesized from the existing examples. This is a type of data augmentation for the minority class and is referred to as the *Synthetic Minority Over-sampling Technique for Nominal and Continuous.*, or **SMOTENC** for short."
   ]
  },
  {
   "cell_type": "code",
   "execution_count": 46,
   "metadata": {},
   "outputs": [
    {
     "data": {
      "text/plain": [
       "array([ 1,  2,  4,  3,  6,  5, 19,  9,  8,  7, 14, 15, 11, 12, 30, 33, 13,\n",
       "       20, 10, 24, 26, 35, 17, 27, 16, 31, 28, 21, 18, 23, 22, 29, 25, 34,\n",
       "       36, 39, 43, 32, 38, 50, 44], dtype=int64)"
      ]
     },
     "execution_count": 46,
     "metadata": {},
     "output_type": "execute_result"
    }
   ],
   "source": [
    "df.campaign.unique()"
   ]
  },
  {
   "cell_type": "code",
   "execution_count": 47,
   "metadata": {},
   "outputs": [
    {
     "data": {
      "text/html": [
       "<div>\n",
       "<style scoped>\n",
       "    .dataframe tbody tr th:only-of-type {\n",
       "        vertical-align: middle;\n",
       "    }\n",
       "\n",
       "    .dataframe tbody tr th {\n",
       "        vertical-align: top;\n",
       "    }\n",
       "\n",
       "    .dataframe thead th {\n",
       "        text-align: right;\n",
       "    }\n",
       "</style>\n",
       "<table border=\"1\" class=\"dataframe\">\n",
       "  <thead>\n",
       "    <tr style=\"text-align: right;\">\n",
       "      <th></th>\n",
       "      <th>12657</th>\n",
       "      <th>12658</th>\n",
       "      <th>12659</th>\n",
       "      <th>12660</th>\n",
       "      <th>12661</th>\n",
       "      <th>12662</th>\n",
       "      <th>12663</th>\n",
       "      <th>12664</th>\n",
       "      <th>12665</th>\n",
       "      <th>12666</th>\n",
       "      <th>12667</th>\n",
       "      <th>12668</th>\n",
       "      <th>12669</th>\n",
       "      <th>12670</th>\n",
       "      <th>12671</th>\n",
       "    </tr>\n",
       "  </thead>\n",
       "  <tbody>\n",
       "    <tr>\n",
       "      <th>age</th>\n",
       "      <td>27</td>\n",
       "      <td>54</td>\n",
       "      <td>43</td>\n",
       "      <td>31</td>\n",
       "      <td>27</td>\n",
       "      <td>28</td>\n",
       "      <td>50</td>\n",
       "      <td>29</td>\n",
       "      <td>25</td>\n",
       "      <td>38</td>\n",
       "      <td>36</td>\n",
       "      <td>32</td>\n",
       "      <td>44</td>\n",
       "      <td>37</td>\n",
       "      <td>48</td>\n",
       "    </tr>\n",
       "    <tr>\n",
       "      <th>has_credit</th>\n",
       "      <td>0</td>\n",
       "      <td>0</td>\n",
       "      <td>0</td>\n",
       "      <td>0</td>\n",
       "      <td>0</td>\n",
       "      <td>0</td>\n",
       "      <td>0</td>\n",
       "      <td>0</td>\n",
       "      <td>0</td>\n",
       "      <td>0</td>\n",
       "      <td>0</td>\n",
       "      <td>0</td>\n",
       "      <td>0</td>\n",
       "      <td>0</td>\n",
       "      <td>0</td>\n",
       "    </tr>\n",
       "    <tr>\n",
       "      <th>balance</th>\n",
       "      <td>35</td>\n",
       "      <td>466</td>\n",
       "      <td>105</td>\n",
       "      <td>19</td>\n",
       "      <td>126</td>\n",
       "      <td>-127</td>\n",
       "      <td>1329</td>\n",
       "      <td>343</td>\n",
       "      <td>192</td>\n",
       "      <td>43</td>\n",
       "      <td>-272</td>\n",
       "      <td>4805</td>\n",
       "      <td>1146</td>\n",
       "      <td>380</td>\n",
       "      <td>1355</td>\n",
       "    </tr>\n",
       "    <tr>\n",
       "      <th>has_housing_loan</th>\n",
       "      <td>0</td>\n",
       "      <td>0</td>\n",
       "      <td>0</td>\n",
       "      <td>0</td>\n",
       "      <td>1</td>\n",
       "      <td>1</td>\n",
       "      <td>1</td>\n",
       "      <td>0</td>\n",
       "      <td>0</td>\n",
       "      <td>0</td>\n",
       "      <td>0</td>\n",
       "      <td>0</td>\n",
       "      <td>0</td>\n",
       "      <td>1</td>\n",
       "      <td>0</td>\n",
       "    </tr>\n",
       "    <tr>\n",
       "      <th>has_personal_loan</th>\n",
       "      <td>0</td>\n",
       "      <td>0</td>\n",
       "      <td>1</td>\n",
       "      <td>0</td>\n",
       "      <td>1</td>\n",
       "      <td>0</td>\n",
       "      <td>1</td>\n",
       "      <td>0</td>\n",
       "      <td>0</td>\n",
       "      <td>1</td>\n",
       "      <td>1</td>\n",
       "      <td>1</td>\n",
       "      <td>0</td>\n",
       "      <td>1</td>\n",
       "      <td>0</td>\n",
       "    </tr>\n",
       "    <tr>\n",
       "      <th>day</th>\n",
       "      <td>4</td>\n",
       "      <td>4</td>\n",
       "      <td>4</td>\n",
       "      <td>4</td>\n",
       "      <td>4</td>\n",
       "      <td>4</td>\n",
       "      <td>4</td>\n",
       "      <td>4</td>\n",
       "      <td>4</td>\n",
       "      <td>4</td>\n",
       "      <td>4</td>\n",
       "      <td>4</td>\n",
       "      <td>4</td>\n",
       "      <td>4</td>\n",
       "      <td>4</td>\n",
       "    </tr>\n",
       "    <tr>\n",
       "      <th>duration</th>\n",
       "      <td>255</td>\n",
       "      <td>297</td>\n",
       "      <td>668</td>\n",
       "      <td>65</td>\n",
       "      <td>436</td>\n",
       "      <td>1044</td>\n",
       "      <td>141</td>\n",
       "      <td>39</td>\n",
       "      <td>112</td>\n",
       "      <td>135</td>\n",
       "      <td>53</td>\n",
       "      <td>138</td>\n",
       "      <td>178</td>\n",
       "      <td>548</td>\n",
       "      <td>134</td>\n",
       "    </tr>\n",
       "    <tr>\n",
       "      <th>campaign</th>\n",
       "      <td>1</td>\n",
       "      <td>1</td>\n",
       "      <td>2</td>\n",
       "      <td>2</td>\n",
       "      <td>4</td>\n",
       "      <td>3</td>\n",
       "      <td>2</td>\n",
       "      <td>2</td>\n",
       "      <td>2</td>\n",
       "      <td>3</td>\n",
       "      <td>6</td>\n",
       "      <td>3</td>\n",
       "      <td>2</td>\n",
       "      <td>2</td>\n",
       "      <td>2</td>\n",
       "    </tr>\n",
       "    <tr>\n",
       "      <th>pdays</th>\n",
       "      <td>0</td>\n",
       "      <td>0</td>\n",
       "      <td>0</td>\n",
       "      <td>0</td>\n",
       "      <td>0</td>\n",
       "      <td>0</td>\n",
       "      <td>0</td>\n",
       "      <td>0</td>\n",
       "      <td>0</td>\n",
       "      <td>0</td>\n",
       "      <td>0</td>\n",
       "      <td>0</td>\n",
       "      <td>0</td>\n",
       "      <td>0</td>\n",
       "      <td>0</td>\n",
       "    </tr>\n",
       "    <tr>\n",
       "      <th>previous</th>\n",
       "      <td>0</td>\n",
       "      <td>0</td>\n",
       "      <td>0</td>\n",
       "      <td>0</td>\n",
       "      <td>0</td>\n",
       "      <td>0</td>\n",
       "      <td>0</td>\n",
       "      <td>0</td>\n",
       "      <td>0</td>\n",
       "      <td>0</td>\n",
       "      <td>0</td>\n",
       "      <td>0</td>\n",
       "      <td>0</td>\n",
       "      <td>0</td>\n",
       "      <td>0</td>\n",
       "    </tr>\n",
       "    <tr>\n",
       "      <th>target</th>\n",
       "      <td>0</td>\n",
       "      <td>0</td>\n",
       "      <td>0</td>\n",
       "      <td>0</td>\n",
       "      <td>0</td>\n",
       "      <td>1</td>\n",
       "      <td>0</td>\n",
       "      <td>0</td>\n",
       "      <td>0</td>\n",
       "      <td>0</td>\n",
       "      <td>0</td>\n",
       "      <td>0</td>\n",
       "      <td>0</td>\n",
       "      <td>0</td>\n",
       "      <td>0</td>\n",
       "    </tr>\n",
       "    <tr>\n",
       "      <th>job_blue-collar</th>\n",
       "      <td>0</td>\n",
       "      <td>1</td>\n",
       "      <td>1</td>\n",
       "      <td>0</td>\n",
       "      <td>0</td>\n",
       "      <td>1</td>\n",
       "      <td>1</td>\n",
       "      <td>1</td>\n",
       "      <td>1</td>\n",
       "      <td>1</td>\n",
       "      <td>0</td>\n",
       "      <td>1</td>\n",
       "      <td>0</td>\n",
       "      <td>1</td>\n",
       "      <td>0</td>\n",
       "    </tr>\n",
       "    <tr>\n",
       "      <th>job_entrepreneur</th>\n",
       "      <td>0</td>\n",
       "      <td>0</td>\n",
       "      <td>0</td>\n",
       "      <td>0</td>\n",
       "      <td>0</td>\n",
       "      <td>0</td>\n",
       "      <td>0</td>\n",
       "      <td>0</td>\n",
       "      <td>0</td>\n",
       "      <td>0</td>\n",
       "      <td>0</td>\n",
       "      <td>0</td>\n",
       "      <td>0</td>\n",
       "      <td>0</td>\n",
       "      <td>0</td>\n",
       "    </tr>\n",
       "    <tr>\n",
       "      <th>job_housemaid</th>\n",
       "      <td>0</td>\n",
       "      <td>0</td>\n",
       "      <td>0</td>\n",
       "      <td>0</td>\n",
       "      <td>0</td>\n",
       "      <td>0</td>\n",
       "      <td>0</td>\n",
       "      <td>0</td>\n",
       "      <td>0</td>\n",
       "      <td>0</td>\n",
       "      <td>0</td>\n",
       "      <td>0</td>\n",
       "      <td>0</td>\n",
       "      <td>0</td>\n",
       "      <td>0</td>\n",
       "    </tr>\n",
       "    <tr>\n",
       "      <th>job_management</th>\n",
       "      <td>1</td>\n",
       "      <td>0</td>\n",
       "      <td>0</td>\n",
       "      <td>0</td>\n",
       "      <td>0</td>\n",
       "      <td>0</td>\n",
       "      <td>0</td>\n",
       "      <td>0</td>\n",
       "      <td>0</td>\n",
       "      <td>0</td>\n",
       "      <td>0</td>\n",
       "      <td>0</td>\n",
       "      <td>0</td>\n",
       "      <td>0</td>\n",
       "      <td>0</td>\n",
       "    </tr>\n",
       "    <tr>\n",
       "      <th>job_retired</th>\n",
       "      <td>0</td>\n",
       "      <td>0</td>\n",
       "      <td>0</td>\n",
       "      <td>0</td>\n",
       "      <td>0</td>\n",
       "      <td>0</td>\n",
       "      <td>0</td>\n",
       "      <td>0</td>\n",
       "      <td>0</td>\n",
       "      <td>0</td>\n",
       "      <td>0</td>\n",
       "      <td>0</td>\n",
       "      <td>0</td>\n",
       "      <td>0</td>\n",
       "      <td>0</td>\n",
       "    </tr>\n",
       "    <tr>\n",
       "      <th>job_self-employed</th>\n",
       "      <td>0</td>\n",
       "      <td>0</td>\n",
       "      <td>0</td>\n",
       "      <td>0</td>\n",
       "      <td>0</td>\n",
       "      <td>0</td>\n",
       "      <td>0</td>\n",
       "      <td>0</td>\n",
       "      <td>0</td>\n",
       "      <td>0</td>\n",
       "      <td>0</td>\n",
       "      <td>0</td>\n",
       "      <td>0</td>\n",
       "      <td>0</td>\n",
       "      <td>0</td>\n",
       "    </tr>\n",
       "    <tr>\n",
       "      <th>job_services</th>\n",
       "      <td>0</td>\n",
       "      <td>0</td>\n",
       "      <td>0</td>\n",
       "      <td>0</td>\n",
       "      <td>0</td>\n",
       "      <td>0</td>\n",
       "      <td>0</td>\n",
       "      <td>0</td>\n",
       "      <td>0</td>\n",
       "      <td>0</td>\n",
       "      <td>0</td>\n",
       "      <td>0</td>\n",
       "      <td>0</td>\n",
       "      <td>0</td>\n",
       "      <td>1</td>\n",
       "    </tr>\n",
       "    <tr>\n",
       "      <th>job_student</th>\n",
       "      <td>0</td>\n",
       "      <td>0</td>\n",
       "      <td>0</td>\n",
       "      <td>0</td>\n",
       "      <td>0</td>\n",
       "      <td>0</td>\n",
       "      <td>0</td>\n",
       "      <td>0</td>\n",
       "      <td>0</td>\n",
       "      <td>0</td>\n",
       "      <td>0</td>\n",
       "      <td>0</td>\n",
       "      <td>0</td>\n",
       "      <td>0</td>\n",
       "      <td>0</td>\n",
       "    </tr>\n",
       "    <tr>\n",
       "      <th>job_technician</th>\n",
       "      <td>0</td>\n",
       "      <td>0</td>\n",
       "      <td>0</td>\n",
       "      <td>1</td>\n",
       "      <td>1</td>\n",
       "      <td>0</td>\n",
       "      <td>0</td>\n",
       "      <td>0</td>\n",
       "      <td>0</td>\n",
       "      <td>0</td>\n",
       "      <td>1</td>\n",
       "      <td>0</td>\n",
       "      <td>1</td>\n",
       "      <td>0</td>\n",
       "      <td>0</td>\n",
       "    </tr>\n",
       "    <tr>\n",
       "      <th>job_unemployed</th>\n",
       "      <td>0</td>\n",
       "      <td>0</td>\n",
       "      <td>0</td>\n",
       "      <td>0</td>\n",
       "      <td>0</td>\n",
       "      <td>0</td>\n",
       "      <td>0</td>\n",
       "      <td>0</td>\n",
       "      <td>0</td>\n",
       "      <td>0</td>\n",
       "      <td>0</td>\n",
       "      <td>0</td>\n",
       "      <td>0</td>\n",
       "      <td>0</td>\n",
       "      <td>0</td>\n",
       "    </tr>\n",
       "    <tr>\n",
       "      <th>marital_married</th>\n",
       "      <td>0</td>\n",
       "      <td>1</td>\n",
       "      <td>1</td>\n",
       "      <td>0</td>\n",
       "      <td>0</td>\n",
       "      <td>0</td>\n",
       "      <td>1</td>\n",
       "      <td>0</td>\n",
       "      <td>0</td>\n",
       "      <td>1</td>\n",
       "      <td>0</td>\n",
       "      <td>0</td>\n",
       "      <td>1</td>\n",
       "      <td>1</td>\n",
       "      <td>1</td>\n",
       "    </tr>\n",
       "    <tr>\n",
       "      <th>marital_single</th>\n",
       "      <td>1</td>\n",
       "      <td>0</td>\n",
       "      <td>0</td>\n",
       "      <td>1</td>\n",
       "      <td>1</td>\n",
       "      <td>1</td>\n",
       "      <td>0</td>\n",
       "      <td>1</td>\n",
       "      <td>1</td>\n",
       "      <td>0</td>\n",
       "      <td>1</td>\n",
       "      <td>0</td>\n",
       "      <td>0</td>\n",
       "      <td>0</td>\n",
       "      <td>0</td>\n",
       "    </tr>\n",
       "    <tr>\n",
       "      <th>education_secondary</th>\n",
       "      <td>1</td>\n",
       "      <td>0</td>\n",
       "      <td>1</td>\n",
       "      <td>1</td>\n",
       "      <td>1</td>\n",
       "      <td>1</td>\n",
       "      <td>1</td>\n",
       "      <td>0</td>\n",
       "      <td>1</td>\n",
       "      <td>1</td>\n",
       "      <td>1</td>\n",
       "      <td>0</td>\n",
       "      <td>0</td>\n",
       "      <td>0</td>\n",
       "      <td>1</td>\n",
       "    </tr>\n",
       "    <tr>\n",
       "      <th>education_tertiary</th>\n",
       "      <td>0</td>\n",
       "      <td>0</td>\n",
       "      <td>0</td>\n",
       "      <td>0</td>\n",
       "      <td>0</td>\n",
       "      <td>0</td>\n",
       "      <td>0</td>\n",
       "      <td>0</td>\n",
       "      <td>0</td>\n",
       "      <td>0</td>\n",
       "      <td>0</td>\n",
       "      <td>0</td>\n",
       "      <td>1</td>\n",
       "      <td>0</td>\n",
       "      <td>0</td>\n",
       "    </tr>\n",
       "    <tr>\n",
       "      <th>contact_telephone</th>\n",
       "      <td>0</td>\n",
       "      <td>0</td>\n",
       "      <td>0</td>\n",
       "      <td>1</td>\n",
       "      <td>0</td>\n",
       "      <td>0</td>\n",
       "      <td>1</td>\n",
       "      <td>0</td>\n",
       "      <td>1</td>\n",
       "      <td>0</td>\n",
       "      <td>0</td>\n",
       "      <td>0</td>\n",
       "      <td>0</td>\n",
       "      <td>0</td>\n",
       "      <td>0</td>\n",
       "    </tr>\n",
       "    <tr>\n",
       "      <th>month_aug</th>\n",
       "      <td>0</td>\n",
       "      <td>0</td>\n",
       "      <td>0</td>\n",
       "      <td>0</td>\n",
       "      <td>0</td>\n",
       "      <td>0</td>\n",
       "      <td>0</td>\n",
       "      <td>0</td>\n",
       "      <td>0</td>\n",
       "      <td>0</td>\n",
       "      <td>0</td>\n",
       "      <td>0</td>\n",
       "      <td>0</td>\n",
       "      <td>0</td>\n",
       "      <td>0</td>\n",
       "    </tr>\n",
       "    <tr>\n",
       "      <th>month_dec</th>\n",
       "      <td>0</td>\n",
       "      <td>0</td>\n",
       "      <td>0</td>\n",
       "      <td>0</td>\n",
       "      <td>0</td>\n",
       "      <td>0</td>\n",
       "      <td>0</td>\n",
       "      <td>0</td>\n",
       "      <td>0</td>\n",
       "      <td>0</td>\n",
       "      <td>0</td>\n",
       "      <td>0</td>\n",
       "      <td>0</td>\n",
       "      <td>0</td>\n",
       "      <td>0</td>\n",
       "    </tr>\n",
       "    <tr>\n",
       "      <th>month_feb</th>\n",
       "      <td>0</td>\n",
       "      <td>0</td>\n",
       "      <td>0</td>\n",
       "      <td>0</td>\n",
       "      <td>0</td>\n",
       "      <td>0</td>\n",
       "      <td>0</td>\n",
       "      <td>0</td>\n",
       "      <td>0</td>\n",
       "      <td>0</td>\n",
       "      <td>0</td>\n",
       "      <td>0</td>\n",
       "      <td>0</td>\n",
       "      <td>0</td>\n",
       "      <td>0</td>\n",
       "    </tr>\n",
       "    <tr>\n",
       "      <th>month_jan</th>\n",
       "      <td>0</td>\n",
       "      <td>0</td>\n",
       "      <td>0</td>\n",
       "      <td>0</td>\n",
       "      <td>0</td>\n",
       "      <td>0</td>\n",
       "      <td>0</td>\n",
       "      <td>0</td>\n",
       "      <td>0</td>\n",
       "      <td>0</td>\n",
       "      <td>0</td>\n",
       "      <td>0</td>\n",
       "      <td>0</td>\n",
       "      <td>0</td>\n",
       "      <td>0</td>\n",
       "    </tr>\n",
       "    <tr>\n",
       "      <th>month_jul</th>\n",
       "      <td>1</td>\n",
       "      <td>1</td>\n",
       "      <td>1</td>\n",
       "      <td>1</td>\n",
       "      <td>1</td>\n",
       "      <td>1</td>\n",
       "      <td>1</td>\n",
       "      <td>1</td>\n",
       "      <td>1</td>\n",
       "      <td>1</td>\n",
       "      <td>1</td>\n",
       "      <td>1</td>\n",
       "      <td>1</td>\n",
       "      <td>1</td>\n",
       "      <td>1</td>\n",
       "    </tr>\n",
       "    <tr>\n",
       "      <th>month_jun</th>\n",
       "      <td>0</td>\n",
       "      <td>0</td>\n",
       "      <td>0</td>\n",
       "      <td>0</td>\n",
       "      <td>0</td>\n",
       "      <td>0</td>\n",
       "      <td>0</td>\n",
       "      <td>0</td>\n",
       "      <td>0</td>\n",
       "      <td>0</td>\n",
       "      <td>0</td>\n",
       "      <td>0</td>\n",
       "      <td>0</td>\n",
       "      <td>0</td>\n",
       "      <td>0</td>\n",
       "    </tr>\n",
       "    <tr>\n",
       "      <th>month_mar</th>\n",
       "      <td>0</td>\n",
       "      <td>0</td>\n",
       "      <td>0</td>\n",
       "      <td>0</td>\n",
       "      <td>0</td>\n",
       "      <td>0</td>\n",
       "      <td>0</td>\n",
       "      <td>0</td>\n",
       "      <td>0</td>\n",
       "      <td>0</td>\n",
       "      <td>0</td>\n",
       "      <td>0</td>\n",
       "      <td>0</td>\n",
       "      <td>0</td>\n",
       "      <td>0</td>\n",
       "    </tr>\n",
       "    <tr>\n",
       "      <th>month_may</th>\n",
       "      <td>0</td>\n",
       "      <td>0</td>\n",
       "      <td>0</td>\n",
       "      <td>0</td>\n",
       "      <td>0</td>\n",
       "      <td>0</td>\n",
       "      <td>0</td>\n",
       "      <td>0</td>\n",
       "      <td>0</td>\n",
       "      <td>0</td>\n",
       "      <td>0</td>\n",
       "      <td>0</td>\n",
       "      <td>0</td>\n",
       "      <td>0</td>\n",
       "      <td>0</td>\n",
       "    </tr>\n",
       "    <tr>\n",
       "      <th>month_nov</th>\n",
       "      <td>0</td>\n",
       "      <td>0</td>\n",
       "      <td>0</td>\n",
       "      <td>0</td>\n",
       "      <td>0</td>\n",
       "      <td>0</td>\n",
       "      <td>0</td>\n",
       "      <td>0</td>\n",
       "      <td>0</td>\n",
       "      <td>0</td>\n",
       "      <td>0</td>\n",
       "      <td>0</td>\n",
       "      <td>0</td>\n",
       "      <td>0</td>\n",
       "      <td>0</td>\n",
       "    </tr>\n",
       "    <tr>\n",
       "      <th>month_oct</th>\n",
       "      <td>0</td>\n",
       "      <td>0</td>\n",
       "      <td>0</td>\n",
       "      <td>0</td>\n",
       "      <td>0</td>\n",
       "      <td>0</td>\n",
       "      <td>0</td>\n",
       "      <td>0</td>\n",
       "      <td>0</td>\n",
       "      <td>0</td>\n",
       "      <td>0</td>\n",
       "      <td>0</td>\n",
       "      <td>0</td>\n",
       "      <td>0</td>\n",
       "      <td>0</td>\n",
       "    </tr>\n",
       "    <tr>\n",
       "      <th>month_sep</th>\n",
       "      <td>0</td>\n",
       "      <td>0</td>\n",
       "      <td>0</td>\n",
       "      <td>0</td>\n",
       "      <td>0</td>\n",
       "      <td>0</td>\n",
       "      <td>0</td>\n",
       "      <td>0</td>\n",
       "      <td>0</td>\n",
       "      <td>0</td>\n",
       "      <td>0</td>\n",
       "      <td>0</td>\n",
       "      <td>0</td>\n",
       "      <td>0</td>\n",
       "      <td>0</td>\n",
       "    </tr>\n",
       "    <tr>\n",
       "      <th>prev_camp_outc_success</th>\n",
       "      <td>0</td>\n",
       "      <td>0</td>\n",
       "      <td>0</td>\n",
       "      <td>0</td>\n",
       "      <td>0</td>\n",
       "      <td>0</td>\n",
       "      <td>0</td>\n",
       "      <td>0</td>\n",
       "      <td>0</td>\n",
       "      <td>0</td>\n",
       "      <td>0</td>\n",
       "      <td>0</td>\n",
       "      <td>0</td>\n",
       "      <td>0</td>\n",
       "      <td>0</td>\n",
       "    </tr>\n",
       "    <tr>\n",
       "      <th>prev_camp_outc_unknown</th>\n",
       "      <td>1</td>\n",
       "      <td>1</td>\n",
       "      <td>1</td>\n",
       "      <td>1</td>\n",
       "      <td>1</td>\n",
       "      <td>1</td>\n",
       "      <td>1</td>\n",
       "      <td>1</td>\n",
       "      <td>1</td>\n",
       "      <td>1</td>\n",
       "      <td>1</td>\n",
       "      <td>1</td>\n",
       "      <td>1</td>\n",
       "      <td>1</td>\n",
       "      <td>1</td>\n",
       "    </tr>\n",
       "  </tbody>\n",
       "</table>\n",
       "</div>"
      ],
      "text/plain": [
       "                        12657  12658  12659  12660  12661  12662  12663  \\\n",
       "age                        27     54     43     31     27     28     50   \n",
       "has_credit                  0      0      0      0      0      0      0   \n",
       "balance                    35    466    105     19    126   -127   1329   \n",
       "has_housing_loan            0      0      0      0      1      1      1   \n",
       "has_personal_loan           0      0      1      0      1      0      1   \n",
       "day                         4      4      4      4      4      4      4   \n",
       "duration                  255    297    668     65    436   1044    141   \n",
       "campaign                    1      1      2      2      4      3      2   \n",
       "pdays                       0      0      0      0      0      0      0   \n",
       "previous                    0      0      0      0      0      0      0   \n",
       "target                      0      0      0      0      0      1      0   \n",
       "job_blue-collar             0      1      1      0      0      1      1   \n",
       "job_entrepreneur            0      0      0      0      0      0      0   \n",
       "job_housemaid               0      0      0      0      0      0      0   \n",
       "job_management              1      0      0      0      0      0      0   \n",
       "job_retired                 0      0      0      0      0      0      0   \n",
       "job_self-employed           0      0      0      0      0      0      0   \n",
       "job_services                0      0      0      0      0      0      0   \n",
       "job_student                 0      0      0      0      0      0      0   \n",
       "job_technician              0      0      0      1      1      0      0   \n",
       "job_unemployed              0      0      0      0      0      0      0   \n",
       "marital_married             0      1      1      0      0      0      1   \n",
       "marital_single              1      0      0      1      1      1      0   \n",
       "education_secondary         1      0      1      1      1      1      1   \n",
       "education_tertiary          0      0      0      0      0      0      0   \n",
       "contact_telephone           0      0      0      1      0      0      1   \n",
       "month_aug                   0      0      0      0      0      0      0   \n",
       "month_dec                   0      0      0      0      0      0      0   \n",
       "month_feb                   0      0      0      0      0      0      0   \n",
       "month_jan                   0      0      0      0      0      0      0   \n",
       "month_jul                   1      1      1      1      1      1      1   \n",
       "month_jun                   0      0      0      0      0      0      0   \n",
       "month_mar                   0      0      0      0      0      0      0   \n",
       "month_may                   0      0      0      0      0      0      0   \n",
       "month_nov                   0      0      0      0      0      0      0   \n",
       "month_oct                   0      0      0      0      0      0      0   \n",
       "month_sep                   0      0      0      0      0      0      0   \n",
       "prev_camp_outc_success      0      0      0      0      0      0      0   \n",
       "prev_camp_outc_unknown      1      1      1      1      1      1      1   \n",
       "\n",
       "                        12664  12665  12666  12667  12668  12669  12670  12671  \n",
       "age                        29     25     38     36     32     44     37     48  \n",
       "has_credit                  0      0      0      0      0      0      0      0  \n",
       "balance                   343    192     43   -272   4805   1146    380   1355  \n",
       "has_housing_loan            0      0      0      0      0      0      1      0  \n",
       "has_personal_loan           0      0      1      1      1      0      1      0  \n",
       "day                         4      4      4      4      4      4      4      4  \n",
       "duration                   39    112    135     53    138    178    548    134  \n",
       "campaign                    2      2      3      6      3      2      2      2  \n",
       "pdays                       0      0      0      0      0      0      0      0  \n",
       "previous                    0      0      0      0      0      0      0      0  \n",
       "target                      0      0      0      0      0      0      0      0  \n",
       "job_blue-collar             1      1      1      0      1      0      1      0  \n",
       "job_entrepreneur            0      0      0      0      0      0      0      0  \n",
       "job_housemaid               0      0      0      0      0      0      0      0  \n",
       "job_management              0      0      0      0      0      0      0      0  \n",
       "job_retired                 0      0      0      0      0      0      0      0  \n",
       "job_self-employed           0      0      0      0      0      0      0      0  \n",
       "job_services                0      0      0      0      0      0      0      1  \n",
       "job_student                 0      0      0      0      0      0      0      0  \n",
       "job_technician              0      0      0      1      0      1      0      0  \n",
       "job_unemployed              0      0      0      0      0      0      0      0  \n",
       "marital_married             0      0      1      0      0      1      1      1  \n",
       "marital_single              1      1      0      1      0      0      0      0  \n",
       "education_secondary         0      1      1      1      0      0      0      1  \n",
       "education_tertiary          0      0      0      0      0      1      0      0  \n",
       "contact_telephone           0      1      0      0      0      0      0      0  \n",
       "month_aug                   0      0      0      0      0      0      0      0  \n",
       "month_dec                   0      0      0      0      0      0      0      0  \n",
       "month_feb                   0      0      0      0      0      0      0      0  \n",
       "month_jan                   0      0      0      0      0      0      0      0  \n",
       "month_jul                   1      1      1      1      1      1      1      1  \n",
       "month_jun                   0      0      0      0      0      0      0      0  \n",
       "month_mar                   0      0      0      0      0      0      0      0  \n",
       "month_may                   0      0      0      0      0      0      0      0  \n",
       "month_nov                   0      0      0      0      0      0      0      0  \n",
       "month_oct                   0      0      0      0      0      0      0      0  \n",
       "month_sep                   0      0      0      0      0      0      0      0  \n",
       "prev_camp_outc_success      0      0      0      0      0      0      0      0  \n",
       "prev_camp_outc_unknown      1      1      1      1      1      1      1      1  "
      ]
     },
     "execution_count": 47,
     "metadata": {},
     "output_type": "execute_result"
    }
   ],
   "source": [
    "df.head(15).T"
   ]
  },
  {
   "cell_type": "code",
   "execution_count": 48,
   "metadata": {},
   "outputs": [
    {
     "data": {
      "text/plain": [
       "(30905, 39)"
      ]
     },
     "execution_count": 48,
     "metadata": {},
     "output_type": "execute_result"
    }
   ],
   "source": [
    "df.shape"
   ]
  },
  {
   "cell_type": "code",
   "execution_count": 49,
   "metadata": {},
   "outputs": [],
   "source": [
    "#cat_feat_mask = [col for col in X_train if np.isin(X_train[col].unique(), [0, 1]).all()]\n",
    "#cat_indices = list(X_train.iloc[:,np.r_[1, 3,4,7:39]].columns.values)"
   ]
  },
  {
   "cell_type": "code",
   "execution_count": 50,
   "metadata": {},
   "outputs": [
    {
     "name": "stdout",
     "output_type": "stream",
     "text": [
      "Original class distribution: \n",
      "\n",
      "0    21114\n",
      "1     3610\n",
      "Name: target, dtype: int64\n",
      "-----------------------------------------\n",
      "Synthetic sample class distribution: \n",
      "\n",
      "1    21114\n",
      "0    21114\n",
      "Name: target, dtype: int64\n"
     ]
    }
   ],
   "source": [
    "#Instantiate SMOTENC algorithm along with an index of the categorical feature columns\n",
    "smote_nc = SMOTENC(categorical_features=[1,3,4,8,9,10,\n",
    "                                         11,12,13,14,15,16,17,18,19,20,\n",
    "                                         21,22,23,24,25,26,27,28,29,30,\n",
    "                                         31,32,33,34,35,36,37], \n",
    "                    random_state=27,  # for reproducibility\n",
    "                    sampling_strategy='auto') # samples only the minority class\n",
    "# Fitting SMOTENC\n",
    "X_train_res, y_train_res = smote_nc.fit_resample(X_train, y_train)\n",
    "# Preview class distributions before and after over-sampling\n",
    "print('Original class distribution: \\n')\n",
    "print(y_train.value_counts())\n",
    "print('-----------------------------------------')\n",
    "print('Synthetic sample class distribution: \\n')\n",
    "print(pd.Series(y_train_res).value_counts()) "
   ]
  },
  {
   "cell_type": "markdown",
   "metadata": {},
   "source": [
    "##### Model-3. Logistic Regression / SMOTENC / Pipeline"
   ]
  },
  {
   "cell_type": "code",
   "execution_count": 51,
   "metadata": {},
   "outputs": [
    {
     "name": "stdout",
     "output_type": "stream",
     "text": [
      "Training Accuracy Score: 0.9044236051908686\n",
      "Testing Accuracy Score 0.8576282154991102\n"
     ]
    }
   ],
   "source": [
    "# Fitting the Logistic Regression Model\n",
    "scaler = StandardScaler()\n",
    "logreg_sm_clf= LogisticRegression(fit_intercept=False, \n",
    "                           random_state=27,\n",
    "                           C=1e9,  \n",
    "                           solver='lbfgs',\n",
    "                           max_iter=1e3,\n",
    "                           penalty='l2',\n",
    "                            )\n",
    "\n",
    "logreg_sm_pipe = Pipeline(steps=[('ss',scaler), \n",
    "                            ('logreg_sm',logreg_sm_clf),\n",
    "                              ])\n",
    "logreg_sm_pipe.fit(X_train_res, y_train_res)\n",
    "print(f'Training Accuracy Score:',logreg_sm_pipe.score(X_train_res, y_train_res))\n",
    "print(f'Testing Accuracy Score',logreg_sm_pipe.score(X_test, y_test))\n"
   ]
  },
  {
   "cell_type": "code",
   "execution_count": 52,
   "metadata": {},
   "outputs": [
    {
     "name": "stdout",
     "output_type": "stream",
     "text": [
      "Testing Recall Score of Logistic Regression with SMOTENC : 50.5%\n",
      "------------------------------------\n",
      "              precision    recall  f1-score   support\n",
      "\n",
      "           0       0.92      0.92      0.92      5278\n",
      "           1       0.51      0.50      0.51       903\n",
      "\n",
      "    accuracy                           0.86      6181\n",
      "   macro avg       0.71      0.71      0.71      6181\n",
      "weighted avg       0.86      0.86      0.86      6181\n",
      "\n",
      "Confusion Matrix for Logistic Regression with SMOTENC\n"
     ]
    },
    {
     "data": {
      "image/png": "[encoded data removed]",
      "text/plain": [
       "<Figure size 432x288 with 2 Axes>"
      ]
     },
     "metadata": {},
     "output_type": "display_data"
    },
    {
     "data": {
      "image/png": "[encoded data removed]",
      "text/plain": [
       "<Figure size 432x288 with 1 Axes>"
      ]
     },
     "metadata": {},
     "output_type": "display_data"
    },
    {
     "name": "stdout",
     "output_type": "stream",
     "text": [
      "Area Under PR Curve(AP): 0.50\n",
      "------------------------------------\n"
     ]
    }
   ],
   "source": [
    "model_evaluation(logreg_sm_pipe, X_test, y_test, 'Logistic Regression with SMOTENC')"
   ]
  },
  {
   "cell_type": "markdown",
   "metadata": {},
   "source": [
    "Logistic Regression Model with SMOTE did increase an accuracy but slightly overfitted. Thus  we will  build  tree based models and try to find hyper parameters against overfitting through GridSearch by balancing the class weights. "
   ]
  },
  {
   "cell_type": "markdown",
   "metadata": {},
   "source": [
    "##### Model-4. Decision Tree Classifier/ balanced class_weight/ Pipeline /  Grid Search"
   ]
  },
  {
   "cell_type": "code",
   "execution_count": 53,
   "metadata": {},
   "outputs": [
    {
     "data": {
      "text/plain": [
       "GridSearchCV(cv=10,\n",
       "             estimator=Pipeline(steps=[('ss', StandardScaler()),\n",
       "                                       ('dt',\n",
       "                                        DecisionTreeClassifier(random_state=27))]),\n",
       "             n_jobs=-1,\n",
       "             param_grid={'dt__class_weight': ['balanced'],\n",
       "                         'dt__criterion': ['entropy', 'gini'],\n",
       "                         'dt__max_depth': [2, 4, 6, 8, 10],\n",
       "                         'dt__min_samples_leaf': [0.1, 0.5, 5],\n",
       "                         'dt__splitter': ['best', 'random']},\n",
       "             scoring='recall')"
      ]
     },
     "execution_count": 53,
     "metadata": {},
     "output_type": "execute_result"
    }
   ],
   "source": [
    "dt_clf = DecisionTreeClassifier(random_state=27)\n",
    "\n",
    "\n",
    "# Creating pipeline for Decision Tree Classifier\n",
    "dt_pipe = Pipeline(steps=[('ss',scaler), \n",
    "                            ('dt',dt_clf)])\n",
    "# Defining Hyperparameters                            \n",
    "dt_params ={\n",
    "    'dt__class_weight':['balanced'],\n",
    "    'dt__criterion':['entropy','gini'],\n",
    "    'dt__splitter':[\"best\", \"random\"],\n",
    "    'dt__max_depth': [i for i in range(2,11,2)],\n",
    "    'dt__min_samples_leaf': [0.1, 0.5, 5],     \n",
    "}\n",
    "# Fitting the model \n",
    "\n",
    "# Function to create a grid search containing pipeline\n",
    "def perform_gridsearch(model_pipe, params):\n",
    "    return GridSearchCV(estimator=model_pipe,\n",
    "                        param_grid=params,\n",
    "                        scoring='recall',\n",
    "                        cv=10,\n",
    "                        n_jobs=-1)\n",
    "dt_gs = perform_gridsearch(dt_pipe, dt_params)\n",
    "                          \n",
    "dt_gs.fit(X_train,y_train)\n",
    "                           "
   ]
  },
  {
   "cell_type": "code",
   "execution_count": 54,
   "metadata": {},
   "outputs": [
    {
     "name": "stdout",
     "output_type": "stream",
     "text": [
      "Training Score: 0.8603878116343491\n",
      "Testing Score 0.8682170542635659\n"
     ]
    }
   ],
   "source": [
    "print(f'Training Score:',dt_gs.score(X_train, y_train))\n",
    "print(f'Testing Score',dt_gs.score(X_test, y_test))"
   ]
  },
  {
   "cell_type": "code",
   "execution_count": 55,
   "metadata": {},
   "outputs": [
    {
     "data": {
      "text/plain": [
       "{'dt__class_weight': 'balanced',\n",
       " 'dt__criterion': 'entropy',\n",
       " 'dt__max_depth': 2,\n",
       " 'dt__min_samples_leaf': 5,\n",
       " 'dt__splitter': 'best'}"
      ]
     },
     "execution_count": 55,
     "metadata": {},
     "output_type": "execute_result"
    }
   ],
   "source": [
    "# Picking the best parameters for the model\n",
    "dt_gs.best_params_"
   ]
  },
  {
   "cell_type": "code",
   "execution_count": 56,
   "metadata": {},
   "outputs": [
    {
     "name": "stdout",
     "output_type": "stream",
     "text": [
      "Testing Recall Score of Descision Tree Classifier : 86.82%\n",
      "------------------------------------\n",
      "              precision    recall  f1-score   support\n",
      "\n",
      "           0       0.96      0.60      0.74      5278\n",
      "           1       0.27      0.87      0.41       903\n",
      "\n",
      "    accuracy                           0.64      6181\n",
      "   macro avg       0.62      0.74      0.58      6181\n",
      "weighted avg       0.86      0.64      0.69      6181\n",
      "\n",
      "Confusion Matrix for Descision Tree Classifier\n"
     ]
    },
    {
     "data": {
      "image/png": "[encoded data removed]",
      "text/plain": [
       "<Figure size 432x288 with 2 Axes>"
      ]
     },
     "metadata": {},
     "output_type": "display_data"
    },
    {
     "data": {
      "image/png": "[encoded data removed]",
      "text/plain": [
       "<Figure size 432x288 with 1 Axes>"
      ]
     },
     "metadata": {},
     "output_type": "display_data"
    },
    {
     "name": "stdout",
     "output_type": "stream",
     "text": [
      "Area Under PR Curve(AP): 0.35\n",
      "------------------------------------\n"
     ]
    }
   ],
   "source": [
    "# Model Evaluation on cross-validation\n",
    "model_evaluation(dt_gs.best_estimator_, X_test, y_test, 'Descision Tree Classifier')"
   ]
  },
  {
   "cell_type": "markdown",
   "metadata": {},
   "source": [
    "Fortunately we have resolved the overfitting and achieved pretty well validation score of 86.82%. The recall presents 87% of positive cases that were correctly identified which has proved the best method to overcome imbalance data."
   ]
  },
  {
   "cell_type": "markdown",
   "metadata": {},
   "source": [
    "##### Model-5. Random Forest Classifier / balanced class_weight/ Pipeline/ Grid Search"
   ]
  },
  {
   "cell_type": "code",
   "execution_count": 57,
   "metadata": {},
   "outputs": [
    {
     "data": {
      "text/plain": [
       "GridSearchCV(cv=10,\n",
       "             estimator=Pipeline(steps=[('ss', StandardScaler()),\n",
       "                                       ('rf',\n",
       "                                        RandomForestClassifier(random_state=27))]),\n",
       "             n_jobs=-1,\n",
       "             param_grid={'rf__class_weight': ['balanced'],\n",
       "                         'rf__criterion': ['gini', 'entropy'],\n",
       "                         'rf__max_depth': [2, 4, 6],\n",
       "                         'rf__max_features': ['auto', 'sqrt'],\n",
       "                         'rf__min_samples_leaf': [1, 2, 4],\n",
       "                         'rf__min_samples_split': [2, 4, 8]},\n",
       "             scoring='recall')"
      ]
     },
     "execution_count": 57,
     "metadata": {},
     "output_type": "execute_result"
    }
   ],
   "source": [
    "scaler = StandardScaler()\n",
    "# Instantiating Random Forest Clf model\n",
    "rf_clf = RandomForestClassifier(random_state=27)\n",
    "\n",
    "rf_pipe = Pipeline(steps=[('ss',scaler), \n",
    "                            ('rf',rf_clf),\n",
    "                              ])\n",
    "\n",
    "# Setting hyperparameters for Grid Search\n",
    "rf_params = {\n",
    "    'rf__criterion':['gini','entropy'],\n",
    "     'rf__class_weight':['balanced'],\n",
    "     'rf__max_depth': [2,4,6],\n",
    "     'rf__max_features': ['auto', 'sqrt'],\n",
    "     'rf__min_samples_leaf': [1, 2, 4],\n",
    "     'rf__min_samples_split': [2,4, 8],\n",
    "     }\n",
    "\n",
    "rf_gs = perform_gridsearch(rf_pipe, rf_params)\n",
    "\n",
    "# Fitting the Random Forest Clf model\n",
    "rf_gs.fit(X_train, y_train)"
   ]
  },
  {
   "cell_type": "code",
   "execution_count": 58,
   "metadata": {},
   "outputs": [
    {
     "name": "stdout",
     "output_type": "stream",
     "text": [
      "Training Score: 0.8498614958448754\n",
      "Testing Score 0.840531561461794\n"
     ]
    }
   ],
   "source": [
    "print(f'Training Score:',rf_gs.score(X_train, y_train))\n",
    "print(f'Testing Score',rf_gs.score(X_test, y_test))"
   ]
  },
  {
   "cell_type": "code",
   "execution_count": 59,
   "metadata": {},
   "outputs": [
    {
     "data": {
      "text/plain": [
       "{'rf__class_weight': 'balanced',\n",
       " 'rf__criterion': 'entropy',\n",
       " 'rf__max_depth': 6,\n",
       " 'rf__max_features': 'auto',\n",
       " 'rf__min_samples_leaf': 1,\n",
       " 'rf__min_samples_split': 2}"
      ]
     },
     "execution_count": 59,
     "metadata": {},
     "output_type": "execute_result"
    }
   ],
   "source": [
    "rf_gs.best_params_"
   ]
  },
  {
   "cell_type": "code",
   "execution_count": 60,
   "metadata": {},
   "outputs": [
    {
     "name": "stdout",
     "output_type": "stream",
     "text": [
      "Testing Recall Score of Random Forest Classifier : 84.05%\n",
      "------------------------------------\n",
      "              precision    recall  f1-score   support\n",
      "\n",
      "           0       0.97      0.81      0.88      5278\n",
      "           1       0.43      0.84      0.56       903\n",
      "\n",
      "    accuracy                           0.81      6181\n",
      "   macro avg       0.70      0.82      0.72      6181\n",
      "weighted avg       0.89      0.81      0.83      6181\n",
      "\n",
      "Confusion Matrix for Random Forest Classifier\n"
     ]
    },
    {
     "data": {
      "image/png": "[encoded data removed]",
      "text/plain": [
       "<Figure size 432x288 with 2 Axes>"
      ]
     },
     "metadata": {},
     "output_type": "display_data"
    },
    {
     "data": {
      "image/png": "[encoded data removed]",
      "text/plain": [
       "<Figure size 432x288 with 1 Axes>"
      ]
     },
     "metadata": {},
     "output_type": "display_data"
    },
    {
     "name": "stdout",
     "output_type": "stream",
     "text": [
      "Area Under PR Curve(AP): 0.59\n",
      "------------------------------------\n"
     ]
    }
   ],
   "source": [
    "# Evaluating the Model performance on cross-validation\n",
    "model_evaluation(rf_gs.best_estimator_, X_test, y_test, 'Random Forest Classifier')"
   ]
  },
  {
   "cell_type": "markdown",
   "metadata": {},
   "source": [
    "The Random Fores Classifier did good job both in training and testing accuracy without overfitting the model. Despite reducing recall by 4%, we dropped by almost half the false positive score."
   ]
  },
  {
   "cell_type": "markdown",
   "metadata": {},
   "source": [
    "##### Model-6. K-Nearest Neighbors  Classifier / SMOTENC/ Pipeline"
   ]
  },
  {
   "cell_type": "code",
   "execution_count": 68,
   "metadata": {},
   "outputs": [
    {
     "data": {
      "text/plain": [
       "Pipeline(steps=[('ss', StandardScaler()),\n",
       "                ('knn',\n",
       "                 KNeighborsClassifier(leaf_size=20, n_jobs=-1, n_neighbors=10,\n",
       "                                      p=1, weights='distance'))])"
      ]
     },
     "execution_count": 68,
     "metadata": {},
     "output_type": "execute_result"
    }
   ],
   "source": [
    "# Instantiating   and fitting kNN Model\n",
    "# I have setup n_jobs=-1 to use all cpus in my env\n",
    "scaler = StandardScaler()\n",
    "knn_clf = KNeighborsClassifier(leaf_size=20, n_neighbors= 10,\n",
    "                               p=1,weights='distance', n_jobs=-1)\n",
    "\n",
    "knn_pipe = Pipeline(steps=[('ss',scaler), \n",
    "                            ('knn',knn_clf),\n",
    "                              ])\n",
    "knn_pipe.fit(X_train_res, y_train_res)"
   ]
  },
  {
   "cell_type": "code",
   "execution_count": 69,
   "metadata": {},
   "outputs": [
    {
     "name": "stdout",
     "output_type": "stream",
     "text": [
      "Training Score: 1.0\n",
      "Testing Score 0.8582753599741142\n"
     ]
    }
   ],
   "source": [
    "print(f'Training Score:',knn_pipe.score(X_train_res, y_train_res))\n",
    "print(f'Testing Score',knn_pipe.score(X_test, y_test))"
   ]
  },
  {
   "cell_type": "code",
   "execution_count": 70,
   "metadata": {},
   "outputs": [
    {
     "name": "stdout",
     "output_type": "stream",
     "text": [
      "Testing Recall Score of K-Nearest Neighbors : 41.31%\n",
      "------------------------------------\n",
      "              precision    recall  f1-score   support\n",
      "\n",
      "           0       0.90      0.93      0.92      5278\n",
      "           1       0.52      0.41      0.46       903\n",
      "\n",
      "    accuracy                           0.86      6181\n",
      "   macro avg       0.71      0.67      0.69      6181\n",
      "weighted avg       0.85      0.86      0.85      6181\n",
      "\n",
      "Confusion Matrix for K-Nearest Neighbors\n"
     ]
    },
    {
     "data": {
      "image/png": "[encoded data removed]",
      "text/plain": [
       "<Figure size 432x288 with 2 Axes>"
      ]
     },
     "metadata": {},
     "output_type": "display_data"
    },
    {
     "data": {
      "image/png": "[encoded data removed]",
      "text/plain": [
       "<Figure size 432x288 with 1 Axes>"
      ]
     },
     "metadata": {},
     "output_type": "display_data"
    },
    {
     "name": "stdout",
     "output_type": "stream",
     "text": [
      "Area Under PR Curve(AP): 0.44\n",
      "------------------------------------\n"
     ]
    }
   ],
   "source": [
    "# Model evaluation \n",
    "model_evaluation(knn_pipe, X_test, y_test,'K-Nearest Neighbors')"
   ]
  },
  {
   "cell_type": "markdown",
   "metadata": {},
   "source": [
    "The  K-Nearest Neighbours model along with an oversamplinf method  payed too much attention to every little detail and made a very complex decision boundary which lead to overfitting. This model did well in predicting not subscribed customers.\n",
    "\n",
    "Another technique that can be used to improve our classification performance is boosting. While data sampling was\n",
    "designed with the class imbalance problem in mind, boosting is a technique that can improve the performance of any\n",
    "weak classifier (whether or not the data is imbalanced).\n",
    "Further I will try to apply the most common boosting algorithms such: <p>\n",
    "* Gradient Boosting Classifier\n",
    "* Extreme Gradient Boosting (XGBoost) Classifier\n",
    "* RUSBoost Classifier\n",
    "* Light Gradient Boosted Machine (LGBM) Classifier\n",
    "\n"
   ]
  },
  {
   "cell_type": "markdown",
   "metadata": {},
   "source": [
    "##### Model-7. Gradient Boosting Classifier / SMOTENC / Pipeline"
   ]
  },
  {
   "cell_type": "code",
   "execution_count": 71,
   "metadata": {},
   "outputs": [],
   "source": [
    "scaler = StandardScaler()\n",
    "\n",
    "# Instantiating the GBosting model\n",
    "gbt_clf = GradientBoostingClassifier(learning_rate = 0.1, max_depth = 5, \n",
    "                                     min_samples_leaf = 3, n_estimators = 200, \n",
    "                                     subsample = 0.6, random_state=27)"
   ]
  },
  {
   "cell_type": "code",
   "execution_count": 72,
   "metadata": {},
   "outputs": [
    {
     "name": "stdout",
     "output_type": "stream",
     "text": [
      "Training Score: 0.9437103343752961\n",
      "Testing Score 0.8786604109367416\n"
     ]
    }
   ],
   "source": [
    "gbt_pipe = Pipeline(steps=[('ss', scaler), \n",
    "                          ('gbt', gbt_clf)])\n",
    "# Fitting and Evaluating GBoosting Model\n",
    "gbt_pipe.fit(X_train_res,y_train_res)\n",
    "print(f'Training Score:',gbt_pipe.score(X_train_res, y_train_res))\n",
    "print(f'Testing Score',gbt_pipe.score(X_test, y_test))"
   ]
  },
  {
   "cell_type": "code",
   "execution_count": 73,
   "metadata": {},
   "outputs": [
    {
     "name": "stdout",
     "output_type": "stream",
     "text": [
      "Testing Recall Score of Gradient Boosting : 63.12%\n",
      "------------------------------------\n",
      "              precision    recall  f1-score   support\n",
      "\n",
      "           0       0.94      0.92      0.93      5278\n",
      "           1       0.58      0.63      0.60       903\n",
      "\n",
      "    accuracy                           0.88      6181\n",
      "   macro avg       0.76      0.78      0.77      6181\n",
      "weighted avg       0.88      0.88      0.88      6181\n",
      "\n",
      "Confusion Matrix for Gradient Boosting\n"
     ]
    },
    {
     "data": {
      "image/png": "[encoded data removed]",
      "text/plain": [
       "<Figure size 432x288 with 2 Axes>"
      ]
     },
     "metadata": {},
     "output_type": "display_data"
    },
    {
     "data": {
      "image/png": "[encoded data removed]",
      "text/plain": [
       "<Figure size 432x288 with 1 Axes>"
      ]
     },
     "metadata": {},
     "output_type": "display_data"
    },
    {
     "name": "stdout",
     "output_type": "stream",
     "text": [
      "Area Under PR Curve(AP): 0.58\n",
      "------------------------------------\n"
     ]
    }
   ],
   "source": [
    "model_evaluation(gbt_pipe, X_test, y_test,'Gradient Boosting')"
   ]
  },
  {
   "cell_type": "markdown",
   "metadata": {},
   "source": [
    "Gradient Boosting Classifier is somewhat overfitted but not much as k-NN. This model considerably decreased false positive, meaning the client does NOT SUBSCRIBE to a term deposit, but the model thinks he did. <p> Next, I will use a specific implementation of the Gradient Boosting method which uses more accurate approximations to find the best tree model called Extreme Gradient Boosting. "
   ]
  },
  {
   "cell_type": "markdown",
   "metadata": {},
   "source": [
    "##### Model-8.  XGBoost Classifier / SMOTENC / Pipeline"
   ]
  },
  {
   "cell_type": "code",
   "execution_count": 74,
   "metadata": {},
   "outputs": [
    {
     "name": "stdout",
     "output_type": "stream",
     "text": [
      "[15:21:39] WARNING: ..\\src\\learner.cc:1115: Starting in XGBoost 1.3.0, the default evaluation metric used with the objective 'binary:logistic' was changed from 'error' to 'logloss'. Explicitly set eval_metric if you'd like to restore the old behavior.\n",
      "Training Score: 0.9999763190300275\n",
      "Testing Score 0.8673353826241709\n"
     ]
    }
   ],
   "source": [
    "scaler = StandardScaler()\n",
    "# Instantiating the XGBoost Model\n",
    "xgb_clf = XGBClassifier(learning_rate=0.4, max_depth = 10, min_child_weight = 1, \n",
    "                        n_estimators = 200, scale_pos_weight = 2, subsample = .5,\n",
    "                        random_state=23)\n",
    "    \n",
    "                        \n",
    "xgb_pipe = Pipeline(steps=[('ss',scaler), \n",
    "                            ('xgb',xgb_clf),\n",
    "                              ])\n",
    "xgb_pipe.fit(X_train_res, y_train_res)   \n",
    "\n",
    "print(f'Training Score:',xgb_pipe.score(X_train_res, y_train_res))\n",
    "print(f'Testing Score',xgb_pipe.score(X_test, y_test))"
   ]
  },
  {
   "cell_type": "code",
   "execution_count": 75,
   "metadata": {},
   "outputs": [
    {
     "name": "stdout",
     "output_type": "stream",
     "text": [
      "Testing Recall Score of XGBoost Classifier : 62.68%\n",
      "------------------------------------\n",
      "              precision    recall  f1-score   support\n",
      "\n",
      "           0       0.93      0.91      0.92      5278\n",
      "           1       0.54      0.63      0.58       903\n",
      "\n",
      "    accuracy                           0.87      6181\n",
      "   macro avg       0.74      0.77      0.75      6181\n",
      "weighted avg       0.88      0.87      0.87      6181\n",
      "\n",
      "Confusion Matrix for XGBoost Classifier\n"
     ]
    },
    {
     "data": {
      "image/png": "[encoded data removed]",
      "text/plain": [
       "<Figure size 432x288 with 2 Axes>"
      ]
     },
     "metadata": {},
     "output_type": "display_data"
    },
    {
     "data": {
      "image/png": "[encoded data removed]",
      "text/plain": [
       "<Figure size 432x288 with 1 Axes>"
      ]
     },
     "metadata": {},
     "output_type": "display_data"
    },
    {
     "name": "stdout",
     "output_type": "stream",
     "text": [
      "Area Under PR Curve(AP): 0.55\n",
      "------------------------------------\n"
     ]
    }
   ],
   "source": [
    "# Fitting and Evaluating the XGBoost model\n",
    "#print(f'Training Score:',gbt_pipe.score(X_train_res, y_train_res))\n",
    "#print(f'Testing Score',gbt_pipe.score(X_test, y_test))\n",
    "\n",
    "model_evaluation(xgb_pipe, X_test, y_test, 'XGBoost Classifier')"
   ]
  },
  {
   "cell_type": "markdown",
   "metadata": {},
   "source": [
    "XGBoost model along with oversampling techniquealso did overfit. Recall stayed stable around 63%  both in Gradient Boosting  and XGBoost classifiers. <p>\n",
    "Next, I will build a so-called novel hybrid data sampling/boosting algorithm called RUSBoost, which is designed to improve the performance of models trained on skewed data. RUSBoost applies random undersampling (RUS), a technique which randomly removes examples from the majority class"
   ]
  },
  {
   "cell_type": "markdown",
   "metadata": {},
   "source": [
    "##### Model-9.  RUSBoost Classifier / Pipeline /Grid Search"
   ]
  },
  {
   "cell_type": "code",
   "execution_count": 61,
   "metadata": {},
   "outputs": [],
   "source": [
    "\n",
    "rusboost_clf = RUSBoostClassifier(\n",
    "        n_estimators=20,\n",
    "        learning_rate=1.0,\n",
    "        sampling_strategy='auto',\n",
    "        random_state=27,\n",
    "    )\n",
    "rusboost_pipe = Pipeline(steps=[('ss',scaler), \n",
    "                            ('rusbst',rusboost_clf),\n",
    "                              ])\n",
    "# set up the hyperparameter space\n",
    "# the default implementation as 2 hyperparameters to optimize\n",
    "rusboost_params = {\n",
    "    'rusbst__n_estimators':[10,50,100,150],\n",
    "    'rusbst__learning_rate':[0.0001, 0.1,0.5,1],\n",
    "}\n",
    "\n",
    "rusbst_gs = perform_gridsearch(rusboost_pipe, rusboost_params)"
   ]
  },
  {
   "cell_type": "code",
   "execution_count": 62,
   "metadata": {},
   "outputs": [
    {
     "data": {
      "text/plain": [
       "GridSearchCV(cv=10,\n",
       "             estimator=Pipeline(steps=[('ss', StandardScaler()),\n",
       "                                       ('rusbst',\n",
       "                                        RUSBoostClassifier(n_estimators=20,\n",
       "                                                           random_state=27))]),\n",
       "             n_jobs=-1,\n",
       "             param_grid={'rusbst__learning_rate': [0.0001, 0.1, 0.5, 1],\n",
       "                         'rusbst__n_estimators': [10, 50, 100, 150]},\n",
       "             scoring='recall')"
      ]
     },
     "execution_count": 62,
     "metadata": {},
     "output_type": "execute_result"
    }
   ],
   "source": [
    "rusbst_gs.fit(X_train,y_train)"
   ]
  },
  {
   "cell_type": "code",
   "execution_count": 63,
   "metadata": {},
   "outputs": [
    {
     "name": "stdout",
     "output_type": "stream",
     "text": [
      "Training Score: 0.8160664819944599\n",
      "Testing Score 0.8161683277962348\n"
     ]
    }
   ],
   "source": [
    "print(f'Training Score:',rusbst_gs.score(X_train, y_train))\n",
    "print(f'Testing Score',rusbst_gs.score(X_test, y_test))"
   ]
  },
  {
   "cell_type": "code",
   "execution_count": 64,
   "metadata": {},
   "outputs": [
    {
     "data": {
      "text/plain": [
       "{'rusbst__learning_rate': 0.1, 'rusbst__n_estimators': 10}"
      ]
     },
     "execution_count": 64,
     "metadata": {},
     "output_type": "execute_result"
    }
   ],
   "source": [
    "rusbst_gs.best_params_"
   ]
  },
  {
   "cell_type": "code",
   "execution_count": 65,
   "metadata": {},
   "outputs": [
    {
     "name": "stdout",
     "output_type": "stream",
     "text": [
      "Testing Recall Score of RUSBoost Classifier : 81.62%\n",
      "------------------------------------\n",
      "              precision    recall  f1-score   support\n",
      "\n",
      "           0       0.95      0.65      0.78      5278\n",
      "           1       0.29      0.82      0.43       903\n",
      "\n",
      "    accuracy                           0.68      6181\n",
      "   macro avg       0.62      0.74      0.60      6181\n",
      "weighted avg       0.86      0.68      0.73      6181\n",
      "\n",
      "Confusion Matrix for RUSBoost Classifier\n"
     ]
    },
    {
     "data": {
      "image/png": "[encoded data removed]",
      "text/plain": [
       "<Figure size 432x288 with 2 Axes>"
      ]
     },
     "metadata": {},
     "output_type": "display_data"
    },
    {
     "data": {
      "image/png": "[encoded data removed]",
      "text/plain": [
       "<Figure size 432x288 with 1 Axes>"
      ]
     },
     "metadata": {},
     "output_type": "display_data"
    },
    {
     "name": "stdout",
     "output_type": "stream",
     "text": [
      "Area Under PR Curve(AP): 0.43\n",
      "------------------------------------\n"
     ]
    }
   ],
   "source": [
    "model_evaluation(rusbst_gs.best_estimator_, X_test, y_test, 'RUSBoost Classifier')"
   ]
  },
  {
   "cell_type": "markdown",
   "metadata": {},
   "source": [
    "We overcame overfitting within this model and got a recall score of 82% which is better compared to previously built boosting algorithms."
   ]
  },
  {
   "cell_type": "markdown",
   "metadata": {},
   "source": [
    "##### Model-9. LGBM Classifier / SMOTENC/ Grid Search"
   ]
  },
  {
   "cell_type": "markdown",
   "metadata": {},
   "source": [
    "LightGBM extends the gradient boosting algorithm by adding a type of automatic feature selection as well as focusing on boosting examples with larger gradients. This can result in a dramatic speedup of training and improved predictive performance."
   ]
  },
  {
   "cell_type": "code",
   "execution_count": 76,
   "metadata": {},
   "outputs": [],
   "source": [
    "scaler = StandardScaler()\n",
    "# Instantiating the LGBMClassifier\n",
    "lgbm_clf = LGBMClassifier(max_depth=4,\n",
    "                          boosting_type='goss',\n",
    "                          n_estimators=145)\n",
    "\n",
    "lgbm_pipe = Pipeline(steps=[('ss', scaler), \n",
    "                          ('lgbm', lgbm_clf)])"
   ]
  },
  {
   "cell_type": "code",
   "execution_count": 77,
   "metadata": {},
   "outputs": [
    {
     "name": "stdout",
     "output_type": "stream",
     "text": [
      "Training Score: 0.9253339016766127\n",
      "Testing Score 0.8736450412554603\n",
      "Testing Recall Score of LightGBM : 67.66%\n",
      "------------------------------------\n",
      "              precision    recall  f1-score   support\n",
      "\n",
      "           0       0.94      0.91      0.92      5278\n",
      "           1       0.56      0.68      0.61       903\n",
      "\n",
      "    accuracy                           0.87      6181\n",
      "   macro avg       0.75      0.79      0.77      6181\n",
      "weighted avg       0.89      0.87      0.88      6181\n",
      "\n",
      "Confusion Matrix for LightGBM\n"
     ]
    },
    {
     "data": {
      "image/png": "[encoded data removed]",
      "text/plain": [
       "<Figure size 432x288 with 2 Axes>"
      ]
     },
     "metadata": {},
     "output_type": "display_data"
    },
    {
     "data": {
      "image/png": "[encoded data removed]",
      "text/plain": [
       "<Figure size 432x288 with 1 Axes>"
      ]
     },
     "metadata": {},
     "output_type": "display_data"
    },
    {
     "name": "stdout",
     "output_type": "stream",
     "text": [
      "Area Under PR Curve(AP): 0.56\n",
      "------------------------------------\n"
     ]
    }
   ],
   "source": [
    "# Fitting the model\n",
    "lgbm_pipe.fit(X_train_res, y_train_res)\n",
    "\n",
    "print(f'Training Score:',lgbm_pipe.score(X_train_res, y_train_res))\n",
    "print(f'Testing Score',lgbm_pipe.score(X_test, y_test))\n",
    "# Model Evaluation on cross validation\n",
    "model_evaluation(lgbm_pipe, X_test, y_test, 'LightGBM')"
   ]
  },
  {
   "cell_type": "markdown",
   "metadata": {},
   "source": [
    "Light Gradient Boosted Machine Classifier could not increase recall score and slightly overfitted."
   ]
  },
  {
   "cell_type": "markdown",
   "metadata": {},
   "source": [
    "### 5. Conclusion "
   ]
  },
  {
   "cell_type": "markdown",
   "metadata": {},
   "source": [
    "Among all models that I build, Logistic Regression and Random Forest algorithms performed well. An oversampling technique such as SMOTENC did not much help on models' performance. As a final and best  model I chose Random Forest with the recall score 84% and an accuracy score 84%. Mainly model does a good job of decreasing false-positive which leads to avoiding losing future customers but identifying them as SUBSCRIBED. "
   ]
  },
  {
   "cell_type": "code",
   "execution_count": 205,
   "metadata": {},
   "outputs": [],
   "source": [
    "def plot_feature_importance(importance,model,title):\n",
    "\n",
    "# creating arrays from feature importance and feature names\n",
    "    feature_importance = np.array(importance)\n",
    "    feature_names = np.array(model)\n",
    "\n",
    "# creating a DataFrame using a Dictionary\n",
    "    data={'feature_names':feature_names,'feature_importance':feature_importance}\n",
    "    df_ = pd.DataFrame(data)\n",
    "\n",
    "# sortimg the DataFrame in order decreasing feature importance\n",
    "    df_.sort_values(by=['feature_importance'], ascending=False,inplace=True)\n",
    "\n",
    "# plotting the importances\n",
    "    plt.figure(figsize=(10,8))\n",
    "    sns.barplot(x=df_['feature_importance'], y=df_['feature_names'], color='#D62828' )\n",
    "# adding the labels\n",
    "    plt.title(title + 'Feature Importance')\n",
    "    plt.xlabel('Feature Importance')\n",
    "    plt.ylabel('Feature Names')"
   ]
  },
  {
   "cell_type": "code",
   "execution_count": 208,
   "metadata": {
    "scrolled": true
   },
   "outputs": [
    {
     "data": {
      "image/png": "[encoded data removed]",
      "text/plain": [
       "<Figure size 720x576 with 1 Axes>"
      ]
     },
     "metadata": {},
     "output_type": "display_data"
    }
   ],
   "source": [
    "plot_feature_importance(rf_gs.best_estimator_.named_steps['rf'].feature_importances_, X.columns, 'Random Forest  ')"
   ]
  },
  {
   "cell_type": "markdown",
   "metadata": {},
   "source": [
    "#### Recommendation Based On Model Performance"
   ]
  },
  {
   "attachments": {},
   "cell_type": "markdown",
   "metadata": {},
   "source": [
    "- Develop a marketing strategies  during the Calls: Since duration of the call is the feature that most positively correlates with whether a potential client will subscribe to  a term deposit or not, by providing an interesting questionnaire for potential clients during the calls the conversation length might increase. Of course, this does not assure us that the potential client will suscribe to a term deposit! Nevertheless, we don't loose anything by implementing a strategy that will increase the level of engagement of the potential client leading to an increase probability of suscribing to a term deposit.\n",
    "- The successful outcome of the previous marketing campaign did positively affect customers to subscribe to upcoming campaigns.I would highly recommend developing a loyalty program for the previously subscribed clients by giving them some bonuses and unique offers. \n",
    "    \n",
    "- House Loans and Balances: Potential clients in the average and high balances are less likely to have a house loan and therefore, more likely to open a term deposit. Lastly, the next marketing campaign should focus on individuals of average and high balances in order to increase the likelihood of subscribing to a term deposit\n"
   ]
  },
  {
   "cell_type": "markdown",
   "metadata": {},
   "source": [
    "#### Future Considertion\n"
   ]
  },
  {
   "cell_type": "markdown",
   "metadata": {},
   "source": [
    "This modelling is based on behaviour of clients and not on their motivations. The features reveal the actions of client but not his/her thought process. So more descriptive features can be useful here for example interview summary. In that case natural language processing will give better results. In these times of crisis preserving the relationship with best customers is more crucial than ever. Using these results bank can specifically target clients and gain higher success in their endeavours. Saving a lot of time by not focusing on clients with less probability is yet another advantages of this project."
   ]
  }
 ],
 "metadata": {
  "kernelspec": {
   "display_name": "Python 3",
   "language": "python",
   "name": "python3"
  },
  "language_info": {
   "codemirror_mode": {
    "name": "ipython",
    "version": 3
   },
   "file_extension": ".py",
   "mimetype": "text/x-python",
   "name": "python",
   "nbconvert_exporter": "python",
   "pygments_lexer": "ipython3",
   "version": "3.8.5"
  }
 },
 "nbformat": 4,
 "nbformat_minor": 4
}
